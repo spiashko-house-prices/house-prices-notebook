{
 "cells": [
  {
   "cell_type": "markdown",
   "metadata": {},
   "source": [
    "## Learn model\n",
    "## Content\n",
    "  * Load data\n",
    "  * Select features\n",
    "  * Learning\n",
    "    * linear\n",
    "    * lasso\n",
    "    * ridge\n",
    "    * elastic net\n",
    "    * Xgboost\n",
    "    * MLP\n",
    "  * Compare results"
   ]
  },
  {
   "cell_type": "code",
   "execution_count": null,
   "metadata": {
    "_cell_guid": "b1076dfc-b9ad-4769-8c92-a6c4dae69d19",
    "_uuid": "8f2839f25d086af736a60e9eeb907d3b93b6e0e5"
   },
   "outputs": [],
   "source": [
    "import os\n",
    "import pandas as pd\n",
    "import matplotlib.pyplot as plt\n",
    "import numpy as np\n",
    "from sklearn.preprocessing import StandardScaler\n",
    "from sklearn.model_selection import train_test_split\n",
    "from pymongo import MongoClient\n",
    "from keras import metrics\n",
    "import warnings\n",
    "import sklearn.linear_model as linear_model\n",
    "import sklearn.ensemble as ensemble\n",
    "import sklearn.neighbors as neighbors\n",
    "import sklearn.svm as svm\n",
    "\n",
    "%matplotlib inline\n",
    "\n",
    "warnings.filterwarnings('ignore')"
   ]
  },
  {
   "cell_type": "code",
   "execution_count": null,
   "metadata": {},
   "outputs": [],
   "source": [
    "MONGODB_URL = os.environ['AMES_MONGODB_URI']\n",
    "client = MongoClient(MONGODB_URL)\n",
    "db = client.get_default_database()"
   ]
  },
  {
   "cell_type": "code",
   "execution_count": null,
   "metadata": {},
   "outputs": [],
   "source": [
    "data = db[\"notebook\"].find({})\n",
    "full_frame = pd.DataFrame(list(data))\n",
    "full_frame.drop(columns=[\"_id\"], inplace=True)\n",
    "full_frame.shape"
   ]
  },
  {
   "cell_type": "markdown",
   "metadata": {},
   "source": [
    "### Select features"
   ]
  },
  {
   "cell_type": "code",
   "execution_count": null,
   "metadata": {},
   "outputs": [],
   "source": [
    "features = [\n",
    "#  'GrLivArea',\n",
    "]\n",
    "\n",
    "to_log_transform = [\n",
    "#     'GrLivArea', \n",
    "]\n",
    "\n",
    "to_pow_transform = [\n",
    "#     'GrLivArea', \n",
    "]\n",
    "\n",
    "to_boolean_transform = {\n",
    "#     'TotalBsmtSF': {'new_feature_name': 'HasBasement', 'threshold': 0},\n",
    "}"
   ]
  },
  {
   "cell_type": "markdown",
   "metadata": {},
   "source": [
    "## Learn model"
   ]
  },
  {
   "cell_type": "code",
   "execution_count": null,
   "metadata": {},
   "outputs": [],
   "source": [
    "def log_transformation(frame, feature):\n",
    "    new_feature_name = new_log_feature_name(feature)\n",
    "    frame[new_feature_name] = np.log1p(frame[feature].values)\n",
    "\n",
    "def new_quadratic_feature_name(feature):\n",
    "    return feature+'2'\n",
    "\n",
    "def new_log_feature_name(feature):\n",
    "    return feature+'Log'\n",
    "    \n",
    "def quadratic(frame, feature):\n",
    "    new_feature_name = new_quadratic_feature_name(feature)\n",
    "    frame[new_feature_name] = frame[feature]**2\n",
    "    \n",
    "def boolean_transformation(frame, feature, new_feature_name, threshold):\n",
    "    frame[new_feature_name] = frame[feature].apply(lambda x: 1 if x > threshold else 0)\n",
    "    \n",
    "def error(actual, predicted):\n",
    "    actual = np.log(actual)\n",
    "    predicted = np.log(predicted)\n",
    "    return np.sqrt(np.sum(np.square(actual-predicted))/len(actual))\n",
    "\n",
    "def error_mse(actual, predicted):\n",
    "    actual = (actual)\n",
    "    predicted = (predicted)\n",
    "    return np.sqrt(np.sum(np.square(actual-predicted))/len(actual))"
   ]
  },
  {
   "cell_type": "code",
   "execution_count": null,
   "metadata": {},
   "outputs": [],
   "source": [
    "added_boolean_columns = [to_boolean_transform[o]['new_feature_name'] for o in to_boolean_transform.keys()]\n",
    "\n",
    "added_quadratic_columns = list(map(new_quadratic_feature_name, to_pow_transform))\n",
    "\n",
    "added_log_columns = list(map(new_log_feature_name, to_log_transform))\n",
    "\n",
    "def transform_before_learn(frame, to_log_transform, to_pow_transform, to_boolean_transform):\n",
    "\n",
    "    for c in to_log_transform:\n",
    "        log_transformation(frame, c)\n",
    "\n",
    "    for c in to_pow_transform:\n",
    "        quadratic(frame, c)\n",
    "\n",
    "    for c in to_boolean_transform.keys():\n",
    "        boolean_transformation(frame, c, to_boolean_transform[c]['new_feature_name'], \n",
    "                               to_boolean_transform[c]['threshold']) \n",
    "\n",
    "\n",
    "transform_before_learn(full_frame, to_log_transform, to_pow_transform, to_boolean_transform)\n",
    "\n",
    "df_train = full_frame[:1460]\n",
    "df_test = full_frame[1460:]\n",
    "\n",
    "# features = list(set(features) - set(to_log_transform) - set(to_pow_transform))"
   ]
  },
  {
   "cell_type": "code",
   "execution_count": null,
   "metadata": {},
   "outputs": [],
   "source": [
    "features_full_list = features + added_boolean_columns + added_quadratic_columns + added_log_columns"
   ]
  },
  {
   "cell_type": "markdown",
   "metadata": {},
   "source": [
    "## Out liars"
   ]
  },
  {
   "cell_type": "code",
   "execution_count": null,
   "metadata": {},
   "outputs": [],
   "source": [
    "df_train_cleaned = df_train\n",
    "#df_train_cleaned = df_train.drop(df_train[df_train['Id'] == 1299].index)\n",
    "#df_train_cleaned = df_train.drop(df_train[df_train['Id'] == 524].index)"
   ]
  },
  {
   "cell_type": "markdown",
   "metadata": {},
   "source": [
    "### LinearRegression"
   ]
  },
  {
   "cell_type": "code",
   "execution_count": null,
   "metadata": {},
   "outputs": [],
   "source": [
    "X = df_train_cleaned[features_full_list]\n",
    "Y = df_train_cleaned['SalePrice'].values\n",
    "\n",
    "full_X = df_train[features_full_list]\n",
    "full_Y = df_train['SalePrice'].values\n",
    "\n",
    "linear = linear_model.LinearRegression()\n",
    "linear.fit(X, np.log1p(Y))\n",
    "\n",
    "Ypred_linear = np.expm1(linear.predict(full_X))\n",
    "print(error(full_Y, Ypred_linear))\n",
    "print(error_mse(full_Y, Ypred_linear))"
   ]
  },
  {
   "cell_type": "markdown",
   "metadata": {},
   "source": [
    "#### test dataset"
   ]
  },
  {
   "cell_type": "code",
   "execution_count": null,
   "metadata": {},
   "outputs": [],
   "source": [
    "full_test_X = df_test[features_full_list]\n",
    "test_Y = df_test['SalePrice'].values\n",
    "\n",
    "test_pred = np.expm1(linear.predict(full_test_X))\n",
    "\n",
    "print(error(test_Y, test_pred))\n",
    "print(error_mse(test_Y, test_pred))"
   ]
  },
  {
   "cell_type": "markdown",
   "metadata": {},
   "source": [
    "### LassoCV"
   ]
  },
  {
   "cell_type": "code",
   "execution_count": null,
   "metadata": {},
   "outputs": [],
   "source": [
    "X = df_train_cleaned[features_full_list]\n",
    "Y = df_train_cleaned['SalePrice'].values\n",
    "\n",
    "full_X = df_train[features_full_list]\n",
    "full_Y = df_train['SalePrice'].values\n",
    "\n",
    "lasso = linear_model.LassoCV()\n",
    "lasso.fit(X, np.log1p(Y))\n",
    "\n",
    "Ypred_lasso = np.expm1(lasso.predict(full_X))\n",
    "print(error(full_Y, Ypred_lasso))\n",
    "print(error_mse(full_Y, Ypred_linear))"
   ]
  },
  {
   "cell_type": "markdown",
   "metadata": {},
   "source": [
    "#### test dataset"
   ]
  },
  {
   "cell_type": "code",
   "execution_count": null,
   "metadata": {},
   "outputs": [],
   "source": [
    "full_test_X = df_test[features_full_list]\n",
    "test_Y = df_test['SalePrice'].values\n",
    "\n",
    "test_pred = np.expm1(lasso.predict(full_test_X))\n",
    "\n",
    "print(error(test_Y, test_pred))\n",
    "print(error_mse(test_Y, test_pred))"
   ]
  },
  {
   "cell_type": "markdown",
   "metadata": {},
   "source": [
    "### RidgeCV"
   ]
  },
  {
   "cell_type": "code",
   "execution_count": null,
   "metadata": {},
   "outputs": [],
   "source": [
    "X = df_train_cleaned[features_full_list]\n",
    "Y = df_train_cleaned['SalePrice'].values\n",
    "\n",
    "full_X = df_train[features_full_list]\n",
    "full_Y = df_train['SalePrice'].values\n",
    "\n",
    "ridge = linear_model.RidgeCV()\n",
    "ridge.fit(X, np.log1p(Y))\n",
    "Ypred_ridge = np.expm1(ridge.predict(full_X))\n",
    "print(error(full_Y,Ypred_ridge))\n",
    "print(error_mse(full_Y, Ypred_ridge))"
   ]
  },
  {
   "cell_type": "markdown",
   "metadata": {},
   "source": [
    "#### test dataset"
   ]
  },
  {
   "cell_type": "code",
   "execution_count": null,
   "metadata": {},
   "outputs": [],
   "source": [
    "full_test_X = df_test[features_full_list]\n",
    "test_Y = df_test['SalePrice'].values\n",
    "\n",
    "test_pred = np.expm1(ridge.predict(full_test_X))\n",
    "\n",
    "print(error(test_Y, test_pred))\n",
    "print(error_mse(test_Y, test_pred))"
   ]
  },
  {
   "cell_type": "markdown",
   "metadata": {},
   "source": [
    "### ElasticNetCV"
   ]
  },
  {
   "cell_type": "code",
   "execution_count": null,
   "metadata": {},
   "outputs": [],
   "source": [
    "X = df_train_cleaned[features_full_list]\n",
    "Y = df_train_cleaned['SalePrice'].values\n",
    "\n",
    "full_X = df_train[features_full_list]\n",
    "full_Y = df_train['SalePrice'].values\n",
    "\n",
    "elasticNet = linear_model.ElasticNetCV()\n",
    "elasticNet.fit(X, np.log1p(Y))\n",
    "Ypred_elasticNet = np.expm1(elasticNet.predict(full_X))\n",
    "print(error(full_Y,Ypred_elasticNet))\n",
    "print(error_mse(full_Y, Ypred_elasticNet))"
   ]
  },
  {
   "cell_type": "markdown",
   "metadata": {},
   "source": [
    "#### test dataset"
   ]
  },
  {
   "cell_type": "code",
   "execution_count": null,
   "metadata": {},
   "outputs": [],
   "source": [
    "full_test_X = df_test[features_full_list]\n",
    "test_Y = df_test['SalePrice'].values\n",
    "\n",
    "test_pred = np.expm1(elasticNet.predict(full_test_X))\n",
    "\n",
    "print(error(test_Y, test_pred))\n",
    "print(error_mse(test_Y, test_pred))"
   ]
  },
  {
   "cell_type": "markdown",
   "metadata": {},
   "source": [
    "### Xgboost"
   ]
  },
  {
   "cell_type": "code",
   "execution_count": null,
   "metadata": {},
   "outputs": [],
   "source": [
    "import xgboost as xgb"
   ]
  },
  {
   "cell_type": "code",
   "execution_count": null,
   "metadata": {},
   "outputs": [],
   "source": [
    "X = df_train_cleaned[features_full_list]\n",
    "Y = df_train_cleaned['SalePrice'].values\n",
    "\n",
    "full_X = df_train[features_full_list]\n",
    "full_Y = df_train['SalePrice'].values"
   ]
  },
  {
   "cell_type": "code",
   "execution_count": null,
   "metadata": {},
   "outputs": [],
   "source": [
    "X_tr, X_val, y_tr, y_val = train_test_split(X, np.log1p(Y), random_state = 42, test_size=0.20)\n",
    "\n",
    "eval_set = [(X_val, y_val)]"
   ]
  },
  {
   "cell_type": "code",
   "execution_count": null,
   "metadata": {},
   "outputs": [],
   "source": [
    "model_xgb = xgb.XGBRegressor(n_estimators=1000, max_depth=2, learning_rate=0.1)\n",
    "model_xgb.fit(X_tr, y_tr, eval_metric=\"rmse\", early_stopping_rounds=500, eval_set=eval_set, verbose=True)\n",
    "# model_xgb.fit(X, np.log1p(Y))"
   ]
  },
  {
   "cell_type": "code",
   "execution_count": null,
   "metadata": {},
   "outputs": [],
   "source": [
    "Ypred_xgb = np.expm1(model_xgb.predict(full_X))\n",
    "print(error(full_Y, Ypred_xgb))\n",
    "print(error_mse(full_Y, Ypred_xgb))"
   ]
  },
  {
   "cell_type": "markdown",
   "metadata": {},
   "source": [
    "#### test dataset"
   ]
  },
  {
   "cell_type": "code",
   "execution_count": null,
   "metadata": {},
   "outputs": [],
   "source": [
    "full_test_X = df_test[features_full_list]\n",
    "test_Y = df_test['SalePrice'].values\n",
    "\n",
    "test_pred = np.expm1(model_xgb.predict(full_test_X))\n",
    "\n",
    "print(error(test_Y, test_pred))\n",
    "print(error_mse(test_Y, test_pred))"
   ]
  },
  {
   "cell_type": "markdown",
   "metadata": {},
   "source": [
    "## MLP"
   ]
  },
  {
   "cell_type": "code",
   "execution_count": null,
   "metadata": {},
   "outputs": [],
   "source": [
    "import tensorflow as tf\n",
    "from keras.layers import Dense\n",
    "from keras.models import Sequential\n",
    "from keras.regularizers import l1\n",
    "from keras.callbacks import EarlyStopping\n",
    "from keras.callbacks import ModelCheckpoint \n",
    "from keras.callbacks import LearningRateScheduler\n",
    "from keras import optimizers\n",
    "from sklearn.preprocessing import StandardScaler\n",
    "from keras import backend as K\n",
    "from keras import losses\n",
    "\n",
    "tf.logging.set_verbosity(tf.logging.ERROR)\n",
    "tf.set_random_seed(42)\n",
    "np.random.seed(42)"
   ]
  },
  {
   "cell_type": "code",
   "execution_count": null,
   "metadata": {},
   "outputs": [],
   "source": [
    "mlp_feed = df_train[features]"
   ]
  },
  {
   "cell_type": "code",
   "execution_count": null,
   "metadata": {},
   "outputs": [],
   "source": [
    "X_tr, X_val, y_tr, y_val = train_test_split(mlp_feed, np.log1p(Y), random_state = 7, test_size=0.20)"
   ]
  },
  {
   "cell_type": "code",
   "execution_count": null,
   "metadata": {},
   "outputs": [],
   "source": [
    "model = Sequential()\n",
    "model.add(Dense(10, input_dim=mlp_feed.shape[1], activation='relu'))\n",
    "model.add(Dense(30, activation='relu'))\n",
    "model.add(Dense(40, activation='relu'))\n",
    "model.add(Dense(1))\n",
    "\n",
    "# adam = optimizers.Adam()\n",
    "# model.compile(loss = losses.mean_squared_error, optimizer = adam)\n",
    "\n",
    "model.compile(optimizer ='adam', loss = 'mean_squared_error', metrics =[metrics.mae])"
   ]
  },
  {
   "cell_type": "code",
   "execution_count": null,
   "metadata": {},
   "outputs": [],
   "source": [
    "model.summary()"
   ]
  },
  {
   "cell_type": "code",
   "execution_count": null,
   "metadata": {},
   "outputs": [],
   "source": [
    "monitor = EarlyStopping(monitor='val_loss', min_delta=1e-4, patience=20, verbose=1, mode='auto')\n",
    "checkpointer = ModelCheckpoint(filepath=\"best_weights.hdf5\", verbose=0, save_best_only=True)  # save best model"
   ]
  },
  {
   "cell_type": "code",
   "execution_count": null,
   "metadata": {},
   "outputs": [],
   "source": [
    "hist = model.fit(X_tr, y_tr, \n",
    "                 batch_size=1, \n",
    "                 validation_data = (X_val, y_val), \n",
    "                 callbacks=[monitor, checkpointer], \n",
    "                 verbose=1, \n",
    "                 epochs=150)"
   ]
  },
  {
   "cell_type": "code",
   "execution_count": null,
   "metadata": {},
   "outputs": [],
   "source": [
    "model.load_weights('best_weights.hdf5')  # load weights from best model\n",
    "\n",
    "# Measure accuracy\n",
    "Ypred_mlp = np.expm1(model.predict(mlp_feed))\n",
    "print(error(df_train['SalePrice'].values,Ypred_mlp))\n",
    "print(error_mse(df_train['SalePrice'].values, Ypred_mlp))"
   ]
  },
  {
   "cell_type": "markdown",
   "metadata": {},
   "source": [
    "#### test dataset"
   ]
  },
  {
   "cell_type": "code",
   "execution_count": null,
   "metadata": {},
   "outputs": [],
   "source": [
    "full_test_X = df_test[features]\n",
    "test_Y = df_test['SalePrice'].values\n",
    "\n",
    "test_pred = np.expm1(model.predict(full_test_X))\n",
    "\n",
    "print(error(test_Y, test_pred))\n",
    "print(error_mse(test_Y, test_pred))"
   ]
  },
  {
   "cell_type": "markdown",
   "metadata": {},
   "source": [
    "### RandomForest"
   ]
  },
  {
   "cell_type": "code",
   "execution_count": null,
   "metadata": {},
   "outputs": [],
   "source": [
    "X = df_train_cleaned[features_full_list]\n",
    "Y = df_train_cleaned['SalePrice'].values\n",
    "\n",
    "full_X = df_train[features_full_list]\n",
    "full_Y = df_train['SalePrice'].values\n",
    "\n",
    "randomForest = ensemble.RandomForestRegressor(n_estimators=100)\n",
    "randomForest.fit(X, np.log1p(Y))\n",
    "Ypred_randomForest = np.expm1(randomForest.predict(full_X))\n",
    "print(error(full_Y,Ypred_randomForest))\n",
    "print(error_mse(full_Y, Ypred_randomForest))"
   ]
  },
  {
   "cell_type": "markdown",
   "metadata": {},
   "source": [
    "#### test dataset"
   ]
  },
  {
   "cell_type": "code",
   "execution_count": null,
   "metadata": {},
   "outputs": [],
   "source": [
    "full_test_X = df_test[features_full_list]\n",
    "test_Y = df_test['SalePrice'].values\n",
    "\n",
    "test_pred = np.expm1(randomForest.predict(full_test_X))\n",
    "\n",
    "print(error(test_Y, test_pred))\n",
    "print(error_mse(test_Y, test_pred))"
   ]
  },
  {
   "cell_type": "markdown",
   "metadata": {},
   "source": [
    "### KNeighbors"
   ]
  },
  {
   "cell_type": "code",
   "execution_count": null,
   "metadata": {},
   "outputs": [],
   "source": [
    "X = df_train_cleaned[features_full_list]\n",
    "Y = df_train_cleaned['SalePrice'].values\n",
    "\n",
    "full_X = df_train[features_full_list]\n",
    "full_Y = df_train['SalePrice'].values\n",
    "\n",
    "knn = neighbors.KNeighborsRegressor()\n",
    "knn.fit(X, np.log1p(Y))\n",
    "Ypred_knn = np.expm1(knn.predict(full_X))\n",
    "print(error(full_Y,Ypred_knn))\n",
    "print(error_mse(full_Y, Ypred_knn))"
   ]
  },
  {
   "cell_type": "markdown",
   "metadata": {},
   "source": [
    "#### test dataset"
   ]
  },
  {
   "cell_type": "code",
   "execution_count": null,
   "metadata": {},
   "outputs": [],
   "source": [
    "full_test_X = df_test[features_full_list]\n",
    "test_Y = df_test['SalePrice'].values\n",
    "\n",
    "test_pred = np.expm1(knn.predict(full_test_X))\n",
    "\n",
    "print(error(test_Y, test_pred))\n",
    "print(error_mse(test_Y, test_pred))"
   ]
  },
  {
   "cell_type": "markdown",
   "metadata": {},
   "source": [
    "### SVR"
   ]
  },
  {
   "cell_type": "code",
   "execution_count": null,
   "metadata": {},
   "outputs": [],
   "source": [
    "X = df_train_cleaned[features_full_list]\n",
    "Y = df_train_cleaned['SalePrice'].values\n",
    "\n",
    "full_X = df_train[features_full_list]\n",
    "full_Y = df_train['SalePrice'].values\n",
    "\n",
    "svr = svm.SVR()\n",
    "svr.fit(X, np.log1p(Y))\n",
    "Ypred_svr = np.expm1(svr.predict(full_X))\n",
    "print(error(full_Y,Ypred_svr))\n",
    "print(error_mse(full_Y, Ypred_svr))"
   ]
  },
  {
   "cell_type": "markdown",
   "metadata": {},
   "source": [
    "#### test dataset"
   ]
  },
  {
   "cell_type": "code",
   "execution_count": null,
   "metadata": {},
   "outputs": [],
   "source": [
    "full_test_X = df_test[features_full_list]\n",
    "test_Y = df_test['SalePrice'].values\n",
    "\n",
    "test_pred = np.expm1(svr.predict(full_test_X))\n",
    "\n",
    "print(error(test_Y, test_pred))\n",
    "print(error_mse(test_Y, test_pred))"
   ]
  },
  {
   "cell_type": "markdown",
   "metadata": {},
   "source": [
    "## Compare results"
   ]
  },
  {
   "cell_type": "code",
   "execution_count": null,
   "metadata": {},
   "outputs": [],
   "source": [
    "predictions = pd.DataFrame({\"xgb\":Ypred_xgb, \"lasso\":Ypred_lasso})\n",
    "predictions.plot(x = \"xgb\", y = \"lasso\", kind = \"scatter\", grid=True)"
   ]
  },
  {
   "cell_type": "code",
   "execution_count": null,
   "metadata": {},
   "outputs": [],
   "source": [
    "predictions = pd.DataFrame({\"xgb\":Ypred_xgb, \"rigde\":Ypred_ridge})\n",
    "predictions.plot(x = \"xgb\", y = \"rigde\", kind = \"scatter\", grid=True)"
   ]
  },
  {
   "cell_type": "code",
   "execution_count": null,
   "metadata": {},
   "outputs": [],
   "source": [
    "predictions = pd.DataFrame({\"xgb\":Ypred_xgb, \"linear\":Ypred_linear})\n",
    "predictions.plot(x = \"xgb\", y = \"linear\", kind = \"scatter\", grid=True)"
   ]
  },
  {
   "cell_type": "code",
   "execution_count": null,
   "metadata": {},
   "outputs": [],
   "source": [
    "predictions = pd.DataFrame({\"xgb\":Ypred_xgb, \"randomForest\":Ypred_randomForest})\n",
    "predictions.plot(x = \"xgb\", y = \"randomForest\", kind = \"scatter\", grid=True)"
   ]
  },
  {
   "cell_type": "code",
   "execution_count": null,
   "metadata": {},
   "outputs": [],
   "source": [
    "predictions = pd.DataFrame({\"xgb\":Ypred_xgb, \"knn\":Ypred_knn})\n",
    "predictions.plot(x = \"xgb\", y = \"knn\", kind = \"scatter\", grid=True)"
   ]
  },
  {
   "cell_type": "code",
   "execution_count": null,
   "metadata": {},
   "outputs": [],
   "source": [
    "predictions = pd.DataFrame({\"xgb\":Ypred_xgb, \"svr\":Ypred_svr})\n",
    "predictions.plot(x = \"xgb\", y = \"svr\", kind = \"scatter\", grid=True)"
   ]
  },
  {
   "cell_type": "code",
   "execution_count": null,
   "metadata": {},
   "outputs": [],
   "source": []
  }
 ],
 "metadata": {
  "kernelspec": {
   "display_name": "Python 3",
   "language": "python",
   "name": "python3"
  },
  "language_info": {
   "codemirror_mode": {
    "name": "ipython",
    "version": 3
   },
   "file_extension": ".py",
   "mimetype": "text/x-python",
   "name": "python",
   "nbconvert_exporter": "python",
   "pygments_lexer": "ipython3",
   "version": "3.6.4"
  }
 },
 "nbformat": 4,
 "nbformat_minor": 1
}
