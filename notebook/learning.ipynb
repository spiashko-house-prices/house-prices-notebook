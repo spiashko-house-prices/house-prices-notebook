{
 "cells": [
  {
   "cell_type": "markdown",
   "metadata": {},
   "source": [
    "## Learn model\n",
    "## Content\n",
    "  * Load data\n",
    "  * Select features\n",
    "  * Learning\n",
    "    * linear\n",
    "    * lasso\n",
    "    * ridge\n",
    "    * elastic net\n",
    "    * Xgboost\n",
    "    * MLP"
   ]
  },
  {
   "cell_type": "code",
   "execution_count": 1,
   "metadata": {
    "_cell_guid": "b1076dfc-b9ad-4769-8c92-a6c4dae69d19",
    "_uuid": "8f2839f25d086af736a60e9eeb907d3b93b6e0e5"
   },
   "outputs": [],
   "source": [
    "import os\n",
    "import math\n",
    "import pandas as pd\n",
    "import matplotlib.pyplot as plt\n",
    "import seaborn as sns\n",
    "import numpy as np\n",
    "from scipy.stats import norm\n",
    "from sklearn.preprocessing import MinMaxScaler\n",
    "from sklearn.preprocessing import StandardScaler\n",
    "from scipy import stats\n",
    "from IPython.display import display, HTML\n",
    "from sklearn.model_selection import train_test_split\n",
    "from pymongo import MongoClient\n",
    "import warnings\n",
    "import sklearn.linear_model as linear_model\n",
    "%matplotlib inline\n",
    "\n",
    "warnings.filterwarnings('ignore')"
   ]
  },
  {
   "cell_type": "code",
   "execution_count": 2,
   "metadata": {},
   "outputs": [],
   "source": [
    "MONGODB_URL = os.environ['MONGODB_URI']\n",
    "client = MongoClient(MONGODB_URL)\n",
    "db = client.get_default_database()"
   ]
  },
  {
   "cell_type": "code",
   "execution_count": 3,
   "metadata": {},
   "outputs": [
    {
     "data": {
      "text/plain": [
       "(2928, 79)"
      ]
     },
     "execution_count": 3,
     "metadata": {},
     "output_type": "execute_result"
    }
   ],
   "source": [
    "data = db[\"notebook\"].find({})\n",
    "full_frame = pd.DataFrame(list(data))\n",
    "full_frame.drop(columns=[\"_id\"], inplace=True)\n",
    "full_frame.shape"
   ]
  },
  {
   "cell_type": "markdown",
   "metadata": {},
   "source": [
    "### Select features"
   ]
  },
  {
   "cell_type": "code",
   "execution_count": 4,
   "metadata": {},
   "outputs": [],
   "source": [
    "features = [\n",
    "    'Neighborhood',\n",
    "    'GarageFinish',\n",
    "    'Foundation',\n",
    "    'MasVnrType',\n",
    "    'GarageType',\n",
    "    'MSSubClass',\n",
    "    'GrLivArea',\n",
    "    'TotalBsmtSF',\n",
    "    'GarageCars',\n",
    "    'BsmtQual',\n",
    "    'YearBuilt',\n",
    "    'YearRemodAdd',\n",
    "    'FireplaceQu',\n",
    "    'FullBath',\n",
    "    'BsmtFinSF1',\n",
    "    'MasVnrArea']\n",
    "\n",
    "to_log_transform = ['GrLivArea', 'TotalBsmtSF', 'MasVnrArea', 'BsmtFinSF1']\n",
    "\n",
    "to_pow_transform = ['YearBuilt', 'YearRemodAdd', 'TotalBsmtSF', 'Neighborhood', 'GrLivArea']\n",
    "\n",
    "to_boolean_transform = {\n",
    "    'TotalBsmtSF': {'new_feature_name': 'HasBasement', 'threshold': 0},\n",
    "    'GarageArea': {'new_feature_name': 'HasGarage', 'threshold': 0},\n",
    "    '2ndFlrSF': {'new_feature_name': 'Has2ndFloor', 'threshold': 0},\n",
    "    'MasVnrArea': {'new_feature_name': 'HasMasVnr', 'threshold': 0},\n",
    "    'WoodDeckSF': {'new_feature_name': 'HasWoodDeck', 'threshold': 0},\n",
    "    'OpenPorchSF': {'new_feature_name': 'HasPorch', 'threshold': 0},\n",
    "    'PoolArea': {'new_feature_name': 'HasPool', 'threshold': 0},\n",
    "    'YearBuilt': {'new_feature_name': 'IsNew', 'threshold': 2000},\n",
    "}"
   ]
  },
  {
   "cell_type": "markdown",
   "metadata": {},
   "source": [
    "## Learn model"
   ]
  },
  {
   "cell_type": "code",
   "execution_count": 5,
   "metadata": {},
   "outputs": [],
   "source": [
    "def log_transformation(frame, feature):\n",
    "    new_feature_name = new_log_feature_name(feature)\n",
    "    frame[new_feature_name] = np.log1p(frame[feature].values)\n",
    "\n",
    "def new_quadratic_feature_name(feature):\n",
    "    return feature+'2'\n",
    "\n",
    "def new_log_feature_name(feature):\n",
    "    return feature+'Log'\n",
    "    \n",
    "def quadratic(frame, feature):\n",
    "    new_feature_name = new_quadratic_feature_name(feature)\n",
    "    frame[new_feature_name] = frame[feature]**2\n",
    "    \n",
    "def boolean_transformation(frame, feature, new_feature_name, threshold):\n",
    "    frame[new_feature_name] = frame[feature].apply(lambda x: 1 if x > threshold else 0)\n",
    "    \n",
    "def error(actual, predicted):\n",
    "    actual = np.log(actual)\n",
    "    predicted = np.log(predicted)\n",
    "    return np.sqrt(np.sum(np.square(actual-predicted))/len(actual))\n",
    "\n",
    "def error_mse(actual, predicted):\n",
    "    actual = (actual)\n",
    "    predicted = (predicted)\n",
    "    return np.sqrt(np.sum(np.square(actual-predicted))/len(actual))"
   ]
  },
  {
   "cell_type": "code",
   "execution_count": 6,
   "metadata": {},
   "outputs": [],
   "source": [
    "added_boolean_columns = [\n",
    "    'HasBasement', \n",
    "    'HasGarage', \n",
    "    'Has2ndFloor', \n",
    "    'HasMasVnr', \n",
    "    'HasWoodDeck',\n",
    "    'HasPorch', \n",
    "    'HasPool', \n",
    "    'IsNew']\n",
    "\n",
    "added_quadratic_columns = list(map(new_quadratic_feature_name, to_pow_transform))\n",
    "\n",
    "added_log_columns = list(map(new_log_feature_name, to_log_transform))\n",
    "\n",
    "def transform_before_learn(frame, to_log_transform, to_pow_transform, to_boolean_transform):\n",
    "\n",
    "    for c in to_log_transform:\n",
    "        log_transformation(frame, c)\n",
    "\n",
    "    for c in to_pow_transform:\n",
    "        quadratic(frame, c)\n",
    "\n",
    "    for c in to_boolean_transform.keys():\n",
    "        boolean_transformation(frame, c, to_boolean_transform[c]['new_feature_name'], \n",
    "                               to_boolean_transform[c]['threshold']) \n",
    "\n",
    "\n",
    "transform_before_learn(full_frame, to_log_transform, to_pow_transform, to_boolean_transform)\n",
    "\n",
    "df_train = full_frame[:1460]\n",
    "df_test = full_frame[1460:]"
   ]
  },
  {
   "cell_type": "code",
   "execution_count": 7,
   "metadata": {},
   "outputs": [],
   "source": [
    "features_full_list = features + added_boolean_columns + added_quadratic_columns + added_log_columns"
   ]
  },
  {
   "cell_type": "markdown",
   "metadata": {},
   "source": [
    "## Out liars"
   ]
  },
  {
   "cell_type": "code",
   "execution_count": 8,
   "metadata": {},
   "outputs": [],
   "source": [
    "df_train_cleaned = df_train\n",
    "#df_train_cleaned = df_train.drop(df_train[df_train['Id'] == 1299].index)\n",
    "#df_train_cleaned = df_train.drop(df_train[df_train['Id'] == 524].index)"
   ]
  },
  {
   "cell_type": "markdown",
   "metadata": {},
   "source": [
    "### LinearRegression"
   ]
  },
  {
   "cell_type": "code",
   "execution_count": 9,
   "metadata": {},
   "outputs": [
    {
     "name": "stdout",
     "output_type": "stream",
     "text": [
      "0.14350553665809343\n",
      "28409.372376053554\n"
     ]
    }
   ],
   "source": [
    "X = df_train_cleaned[features_full_list]\n",
    "Y = df_train_cleaned['SalePrice'].values\n",
    "\n",
    "full_X = df_train[features_full_list]\n",
    "full_Y = df_train['SalePrice'].values\n",
    "\n",
    "linear = linear_model.LinearRegression()\n",
    "linear.fit(X, np.log1p(Y))\n",
    "\n",
    "Ypred_linear = np.expm1(linear.predict(full_X))\n",
    "print(error(full_Y, Ypred_linear))\n",
    "print(error_mse(full_Y, Ypred_linear))"
   ]
  },
  {
   "cell_type": "markdown",
   "metadata": {},
   "source": [
    "#### test dataset"
   ]
  },
  {
   "cell_type": "code",
   "execution_count": 10,
   "metadata": {},
   "outputs": [
    {
     "name": "stdout",
     "output_type": "stream",
     "text": [
      "0.1572632283139389\n",
      "26215.797935890478\n"
     ]
    }
   ],
   "source": [
    "full_test_X = df_test[features_full_list]\n",
    "test_Y = df_test['SalePrice'].values\n",
    "\n",
    "test_pred = np.expm1(linear.predict(full_test_X))\n",
    "\n",
    "print(error(test_Y, test_pred))\n",
    "print(error_mse(test_Y, test_pred))"
   ]
  },
  {
   "cell_type": "markdown",
   "metadata": {},
   "source": [
    "### LassoCV"
   ]
  },
  {
   "cell_type": "code",
   "execution_count": 11,
   "metadata": {},
   "outputs": [
    {
     "name": "stdout",
     "output_type": "stream",
     "text": [
      "0.24221631303400099\n",
      "28409.372376053554\n"
     ]
    }
   ],
   "source": [
    "X = df_train_cleaned[features_full_list]\n",
    "Y = df_train_cleaned['SalePrice'].values\n",
    "\n",
    "full_X = df_train[features_full_list]\n",
    "full_Y = df_train['SalePrice'].values\n",
    "\n",
    "lasso = linear_model.LassoCV()\n",
    "lasso.fit(X, np.log1p(Y))\n",
    "\n",
    "Ypred_lasso = np.expm1(lasso.predict(full_X))\n",
    "print(error(full_Y, Ypred_lasso))\n",
    "print(error_mse(full_Y, Ypred_linear))"
   ]
  },
  {
   "cell_type": "markdown",
   "metadata": {},
   "source": [
    "#### test dataset"
   ]
  },
  {
   "cell_type": "code",
   "execution_count": 12,
   "metadata": {},
   "outputs": [
    {
     "name": "stdout",
     "output_type": "stream",
     "text": [
      "0.2422063181996949\n",
      "47414.119621120786\n"
     ]
    }
   ],
   "source": [
    "full_test_X = df_test[features_full_list]\n",
    "test_Y = df_test['SalePrice'].values\n",
    "\n",
    "test_pred = np.expm1(lasso.predict(full_test_X))\n",
    "\n",
    "print(error(test_Y, test_pred))\n",
    "print(error_mse(test_Y, test_pred))"
   ]
  },
  {
   "cell_type": "markdown",
   "metadata": {},
   "source": [
    "### RidgeCV"
   ]
  },
  {
   "cell_type": "code",
   "execution_count": 13,
   "metadata": {},
   "outputs": [
    {
     "name": "stdout",
     "output_type": "stream",
     "text": [
      "0.22325121591333777\n",
      "49752.73335593299\n"
     ]
    }
   ],
   "source": [
    "X = df_train_cleaned[features_full_list]\n",
    "Y = df_train_cleaned['SalePrice'].values\n",
    "\n",
    "full_X = df_train[features_full_list]\n",
    "full_Y = df_train['SalePrice'].values\n",
    "\n",
    "ridge = linear_model.RidgeCV()\n",
    "ridge.fit(X, np.log1p(Y))\n",
    "Ypred_ridge = np.expm1(ridge.predict(full_X))\n",
    "print(error(full_Y,Ypred_ridge))\n",
    "print(error_mse(full_Y, Ypred_ridge))"
   ]
  },
  {
   "cell_type": "markdown",
   "metadata": {},
   "source": [
    "#### test dataset"
   ]
  },
  {
   "cell_type": "code",
   "execution_count": 14,
   "metadata": {},
   "outputs": [
    {
     "name": "stdout",
     "output_type": "stream",
     "text": [
      "0.19930383529788964\n",
      "41291.4927524926\n"
     ]
    }
   ],
   "source": [
    "full_test_X = df_test[features_full_list]\n",
    "test_Y = df_test['SalePrice'].values\n",
    "\n",
    "test_pred = np.expm1(ridge.predict(full_test_X))\n",
    "\n",
    "print(error(test_Y, test_pred))\n",
    "print(error_mse(test_Y, test_pred))"
   ]
  },
  {
   "cell_type": "markdown",
   "metadata": {},
   "source": [
    "### ElasticNetCV"
   ]
  },
  {
   "cell_type": "code",
   "execution_count": 15,
   "metadata": {},
   "outputs": [
    {
     "name": "stdout",
     "output_type": "stream",
     "text": [
      "0.2422163132230314\n",
      "78156.03507810256\n"
     ]
    }
   ],
   "source": [
    "X = df_train_cleaned[features_full_list]\n",
    "Y = df_train_cleaned['SalePrice'].values\n",
    "\n",
    "full_X = df_train[features_full_list]\n",
    "full_Y = df_train['SalePrice'].values\n",
    "\n",
    "elasticNet = linear_model.ElasticNetCV()\n",
    "elasticNet.fit(X, np.log1p(Y))\n",
    "Ypred_elasticNet = np.expm1(elasticNet.predict(full_X))\n",
    "print(error(full_Y,Ypred_elasticNet))\n",
    "print(error_mse(full_Y, Ypred_elasticNet))"
   ]
  },
  {
   "cell_type": "markdown",
   "metadata": {},
   "source": [
    "#### test dataset"
   ]
  },
  {
   "cell_type": "code",
   "execution_count": 16,
   "metadata": {},
   "outputs": [
    {
     "name": "stdout",
     "output_type": "stream",
     "text": [
      "0.24220631862484118\n",
      "47414.11977487526\n"
     ]
    }
   ],
   "source": [
    "full_test_X = df_test[features_full_list]\n",
    "test_Y = df_test['SalePrice'].values\n",
    "\n",
    "test_pred = np.expm1(elasticNet.predict(full_test_X))\n",
    "\n",
    "print(error(test_Y, test_pred))\n",
    "print(error_mse(test_Y, test_pred))"
   ]
  },
  {
   "cell_type": "markdown",
   "metadata": {},
   "source": [
    "### Xgboost"
   ]
  },
  {
   "cell_type": "code",
   "execution_count": 17,
   "metadata": {},
   "outputs": [],
   "source": [
    "import xgboost as xgb"
   ]
  },
  {
   "cell_type": "code",
   "execution_count": 18,
   "metadata": {},
   "outputs": [],
   "source": [
    "X = df_train_cleaned[features_full_list]\n",
    "Y = df_train_cleaned['SalePrice'].values\n",
    "\n",
    "full_X = df_train[features_full_list]\n",
    "full_Y = df_train['SalePrice'].values"
   ]
  },
  {
   "cell_type": "code",
   "execution_count": 19,
   "metadata": {},
   "outputs": [],
   "source": [
    "dtrain = xgb.DMatrix(X, label = np.log(Y))\n",
    "\n",
    "params = {\"max_depth\":2, \"eta\":0.1}\n",
    "model = xgb.cv(params, dtrain,  num_boost_round=500, early_stopping_rounds=100)"
   ]
  },
  {
   "cell_type": "code",
   "execution_count": 20,
   "metadata": {},
   "outputs": [
    {
     "data": {
      "text/plain": [
       "<matplotlib.axes._subplots.AxesSubplot at 0x7ff5802b1048>"
      ]
     },
     "execution_count": 20,
     "metadata": {},
     "output_type": "execute_result"
    },
    {
     "data": {
      "image/png": "[encoded data removed]",
      "text/plain": [
       "<matplotlib.figure.Figure at 0x7ff58039efd0>"
      ]
     },
     "metadata": {},
     "output_type": "display_data"
    }
   ],
   "source": [
    "model.loc[30:,[\"test-rmse-mean\", \"train-rmse-mean\"]].plot()"
   ]
  },
  {
   "cell_type": "code",
   "execution_count": 21,
   "metadata": {},
   "outputs": [],
   "source": [
    "X_tr, X_val, y_tr, y_val = train_test_split(X, np.log1p(Y), random_state = 42, test_size=0.20)\n",
    "\n",
    "eval_set = [(X_val, y_val)]"
   ]
  },
  {
   "cell_type": "code",
   "execution_count": 22,
   "metadata": {},
   "outputs": [
    {
     "name": "stdout",
     "output_type": "stream",
     "text": [
      "[0]\tvalidation_0-rmse:10.3548\n",
      "Will train until validation_0-rmse hasn't improved in 500 rounds.\n",
      "[1]\tvalidation_0-rmse:9.31671\n",
      "[2]\tvalidation_0-rmse:8.38255\n",
      "[3]\tvalidation_0-rmse:7.5463\n",
      "[4]\tvalidation_0-rmse:6.7915\n",
      "[5]\tvalidation_0-rmse:6.11422\n",
      "[6]\tvalidation_0-rmse:5.50272\n",
      "[7]\tvalidation_0-rmse:4.95413\n",
      "[8]\tvalidation_0-rmse:4.45872\n",
      "[9]\tvalidation_0-rmse:4.01307\n",
      "[10]\tvalidation_0-rmse:3.61238\n",
      "[11]\tvalidation_0-rmse:3.25175\n",
      "[12]\tvalidation_0-rmse:2.92664\n",
      "[13]\tvalidation_0-rmse:2.6336\n",
      "[14]\tvalidation_0-rmse:2.37059\n",
      "[15]\tvalidation_0-rmse:2.13545\n",
      "[16]\tvalidation_0-rmse:1.92325\n",
      "[17]\tvalidation_0-rmse:1.73222\n",
      "[18]\tvalidation_0-rmse:1.56111\n",
      "[19]\tvalidation_0-rmse:1.40508\n",
      "[20]\tvalidation_0-rmse:1.26612\n",
      "[21]\tvalidation_0-rmse:1.14132\n",
      "[22]\tvalidation_0-rmse:1.02856\n",
      "[23]\tvalidation_0-rmse:0.928054\n",
      "[24]\tvalidation_0-rmse:0.838128\n",
      "[25]\tvalidation_0-rmse:0.756725\n",
      "[26]\tvalidation_0-rmse:0.683733\n",
      "[27]\tvalidation_0-rmse:0.617998\n",
      "[28]\tvalidation_0-rmse:0.559514\n",
      "[29]\tvalidation_0-rmse:0.507401\n",
      "[30]\tvalidation_0-rmse:0.460887\n",
      "[31]\tvalidation_0-rmse:0.419519\n",
      "[32]\tvalidation_0-rmse:0.382295\n",
      "[33]\tvalidation_0-rmse:0.349412\n",
      "[34]\tvalidation_0-rmse:0.32009\n",
      "[35]\tvalidation_0-rmse:0.294734\n",
      "[36]\tvalidation_0-rmse:0.27175\n",
      "[37]\tvalidation_0-rmse:0.252257\n",
      "[38]\tvalidation_0-rmse:0.234619\n",
      "[39]\tvalidation_0-rmse:0.219739\n",
      "[40]\tvalidation_0-rmse:0.207\n",
      "[41]\tvalidation_0-rmse:0.195871\n",
      "[42]\tvalidation_0-rmse:0.186607\n",
      "[43]\tvalidation_0-rmse:0.17872\n",
      "[44]\tvalidation_0-rmse:0.17211\n",
      "[45]\tvalidation_0-rmse:0.167298\n",
      "[46]\tvalidation_0-rmse:0.162262\n",
      "[47]\tvalidation_0-rmse:0.158193\n",
      "[48]\tvalidation_0-rmse:0.15523\n",
      "[49]\tvalidation_0-rmse:0.152686\n",
      "[50]\tvalidation_0-rmse:0.150856\n",
      "[51]\tvalidation_0-rmse:0.149247\n",
      "[52]\tvalidation_0-rmse:0.14732\n",
      "[53]\tvalidation_0-rmse:0.146392\n",
      "[54]\tvalidation_0-rmse:0.145851\n",
      "[55]\tvalidation_0-rmse:0.144933\n",
      "[56]\tvalidation_0-rmse:0.144343\n",
      "[57]\tvalidation_0-rmse:0.143742\n",
      "[58]\tvalidation_0-rmse:0.143215\n",
      "[59]\tvalidation_0-rmse:0.142785\n",
      "[60]\tvalidation_0-rmse:0.142525\n",
      "[61]\tvalidation_0-rmse:0.142689\n",
      "[62]\tvalidation_0-rmse:0.142208\n",
      "[63]\tvalidation_0-rmse:0.142365\n",
      "[64]\tvalidation_0-rmse:0.142273\n",
      "[65]\tvalidation_0-rmse:0.142308\n",
      "[66]\tvalidation_0-rmse:0.142035\n",
      "[67]\tvalidation_0-rmse:0.14176\n",
      "[68]\tvalidation_0-rmse:0.141657\n",
      "[69]\tvalidation_0-rmse:0.141189\n",
      "[70]\tvalidation_0-rmse:0.14117\n",
      "[71]\tvalidation_0-rmse:0.141185\n",
      "[72]\tvalidation_0-rmse:0.140984\n",
      "[73]\tvalidation_0-rmse:0.140501\n",
      "[74]\tvalidation_0-rmse:0.14043\n",
      "[75]\tvalidation_0-rmse:0.140678\n",
      "[76]\tvalidation_0-rmse:0.140811\n",
      "[77]\tvalidation_0-rmse:0.140812\n",
      "[78]\tvalidation_0-rmse:0.140772\n",
      "[79]\tvalidation_0-rmse:0.140858\n",
      "[80]\tvalidation_0-rmse:0.140704\n",
      "[81]\tvalidation_0-rmse:0.140311\n",
      "[82]\tvalidation_0-rmse:0.140371\n",
      "[83]\tvalidation_0-rmse:0.140361\n",
      "[84]\tvalidation_0-rmse:0.14031\n",
      "[85]\tvalidation_0-rmse:0.14029\n",
      "[86]\tvalidation_0-rmse:0.140063\n",
      "[87]\tvalidation_0-rmse:0.139787\n",
      "[88]\tvalidation_0-rmse:0.139733\n",
      "[89]\tvalidation_0-rmse:0.139581\n",
      "[90]\tvalidation_0-rmse:0.139558\n",
      "[91]\tvalidation_0-rmse:0.139841\n",
      "[92]\tvalidation_0-rmse:0.13988\n",
      "[93]\tvalidation_0-rmse:0.13983\n",
      "[94]\tvalidation_0-rmse:0.139983\n",
      "[95]\tvalidation_0-rmse:0.140065\n",
      "[96]\tvalidation_0-rmse:0.140018\n",
      "[97]\tvalidation_0-rmse:0.139781\n",
      "[98]\tvalidation_0-rmse:0.13968\n",
      "[99]\tvalidation_0-rmse:0.139833\n",
      "[100]\tvalidation_0-rmse:0.13961\n",
      "[101]\tvalidation_0-rmse:0.139635\n",
      "[102]\tvalidation_0-rmse:0.139575\n",
      "[103]\tvalidation_0-rmse:0.13975\n",
      "[104]\tvalidation_0-rmse:0.139736\n",
      "[105]\tvalidation_0-rmse:0.139735\n",
      "[106]\tvalidation_0-rmse:0.139632\n",
      "[107]\tvalidation_0-rmse:0.13944\n",
      "[108]\tvalidation_0-rmse:0.13934\n",
      "[109]\tvalidation_0-rmse:0.139284\n",
      "[110]\tvalidation_0-rmse:0.139251\n",
      "[111]\tvalidation_0-rmse:0.139129\n",
      "[112]\tvalidation_0-rmse:0.139069\n",
      "[113]\tvalidation_0-rmse:0.139226\n",
      "[114]\tvalidation_0-rmse:0.13922\n",
      "[115]\tvalidation_0-rmse:0.139149\n",
      "[116]\tvalidation_0-rmse:0.139085\n",
      "[117]\tvalidation_0-rmse:0.138939\n",
      "[118]\tvalidation_0-rmse:0.138858\n",
      "[119]\tvalidation_0-rmse:0.138709\n",
      "[120]\tvalidation_0-rmse:0.138854\n",
      "[121]\tvalidation_0-rmse:0.138976\n",
      "[122]\tvalidation_0-rmse:0.138935\n",
      "[123]\tvalidation_0-rmse:0.138976\n",
      "[124]\tvalidation_0-rmse:0.138962\n",
      "[125]\tvalidation_0-rmse:0.138842\n",
      "[126]\tvalidation_0-rmse:0.138921\n",
      "[127]\tvalidation_0-rmse:0.138866\n",
      "[128]\tvalidation_0-rmse:0.138786\n",
      "[129]\tvalidation_0-rmse:0.138742\n",
      "[130]\tvalidation_0-rmse:0.138705\n",
      "[131]\tvalidation_0-rmse:0.138498\n",
      "[132]\tvalidation_0-rmse:0.138413\n",
      "[133]\tvalidation_0-rmse:0.138447\n",
      "[134]\tvalidation_0-rmse:0.138425\n",
      "[135]\tvalidation_0-rmse:0.13842\n",
      "[136]\tvalidation_0-rmse:0.138402\n",
      "[137]\tvalidation_0-rmse:0.138299\n",
      "[138]\tvalidation_0-rmse:0.138293\n",
      "[139]\tvalidation_0-rmse:0.138283\n",
      "[140]\tvalidation_0-rmse:0.138259\n",
      "[141]\tvalidation_0-rmse:0.138322\n",
      "[142]\tvalidation_0-rmse:0.138586\n",
      "[143]\tvalidation_0-rmse:0.138648\n",
      "[144]\tvalidation_0-rmse:0.138576\n",
      "[145]\tvalidation_0-rmse:0.13849\n",
      "[146]\tvalidation_0-rmse:0.138592\n",
      "[147]\tvalidation_0-rmse:0.138595\n",
      "[148]\tvalidation_0-rmse:0.138628\n",
      "[149]\tvalidation_0-rmse:0.138612\n",
      "[150]\tvalidation_0-rmse:0.13861\n",
      "[151]\tvalidation_0-rmse:0.138617\n",
      "[152]\tvalidation_0-rmse:0.13855\n",
      "[153]\tvalidation_0-rmse:0.13859\n",
      "[154]\tvalidation_0-rmse:0.138652\n",
      "[155]\tvalidation_0-rmse:0.138635\n",
      "[156]\tvalidation_0-rmse:0.138512\n",
      "[157]\tvalidation_0-rmse:0.138628\n",
      "[158]\tvalidation_0-rmse:0.138611\n",
      "[159]\tvalidation_0-rmse:0.138599\n",
      "[160]\tvalidation_0-rmse:0.138548\n",
      "[161]\tvalidation_0-rmse:0.138459\n",
      "[162]\tvalidation_0-rmse:0.13828\n",
      "[163]\tvalidation_0-rmse:0.138281\n",
      "[164]\tvalidation_0-rmse:0.138173\n",
      "[165]\tvalidation_0-rmse:0.138151\n",
      "[166]\tvalidation_0-rmse:0.138161\n",
      "[167]\tvalidation_0-rmse:0.138187\n",
      "[168]\tvalidation_0-rmse:0.138212\n",
      "[169]\tvalidation_0-rmse:0.138224\n",
      "[170]\tvalidation_0-rmse:0.138196\n",
      "[171]\tvalidation_0-rmse:0.138195\n",
      "[172]\tvalidation_0-rmse:0.138208\n",
      "[173]\tvalidation_0-rmse:0.138437\n",
      "[174]\tvalidation_0-rmse:0.138428\n",
      "[175]\tvalidation_0-rmse:0.138428\n",
      "[176]\tvalidation_0-rmse:0.138324\n",
      "[177]\tvalidation_0-rmse:0.138444\n",
      "[178]\tvalidation_0-rmse:0.138454\n",
      "[179]\tvalidation_0-rmse:0.138395\n",
      "[180]\tvalidation_0-rmse:0.138408\n",
      "[181]\tvalidation_0-rmse:0.138406\n",
      "[182]\tvalidation_0-rmse:0.138405\n",
      "[183]\tvalidation_0-rmse:0.138327\n",
      "[184]\tvalidation_0-rmse:0.138321\n",
      "[185]\tvalidation_0-rmse:0.138583\n",
      "[186]\tvalidation_0-rmse:0.13836\n",
      "[187]\tvalidation_0-rmse:0.138325\n",
      "[188]\tvalidation_0-rmse:0.138319\n",
      "[189]\tvalidation_0-rmse:0.138401\n",
      "[190]\tvalidation_0-rmse:0.138458\n",
      "[191]\tvalidation_0-rmse:0.138477\n",
      "[192]\tvalidation_0-rmse:0.138433\n",
      "[193]\tvalidation_0-rmse:0.138454\n",
      "[194]\tvalidation_0-rmse:0.138389\n",
      "[195]\tvalidation_0-rmse:0.138639\n",
      "[196]\tvalidation_0-rmse:0.138605\n",
      "[197]\tvalidation_0-rmse:0.138603\n",
      "[198]\tvalidation_0-rmse:0.138626\n",
      "[199]\tvalidation_0-rmse:0.138632\n",
      "[200]\tvalidation_0-rmse:0.138586\n",
      "[201]\tvalidation_0-rmse:0.138461\n",
      "[202]\tvalidation_0-rmse:0.138499\n",
      "[203]\tvalidation_0-rmse:0.138562\n",
      "[204]\tvalidation_0-rmse:0.13854\n",
      "[205]\tvalidation_0-rmse:0.138545\n",
      "[206]\tvalidation_0-rmse:0.138465\n",
      "[207]\tvalidation_0-rmse:0.138396\n",
      "[208]\tvalidation_0-rmse:0.138179\n",
      "[209]\tvalidation_0-rmse:0.138029\n",
      "[210]\tvalidation_0-rmse:0.13803\n",
      "[211]\tvalidation_0-rmse:0.137866\n",
      "[212]\tvalidation_0-rmse:0.137921\n",
      "[213]\tvalidation_0-rmse:0.138103\n",
      "[214]\tvalidation_0-rmse:0.138136\n",
      "[215]\tvalidation_0-rmse:0.138144\n",
      "[216]\tvalidation_0-rmse:0.138139\n",
      "[217]\tvalidation_0-rmse:0.138153\n",
      "[218]\tvalidation_0-rmse:0.138362\n",
      "[219]\tvalidation_0-rmse:0.13838\n",
      "[220]\tvalidation_0-rmse:0.138316\n",
      "[221]\tvalidation_0-rmse:0.138329\n",
      "[222]\tvalidation_0-rmse:0.138349\n",
      "[223]\tvalidation_0-rmse:0.138286\n",
      "[224]\tvalidation_0-rmse:0.138279\n",
      "[225]\tvalidation_0-rmse:0.13823\n",
      "[226]\tvalidation_0-rmse:0.138126\n",
      "[227]\tvalidation_0-rmse:0.138114\n",
      "[228]\tvalidation_0-rmse:0.138077\n",
      "[229]\tvalidation_0-rmse:0.138092\n",
      "[230]\tvalidation_0-rmse:0.13817\n",
      "[231]\tvalidation_0-rmse:0.138205\n",
      "[232]\tvalidation_0-rmse:0.138572\n",
      "[233]\tvalidation_0-rmse:0.138594\n",
      "[234]\tvalidation_0-rmse:0.138557\n",
      "[235]\tvalidation_0-rmse:0.138567\n",
      "[236]\tvalidation_0-rmse:0.138568\n",
      "[237]\tvalidation_0-rmse:0.138519\n",
      "[238]\tvalidation_0-rmse:0.13854\n",
      "[239]\tvalidation_0-rmse:0.13847\n",
      "[240]\tvalidation_0-rmse:0.138416\n",
      "[241]\tvalidation_0-rmse:0.138393\n",
      "[242]\tvalidation_0-rmse:0.138446\n",
      "[243]\tvalidation_0-rmse:0.138524\n",
      "[244]\tvalidation_0-rmse:0.138492\n",
      "[245]\tvalidation_0-rmse:0.138489\n",
      "[246]\tvalidation_0-rmse:0.138516\n",
      "[247]\tvalidation_0-rmse:0.138487\n",
      "[248]\tvalidation_0-rmse:0.138458\n",
      "[249]\tvalidation_0-rmse:0.13865\n",
      "[250]\tvalidation_0-rmse:0.138684\n",
      "[251]\tvalidation_0-rmse:0.138683\n"
     ]
    },
    {
     "name": "stdout",
     "output_type": "stream",
     "text": [
      "[252]\tvalidation_0-rmse:0.138747\n",
      "[253]\tvalidation_0-rmse:0.138747\n",
      "[254]\tvalidation_0-rmse:0.138746\n",
      "[255]\tvalidation_0-rmse:0.138933\n",
      "[256]\tvalidation_0-rmse:0.138997\n",
      "[257]\tvalidation_0-rmse:0.138984\n",
      "[258]\tvalidation_0-rmse:0.138986\n",
      "[259]\tvalidation_0-rmse:0.138907\n",
      "[260]\tvalidation_0-rmse:0.13888\n",
      "[261]\tvalidation_0-rmse:0.138824\n",
      "[262]\tvalidation_0-rmse:0.138833\n",
      "[263]\tvalidation_0-rmse:0.139171\n",
      "[264]\tvalidation_0-rmse:0.139195\n",
      "[265]\tvalidation_0-rmse:0.139233\n",
      "[266]\tvalidation_0-rmse:0.139244\n",
      "[267]\tvalidation_0-rmse:0.139159\n",
      "[268]\tvalidation_0-rmse:0.139197\n",
      "[269]\tvalidation_0-rmse:0.139205\n",
      "[270]\tvalidation_0-rmse:0.139241\n",
      "[271]\tvalidation_0-rmse:0.139237\n",
      "[272]\tvalidation_0-rmse:0.139268\n",
      "[273]\tvalidation_0-rmse:0.139243\n",
      "[274]\tvalidation_0-rmse:0.139279\n",
      "[275]\tvalidation_0-rmse:0.139251\n",
      "[276]\tvalidation_0-rmse:0.139246\n",
      "[277]\tvalidation_0-rmse:0.139219\n",
      "[278]\tvalidation_0-rmse:0.139296\n",
      "[279]\tvalidation_0-rmse:0.139297\n",
      "[280]\tvalidation_0-rmse:0.139314\n",
      "[281]\tvalidation_0-rmse:0.139289\n",
      "[282]\tvalidation_0-rmse:0.139286\n",
      "[283]\tvalidation_0-rmse:0.139264\n",
      "[284]\tvalidation_0-rmse:0.139277\n",
      "[285]\tvalidation_0-rmse:0.139245\n",
      "[286]\tvalidation_0-rmse:0.139236\n",
      "[287]\tvalidation_0-rmse:0.139233\n",
      "[288]\tvalidation_0-rmse:0.139253\n",
      "[289]\tvalidation_0-rmse:0.13925\n",
      "[290]\tvalidation_0-rmse:0.139188\n",
      "[291]\tvalidation_0-rmse:0.139183\n",
      "[292]\tvalidation_0-rmse:0.139167\n",
      "[293]\tvalidation_0-rmse:0.13917\n",
      "[294]\tvalidation_0-rmse:0.139105\n",
      "[295]\tvalidation_0-rmse:0.13909\n",
      "[296]\tvalidation_0-rmse:0.139102\n",
      "[297]\tvalidation_0-rmse:0.139067\n",
      "[298]\tvalidation_0-rmse:0.13909\n",
      "[299]\tvalidation_0-rmse:0.139029\n",
      "[300]\tvalidation_0-rmse:0.139028\n",
      "[301]\tvalidation_0-rmse:0.139088\n",
      "[302]\tvalidation_0-rmse:0.139133\n",
      "[303]\tvalidation_0-rmse:0.139173\n",
      "[304]\tvalidation_0-rmse:0.139172\n",
      "[305]\tvalidation_0-rmse:0.139248\n",
      "[306]\tvalidation_0-rmse:0.139287\n",
      "[307]\tvalidation_0-rmse:0.1393\n",
      "[308]\tvalidation_0-rmse:0.139234\n",
      "[309]\tvalidation_0-rmse:0.139236\n",
      "[310]\tvalidation_0-rmse:0.139263\n",
      "[311]\tvalidation_0-rmse:0.139237\n",
      "[312]\tvalidation_0-rmse:0.139312\n",
      "[313]\tvalidation_0-rmse:0.139319\n",
      "[314]\tvalidation_0-rmse:0.139488\n",
      "[315]\tvalidation_0-rmse:0.13956\n",
      "[316]\tvalidation_0-rmse:0.139574\n",
      "[317]\tvalidation_0-rmse:0.139577\n",
      "[318]\tvalidation_0-rmse:0.139612\n",
      "[319]\tvalidation_0-rmse:0.139609\n",
      "[320]\tvalidation_0-rmse:0.139614\n",
      "[321]\tvalidation_0-rmse:0.139611\n",
      "[322]\tvalidation_0-rmse:0.139632\n",
      "[323]\tvalidation_0-rmse:0.139604\n",
      "[324]\tvalidation_0-rmse:0.139671\n",
      "[325]\tvalidation_0-rmse:0.139708\n",
      "[326]\tvalidation_0-rmse:0.139877\n",
      "[327]\tvalidation_0-rmse:0.139941\n",
      "[328]\tvalidation_0-rmse:0.139954\n",
      "[329]\tvalidation_0-rmse:0.139627\n",
      "[330]\tvalidation_0-rmse:0.139592\n",
      "[331]\tvalidation_0-rmse:0.13965\n",
      "[332]\tvalidation_0-rmse:0.139719\n",
      "[333]\tvalidation_0-rmse:0.139711\n",
      "[334]\tvalidation_0-rmse:0.139732\n",
      "[335]\tvalidation_0-rmse:0.139729\n",
      "[336]\tvalidation_0-rmse:0.139769\n",
      "[337]\tvalidation_0-rmse:0.139783\n",
      "[338]\tvalidation_0-rmse:0.139826\n",
      "[339]\tvalidation_0-rmse:0.139844\n",
      "[340]\tvalidation_0-rmse:0.139944\n",
      "[341]\tvalidation_0-rmse:0.139993\n",
      "[342]\tvalidation_0-rmse:0.13994\n",
      "[343]\tvalidation_0-rmse:0.139914\n",
      "[344]\tvalidation_0-rmse:0.13993\n",
      "[345]\tvalidation_0-rmse:0.139968\n",
      "[346]\tvalidation_0-rmse:0.139994\n",
      "[347]\tvalidation_0-rmse:0.140019\n",
      "[348]\tvalidation_0-rmse:0.139985\n",
      "[349]\tvalidation_0-rmse:0.140013\n",
      "[350]\tvalidation_0-rmse:0.139911\n",
      "[351]\tvalidation_0-rmse:0.140093\n",
      "[352]\tvalidation_0-rmse:0.140094\n",
      "[353]\tvalidation_0-rmse:0.139751\n",
      "[354]\tvalidation_0-rmse:0.139735\n",
      "[355]\tvalidation_0-rmse:0.139874\n",
      "[356]\tvalidation_0-rmse:0.139874\n",
      "[357]\tvalidation_0-rmse:0.139963\n",
      "[358]\tvalidation_0-rmse:0.140004\n",
      "[359]\tvalidation_0-rmse:0.139958\n",
      "[360]\tvalidation_0-rmse:0.140005\n",
      "[361]\tvalidation_0-rmse:0.13995\n",
      "[362]\tvalidation_0-rmse:0.139963\n",
      "[363]\tvalidation_0-rmse:0.139923\n",
      "[364]\tvalidation_0-rmse:0.139923\n",
      "[365]\tvalidation_0-rmse:0.139914\n",
      "[366]\tvalidation_0-rmse:0.13993\n",
      "[367]\tvalidation_0-rmse:0.139819\n",
      "[368]\tvalidation_0-rmse:0.139827\n",
      "[369]\tvalidation_0-rmse:0.139843\n",
      "[370]\tvalidation_0-rmse:0.139879\n",
      "[371]\tvalidation_0-rmse:0.139926\n",
      "[372]\tvalidation_0-rmse:0.139854\n",
      "[373]\tvalidation_0-rmse:0.13987\n",
      "[374]\tvalidation_0-rmse:0.139935\n",
      "[375]\tvalidation_0-rmse:0.139992\n",
      "[376]\tvalidation_0-rmse:0.139943\n",
      "[377]\tvalidation_0-rmse:0.139956\n",
      "[378]\tvalidation_0-rmse:0.140001\n",
      "[379]\tvalidation_0-rmse:0.14013\n",
      "[380]\tvalidation_0-rmse:0.140129\n",
      "[381]\tvalidation_0-rmse:0.140131\n",
      "[382]\tvalidation_0-rmse:0.14019\n",
      "[383]\tvalidation_0-rmse:0.140191\n",
      "[384]\tvalidation_0-rmse:0.140261\n",
      "[385]\tvalidation_0-rmse:0.140311\n",
      "[386]\tvalidation_0-rmse:0.140326\n",
      "[387]\tvalidation_0-rmse:0.140372\n",
      "[388]\tvalidation_0-rmse:0.140317\n",
      "[389]\tvalidation_0-rmse:0.140329\n",
      "[390]\tvalidation_0-rmse:0.140286\n",
      "[391]\tvalidation_0-rmse:0.140373\n",
      "[392]\tvalidation_0-rmse:0.140338\n",
      "[393]\tvalidation_0-rmse:0.140346\n",
      "[394]\tvalidation_0-rmse:0.140391\n",
      "[395]\tvalidation_0-rmse:0.140362\n",
      "[396]\tvalidation_0-rmse:0.140391\n",
      "[397]\tvalidation_0-rmse:0.140432\n",
      "[398]\tvalidation_0-rmse:0.140295\n",
      "[399]\tvalidation_0-rmse:0.140324\n",
      "[400]\tvalidation_0-rmse:0.140341\n",
      "[401]\tvalidation_0-rmse:0.140338\n",
      "[402]\tvalidation_0-rmse:0.140352\n",
      "[403]\tvalidation_0-rmse:0.140382\n",
      "[404]\tvalidation_0-rmse:0.140339\n",
      "[405]\tvalidation_0-rmse:0.140369\n",
      "[406]\tvalidation_0-rmse:0.14046\n",
      "[407]\tvalidation_0-rmse:0.140411\n",
      "[408]\tvalidation_0-rmse:0.140224\n",
      "[409]\tvalidation_0-rmse:0.140136\n",
      "[410]\tvalidation_0-rmse:0.140143\n",
      "[411]\tvalidation_0-rmse:0.140161\n",
      "[412]\tvalidation_0-rmse:0.140207\n",
      "[413]\tvalidation_0-rmse:0.140222\n",
      "[414]\tvalidation_0-rmse:0.140187\n",
      "[415]\tvalidation_0-rmse:0.140209\n",
      "[416]\tvalidation_0-rmse:0.140248\n",
      "[417]\tvalidation_0-rmse:0.140271\n",
      "[418]\tvalidation_0-rmse:0.140311\n",
      "[419]\tvalidation_0-rmse:0.140345\n",
      "[420]\tvalidation_0-rmse:0.140252\n",
      "[421]\tvalidation_0-rmse:0.140184\n",
      "[422]\tvalidation_0-rmse:0.140227\n",
      "[423]\tvalidation_0-rmse:0.140153\n",
      "[424]\tvalidation_0-rmse:0.140188\n",
      "[425]\tvalidation_0-rmse:0.140269\n",
      "[426]\tvalidation_0-rmse:0.140237\n",
      "[427]\tvalidation_0-rmse:0.140327\n",
      "[428]\tvalidation_0-rmse:0.140261\n",
      "[429]\tvalidation_0-rmse:0.140215\n",
      "[430]\tvalidation_0-rmse:0.14023\n",
      "[431]\tvalidation_0-rmse:0.140165\n",
      "[432]\tvalidation_0-rmse:0.140157\n",
      "[433]\tvalidation_0-rmse:0.140145\n",
      "[434]\tvalidation_0-rmse:0.140096\n",
      "[435]\tvalidation_0-rmse:0.14011\n",
      "[436]\tvalidation_0-rmse:0.140166\n",
      "[437]\tvalidation_0-rmse:0.140185\n",
      "[438]\tvalidation_0-rmse:0.140185\n",
      "[439]\tvalidation_0-rmse:0.140184\n",
      "[440]\tvalidation_0-rmse:0.1401\n",
      "[441]\tvalidation_0-rmse:0.140135\n",
      "[442]\tvalidation_0-rmse:0.140301\n",
      "[443]\tvalidation_0-rmse:0.140247\n",
      "[444]\tvalidation_0-rmse:0.140274\n",
      "[445]\tvalidation_0-rmse:0.140311\n",
      "[446]\tvalidation_0-rmse:0.140292\n",
      "[447]\tvalidation_0-rmse:0.140321\n",
      "[448]\tvalidation_0-rmse:0.140299\n",
      "[449]\tvalidation_0-rmse:0.140214\n",
      "[450]\tvalidation_0-rmse:0.1402\n",
      "[451]\tvalidation_0-rmse:0.1402\n",
      "[452]\tvalidation_0-rmse:0.140156\n",
      "[453]\tvalidation_0-rmse:0.140121\n",
      "[454]\tvalidation_0-rmse:0.140127\n",
      "[455]\tvalidation_0-rmse:0.140118\n",
      "[456]\tvalidation_0-rmse:0.140194\n",
      "[457]\tvalidation_0-rmse:0.140119\n",
      "[458]\tvalidation_0-rmse:0.14019\n",
      "[459]\tvalidation_0-rmse:0.140277\n",
      "[460]\tvalidation_0-rmse:0.140296\n",
      "[461]\tvalidation_0-rmse:0.140449\n",
      "[462]\tvalidation_0-rmse:0.140463\n",
      "[463]\tvalidation_0-rmse:0.140528\n",
      "[464]\tvalidation_0-rmse:0.140698\n",
      "[465]\tvalidation_0-rmse:0.140658\n",
      "[466]\tvalidation_0-rmse:0.140683\n",
      "[467]\tvalidation_0-rmse:0.140631\n",
      "[468]\tvalidation_0-rmse:0.140601\n",
      "[469]\tvalidation_0-rmse:0.140553\n",
      "[470]\tvalidation_0-rmse:0.140527\n",
      "[471]\tvalidation_0-rmse:0.140542\n",
      "[472]\tvalidation_0-rmse:0.140568\n",
      "[473]\tvalidation_0-rmse:0.140562\n",
      "[474]\tvalidation_0-rmse:0.140545\n",
      "[475]\tvalidation_0-rmse:0.140479\n",
      "[476]\tvalidation_0-rmse:0.140262\n",
      "[477]\tvalidation_0-rmse:0.140267\n",
      "[478]\tvalidation_0-rmse:0.140307\n",
      "[479]\tvalidation_0-rmse:0.140312\n",
      "[480]\tvalidation_0-rmse:0.140256\n",
      "[481]\tvalidation_0-rmse:0.140207\n",
      "[482]\tvalidation_0-rmse:0.140252\n",
      "[483]\tvalidation_0-rmse:0.140252\n",
      "[484]\tvalidation_0-rmse:0.140251\n",
      "[485]\tvalidation_0-rmse:0.140266\n",
      "[486]\tvalidation_0-rmse:0.140294\n",
      "[487]\tvalidation_0-rmse:0.140281\n",
      "[488]\tvalidation_0-rmse:0.14018\n",
      "[489]\tvalidation_0-rmse:0.140174\n",
      "[490]\tvalidation_0-rmse:0.140191\n",
      "[491]\tvalidation_0-rmse:0.140192\n",
      "[492]\tvalidation_0-rmse:0.140212\n",
      "[493]\tvalidation_0-rmse:0.140189\n",
      "[494]\tvalidation_0-rmse:0.140147\n",
      "[495]\tvalidation_0-rmse:0.140156\n",
      "[496]\tvalidation_0-rmse:0.140059\n",
      "[497]\tvalidation_0-rmse:0.140079\n",
      "[498]\tvalidation_0-rmse:0.140248\n",
      "[499]\tvalidation_0-rmse:0.140265\n",
      "[500]\tvalidation_0-rmse:0.140291\n",
      "[501]\tvalidation_0-rmse:0.140286\n"
     ]
    },
    {
     "name": "stdout",
     "output_type": "stream",
     "text": [
      "[502]\tvalidation_0-rmse:0.140301\n",
      "[503]\tvalidation_0-rmse:0.140313\n",
      "[504]\tvalidation_0-rmse:0.140338\n",
      "[505]\tvalidation_0-rmse:0.140343\n",
      "[506]\tvalidation_0-rmse:0.140364\n",
      "[507]\tvalidation_0-rmse:0.1403\n",
      "[508]\tvalidation_0-rmse:0.140313\n",
      "[509]\tvalidation_0-rmse:0.140301\n",
      "[510]\tvalidation_0-rmse:0.140309\n",
      "[511]\tvalidation_0-rmse:0.140239\n",
      "[512]\tvalidation_0-rmse:0.140218\n",
      "[513]\tvalidation_0-rmse:0.140238\n",
      "[514]\tvalidation_0-rmse:0.140364\n",
      "[515]\tvalidation_0-rmse:0.140337\n",
      "[516]\tvalidation_0-rmse:0.14029\n",
      "[517]\tvalidation_0-rmse:0.140254\n",
      "[518]\tvalidation_0-rmse:0.14017\n",
      "[519]\tvalidation_0-rmse:0.140196\n",
      "[520]\tvalidation_0-rmse:0.1402\n",
      "[521]\tvalidation_0-rmse:0.140185\n",
      "[522]\tvalidation_0-rmse:0.140223\n",
      "[523]\tvalidation_0-rmse:0.14031\n",
      "[524]\tvalidation_0-rmse:0.140397\n",
      "[525]\tvalidation_0-rmse:0.140427\n",
      "[526]\tvalidation_0-rmse:0.140452\n",
      "[527]\tvalidation_0-rmse:0.140448\n",
      "[528]\tvalidation_0-rmse:0.140453\n",
      "[529]\tvalidation_0-rmse:0.140458\n",
      "[530]\tvalidation_0-rmse:0.140447\n",
      "[531]\tvalidation_0-rmse:0.14048\n",
      "[532]\tvalidation_0-rmse:0.140455\n",
      "[533]\tvalidation_0-rmse:0.140428\n",
      "[534]\tvalidation_0-rmse:0.140511\n",
      "[535]\tvalidation_0-rmse:0.140515\n",
      "[536]\tvalidation_0-rmse:0.140468\n",
      "[537]\tvalidation_0-rmse:0.140437\n",
      "[538]\tvalidation_0-rmse:0.140418\n",
      "[539]\tvalidation_0-rmse:0.140439\n",
      "[540]\tvalidation_0-rmse:0.140465\n",
      "[541]\tvalidation_0-rmse:0.140463\n",
      "[542]\tvalidation_0-rmse:0.140437\n",
      "[543]\tvalidation_0-rmse:0.140518\n",
      "[544]\tvalidation_0-rmse:0.140527\n",
      "[545]\tvalidation_0-rmse:0.140585\n",
      "[546]\tvalidation_0-rmse:0.140554\n",
      "[547]\tvalidation_0-rmse:0.140575\n",
      "[548]\tvalidation_0-rmse:0.140553\n",
      "[549]\tvalidation_0-rmse:0.140556\n",
      "[550]\tvalidation_0-rmse:0.140644\n",
      "[551]\tvalidation_0-rmse:0.140625\n",
      "[552]\tvalidation_0-rmse:0.140674\n",
      "[553]\tvalidation_0-rmse:0.140678\n",
      "[554]\tvalidation_0-rmse:0.140701\n",
      "[555]\tvalidation_0-rmse:0.140683\n",
      "[556]\tvalidation_0-rmse:0.140696\n",
      "[557]\tvalidation_0-rmse:0.140737\n",
      "[558]\tvalidation_0-rmse:0.140707\n",
      "[559]\tvalidation_0-rmse:0.140721\n",
      "[560]\tvalidation_0-rmse:0.140735\n",
      "[561]\tvalidation_0-rmse:0.140755\n",
      "[562]\tvalidation_0-rmse:0.140754\n",
      "[563]\tvalidation_0-rmse:0.140779\n",
      "[564]\tvalidation_0-rmse:0.140798\n",
      "[565]\tvalidation_0-rmse:0.140765\n",
      "[566]\tvalidation_0-rmse:0.14075\n",
      "[567]\tvalidation_0-rmse:0.140772\n",
      "[568]\tvalidation_0-rmse:0.140822\n",
      "[569]\tvalidation_0-rmse:0.140796\n",
      "[570]\tvalidation_0-rmse:0.140795\n",
      "[571]\tvalidation_0-rmse:0.140747\n",
      "[572]\tvalidation_0-rmse:0.140726\n",
      "[573]\tvalidation_0-rmse:0.140788\n",
      "[574]\tvalidation_0-rmse:0.140838\n",
      "[575]\tvalidation_0-rmse:0.140855\n",
      "[576]\tvalidation_0-rmse:0.14069\n",
      "[577]\tvalidation_0-rmse:0.140732\n",
      "[578]\tvalidation_0-rmse:0.1407\n",
      "[579]\tvalidation_0-rmse:0.14071\n",
      "[580]\tvalidation_0-rmse:0.140728\n",
      "[581]\tvalidation_0-rmse:0.140726\n",
      "[582]\tvalidation_0-rmse:0.140688\n",
      "[583]\tvalidation_0-rmse:0.140697\n",
      "[584]\tvalidation_0-rmse:0.140745\n",
      "[585]\tvalidation_0-rmse:0.140823\n",
      "[586]\tvalidation_0-rmse:0.140872\n",
      "[587]\tvalidation_0-rmse:0.140914\n",
      "[588]\tvalidation_0-rmse:0.140936\n",
      "[589]\tvalidation_0-rmse:0.140907\n",
      "[590]\tvalidation_0-rmse:0.140882\n",
      "[591]\tvalidation_0-rmse:0.140841\n",
      "[592]\tvalidation_0-rmse:0.140838\n",
      "[593]\tvalidation_0-rmse:0.140861\n",
      "[594]\tvalidation_0-rmse:0.140847\n",
      "[595]\tvalidation_0-rmse:0.14092\n",
      "[596]\tvalidation_0-rmse:0.140942\n",
      "[597]\tvalidation_0-rmse:0.140902\n",
      "[598]\tvalidation_0-rmse:0.140882\n",
      "[599]\tvalidation_0-rmse:0.140894\n",
      "[600]\tvalidation_0-rmse:0.140887\n",
      "[601]\tvalidation_0-rmse:0.140861\n",
      "[602]\tvalidation_0-rmse:0.14082\n",
      "[603]\tvalidation_0-rmse:0.140866\n",
      "[604]\tvalidation_0-rmse:0.140933\n",
      "[605]\tvalidation_0-rmse:0.140958\n",
      "[606]\tvalidation_0-rmse:0.140937\n",
      "[607]\tvalidation_0-rmse:0.14093\n",
      "[608]\tvalidation_0-rmse:0.140969\n",
      "[609]\tvalidation_0-rmse:0.140989\n",
      "[610]\tvalidation_0-rmse:0.14094\n",
      "[611]\tvalidation_0-rmse:0.140871\n",
      "[612]\tvalidation_0-rmse:0.140876\n",
      "[613]\tvalidation_0-rmse:0.140899\n",
      "[614]\tvalidation_0-rmse:0.140872\n",
      "[615]\tvalidation_0-rmse:0.140892\n",
      "[616]\tvalidation_0-rmse:0.140899\n",
      "[617]\tvalidation_0-rmse:0.140934\n",
      "[618]\tvalidation_0-rmse:0.140928\n",
      "[619]\tvalidation_0-rmse:0.140964\n",
      "[620]\tvalidation_0-rmse:0.140971\n",
      "[621]\tvalidation_0-rmse:0.14099\n",
      "[622]\tvalidation_0-rmse:0.140967\n",
      "[623]\tvalidation_0-rmse:0.140992\n",
      "[624]\tvalidation_0-rmse:0.141013\n",
      "[625]\tvalidation_0-rmse:0.14097\n",
      "[626]\tvalidation_0-rmse:0.14096\n",
      "[627]\tvalidation_0-rmse:0.140969\n",
      "[628]\tvalidation_0-rmse:0.140933\n",
      "[629]\tvalidation_0-rmse:0.140961\n",
      "[630]\tvalidation_0-rmse:0.140965\n",
      "[631]\tvalidation_0-rmse:0.14098\n",
      "[632]\tvalidation_0-rmse:0.140968\n",
      "[633]\tvalidation_0-rmse:0.140907\n",
      "[634]\tvalidation_0-rmse:0.14094\n",
      "[635]\tvalidation_0-rmse:0.140923\n",
      "[636]\tvalidation_0-rmse:0.140882\n",
      "[637]\tvalidation_0-rmse:0.140857\n",
      "[638]\tvalidation_0-rmse:0.140857\n",
      "[639]\tvalidation_0-rmse:0.140865\n",
      "[640]\tvalidation_0-rmse:0.140848\n",
      "[641]\tvalidation_0-rmse:0.140793\n",
      "[642]\tvalidation_0-rmse:0.140809\n",
      "[643]\tvalidation_0-rmse:0.140764\n",
      "[644]\tvalidation_0-rmse:0.140806\n",
      "[645]\tvalidation_0-rmse:0.140802\n",
      "[646]\tvalidation_0-rmse:0.140759\n",
      "[647]\tvalidation_0-rmse:0.140796\n",
      "[648]\tvalidation_0-rmse:0.140781\n",
      "[649]\tvalidation_0-rmse:0.140847\n",
      "[650]\tvalidation_0-rmse:0.140893\n",
      "[651]\tvalidation_0-rmse:0.140878\n",
      "[652]\tvalidation_0-rmse:0.140891\n",
      "[653]\tvalidation_0-rmse:0.140771\n",
      "[654]\tvalidation_0-rmse:0.140762\n",
      "[655]\tvalidation_0-rmse:0.140784\n",
      "[656]\tvalidation_0-rmse:0.140848\n",
      "[657]\tvalidation_0-rmse:0.140893\n",
      "[658]\tvalidation_0-rmse:0.140875\n",
      "[659]\tvalidation_0-rmse:0.14084\n",
      "[660]\tvalidation_0-rmse:0.140863\n",
      "[661]\tvalidation_0-rmse:0.140841\n",
      "[662]\tvalidation_0-rmse:0.140846\n",
      "[663]\tvalidation_0-rmse:0.140837\n",
      "[664]\tvalidation_0-rmse:0.140903\n",
      "[665]\tvalidation_0-rmse:0.140896\n",
      "[666]\tvalidation_0-rmse:0.140955\n",
      "[667]\tvalidation_0-rmse:0.140896\n",
      "[668]\tvalidation_0-rmse:0.140856\n",
      "[669]\tvalidation_0-rmse:0.140789\n",
      "[670]\tvalidation_0-rmse:0.140735\n",
      "[671]\tvalidation_0-rmse:0.140738\n",
      "[672]\tvalidation_0-rmse:0.140699\n",
      "[673]\tvalidation_0-rmse:0.140698\n",
      "[674]\tvalidation_0-rmse:0.140694\n",
      "[675]\tvalidation_0-rmse:0.140691\n",
      "[676]\tvalidation_0-rmse:0.140728\n",
      "[677]\tvalidation_0-rmse:0.140729\n",
      "[678]\tvalidation_0-rmse:0.140694\n",
      "[679]\tvalidation_0-rmse:0.140759\n",
      "[680]\tvalidation_0-rmse:0.140755\n",
      "[681]\tvalidation_0-rmse:0.140726\n",
      "[682]\tvalidation_0-rmse:0.140674\n",
      "[683]\tvalidation_0-rmse:0.140672\n",
      "[684]\tvalidation_0-rmse:0.140617\n",
      "[685]\tvalidation_0-rmse:0.140614\n",
      "[686]\tvalidation_0-rmse:0.140658\n",
      "[687]\tvalidation_0-rmse:0.140677\n",
      "[688]\tvalidation_0-rmse:0.14064\n",
      "[689]\tvalidation_0-rmse:0.140664\n",
      "[690]\tvalidation_0-rmse:0.14066\n",
      "[691]\tvalidation_0-rmse:0.140681\n",
      "[692]\tvalidation_0-rmse:0.140739\n",
      "[693]\tvalidation_0-rmse:0.140745\n",
      "[694]\tvalidation_0-rmse:0.140716\n",
      "[695]\tvalidation_0-rmse:0.140653\n",
      "[696]\tvalidation_0-rmse:0.140649\n",
      "[697]\tvalidation_0-rmse:0.140793\n",
      "[698]\tvalidation_0-rmse:0.140758\n",
      "[699]\tvalidation_0-rmse:0.140704\n",
      "[700]\tvalidation_0-rmse:0.140684\n",
      "[701]\tvalidation_0-rmse:0.140672\n",
      "[702]\tvalidation_0-rmse:0.140719\n",
      "[703]\tvalidation_0-rmse:0.140711\n",
      "[704]\tvalidation_0-rmse:0.140751\n",
      "[705]\tvalidation_0-rmse:0.140742\n",
      "[706]\tvalidation_0-rmse:0.140775\n",
      "[707]\tvalidation_0-rmse:0.14074\n",
      "[708]\tvalidation_0-rmse:0.140717\n",
      "[709]\tvalidation_0-rmse:0.140723\n",
      "[710]\tvalidation_0-rmse:0.140733\n",
      "[711]\tvalidation_0-rmse:0.140756\n",
      "Stopping. Best iteration:\n",
      "[211]\tvalidation_0-rmse:0.137866\n",
      "\n"
     ]
    },
    {
     "data": {
      "text/plain": [
       "XGBRegressor(base_score=0.5, booster='gbtree', colsample_bylevel=1,\n",
       "       colsample_bytree=1, gamma=0, learning_rate=0.1, max_delta_step=0,\n",
       "       max_depth=2, min_child_weight=1, missing=None, n_estimators=1000,\n",
       "       n_jobs=1, nthread=None, objective='reg:linear', random_state=0,\n",
       "       reg_alpha=0, reg_lambda=1, scale_pos_weight=1, seed=None,\n",
       "       silent=True, subsample=1)"
      ]
     },
     "execution_count": 22,
     "metadata": {},
     "output_type": "execute_result"
    }
   ],
   "source": [
    "model_xgb = xgb.XGBRegressor(n_estimators=1000, max_depth=2, learning_rate=0.1)\n",
    "model_xgb.fit(X_tr, y_tr, eval_metric=\"rmse\", early_stopping_rounds=500, eval_set=eval_set, verbose=True)\n",
    "# model_xgb.fit(X, np.log1p(Y))"
   ]
  },
  {
   "cell_type": "code",
   "execution_count": 23,
   "metadata": {},
   "outputs": [
    {
     "name": "stdout",
     "output_type": "stream",
     "text": [
      "0.09455873766448827\n",
      "18652.37414655679\n"
     ]
    }
   ],
   "source": [
    "xgb_preds = np.expm1(model_xgb.predict(full_X))\n",
    "print(error(full_Y, xgb_preds))\n",
    "print(error_mse(full_Y, xgb_preds))"
   ]
  },
  {
   "cell_type": "markdown",
   "metadata": {},
   "source": [
    "#### test dataset"
   ]
  },
  {
   "cell_type": "code",
   "execution_count": 24,
   "metadata": {},
   "outputs": [
    {
     "name": "stdout",
     "output_type": "stream",
     "text": [
      "0.15669669841517272\n",
      "24714.182776707265\n"
     ]
    }
   ],
   "source": [
    "full_test_X = df_test[features_full_list]\n",
    "test_Y = df_test['SalePrice'].values\n",
    "\n",
    "test_pred = np.expm1(model_xgb.predict(full_test_X))\n",
    "\n",
    "print(error(test_Y, test_pred))\n",
    "print(error_mse(test_Y, test_pred))"
   ]
  },
  {
   "cell_type": "markdown",
   "metadata": {},
   "source": [
    "## MLP"
   ]
  },
  {
   "cell_type": "code",
   "execution_count": 25,
   "metadata": {},
   "outputs": [
    {
     "name": "stderr",
     "output_type": "stream",
     "text": [
      "Using TensorFlow backend.\n"
     ]
    }
   ],
   "source": [
    "import tensorflow as tf\n",
    "from keras.layers import Dense\n",
    "from keras.models import Sequential\n",
    "from keras.regularizers import l1\n",
    "from keras.callbacks import EarlyStopping\n",
    "from keras.callbacks import ModelCheckpoint \n",
    "from keras.callbacks import LearningRateScheduler\n",
    "from keras import optimizers\n",
    "from sklearn.preprocessing import StandardScaler\n",
    "from keras import backend as K\n",
    "from keras import losses"
   ]
  },
  {
   "cell_type": "code",
   "execution_count": 26,
   "metadata": {},
   "outputs": [],
   "source": [
    "tf.logging.set_verbosity(tf.logging.ERROR)\n",
    "tf.set_random_seed(42)\n",
    "np.random.seed(42)"
   ]
  },
  {
   "cell_type": "code",
   "execution_count": 27,
   "metadata": {},
   "outputs": [],
   "source": [
    "mlp_feed = df_train[features]"
   ]
  },
  {
   "cell_type": "code",
   "execution_count": 28,
   "metadata": {},
   "outputs": [
    {
     "data": {
      "text/plain": [
       "StandardScaler(copy=True, with_mean=True, with_std=True)"
      ]
     },
     "execution_count": 28,
     "metadata": {},
     "output_type": "execute_result"
    }
   ],
   "source": [
    "scaler = StandardScaler()\n",
    "scaler.fit(mlp_feed)"
   ]
  },
  {
   "cell_type": "code",
   "execution_count": 29,
   "metadata": {},
   "outputs": [],
   "source": [
    "X_train = scaler.transform(mlp_feed)"
   ]
  },
  {
   "cell_type": "code",
   "execution_count": 30,
   "metadata": {},
   "outputs": [],
   "source": [
    "X_tr, X_val, y_tr, y_val = train_test_split(X_train, np.log(Y), random_state = 3, test_size=0.20)"
   ]
  },
  {
   "cell_type": "code",
   "execution_count": 31,
   "metadata": {},
   "outputs": [],
   "source": [
    "model = Sequential()\n",
    "model.add(Dense(10, input_dim = X_train.shape[1],  activation=\"relu\"))\n",
    "model.add(Dense(1))\n",
    "\n",
    "adam = optimizers.Adam()\n",
    "\n",
    "model.compile(loss = losses.mean_squared_error, optimizer = adam)"
   ]
  },
  {
   "cell_type": "code",
   "execution_count": 32,
   "metadata": {},
   "outputs": [
    {
     "name": "stdout",
     "output_type": "stream",
     "text": [
      "_________________________________________________________________\n",
      "Layer (type)                 Output Shape              Param #   \n",
      "=================================================================\n",
      "dense_1 (Dense)              (None, 10)                170       \n",
      "_________________________________________________________________\n",
      "dense_2 (Dense)              (None, 1)                 11        \n",
      "=================================================================\n",
      "Total params: 181\n",
      "Trainable params: 181\n",
      "Non-trainable params: 0\n",
      "_________________________________________________________________\n"
     ]
    }
   ],
   "source": [
    "model.summary()"
   ]
  },
  {
   "cell_type": "code",
   "execution_count": 33,
   "metadata": {},
   "outputs": [],
   "source": [
    "monitor = EarlyStopping(monitor='val_loss', min_delta=1e-4, patience=20, verbose=1, mode='auto')\n",
    "checkpointer = ModelCheckpoint(filepath=\"best_weights.hdf5\", verbose=0, save_best_only=True)  # save best model"
   ]
  },
  {
   "cell_type": "code",
   "execution_count": 34,
   "metadata": {},
   "outputs": [
    {
     "name": "stdout",
     "output_type": "stream",
     "text": [
      "Train on 1168 samples, validate on 292 samples\n",
      "Epoch 1/100\n",
      "1168/1168 [==============================] - 6s 5ms/step - loss: 92.4248 - val_loss: 35.7758\n",
      "Epoch 2/100\n",
      "1168/1168 [==============================] - 6s 5ms/step - loss: 18.7648 - val_loss: 12.0279\n",
      "Epoch 3/100\n",
      "1168/1168 [==============================] - 6s 5ms/step - loss: 8.4176 - val_loss: 5.4774\n",
      "Epoch 4/100\n",
      "1168/1168 [==============================] - 6s 5ms/step - loss: 3.6428 - val_loss: 2.2293\n",
      "Epoch 5/100\n",
      "1168/1168 [==============================] - 5s 4ms/step - loss: 1.5820 - val_loss: 1.0664\n",
      "Epoch 6/100\n",
      "1168/1168 [==============================] - 6s 5ms/step - loss: 0.8974 - val_loss: 0.6073\n",
      "Epoch 7/100\n",
      "1168/1168 [==============================] - 5s 5ms/step - loss: 0.6196 - val_loss: 0.5070\n",
      "Epoch 8/100\n",
      "1168/1168 [==============================] - 5s 4ms/step - loss: 0.4437 - val_loss: 0.3272\n",
      "Epoch 9/100\n",
      "1168/1168 [==============================] - 5s 4ms/step - loss: 0.3296 - val_loss: 0.2596\n",
      "Epoch 10/100\n",
      "1168/1168 [==============================] - 5s 5ms/step - loss: 0.2280 - val_loss: 0.1647\n",
      "Epoch 11/100\n",
      "1168/1168 [==============================] - 5s 5ms/step - loss: 0.1618 - val_loss: 0.1222\n",
      "Epoch 12/100\n",
      "1168/1168 [==============================] - 5s 5ms/step - loss: 0.1210 - val_loss: 0.1087\n",
      "Epoch 13/100\n",
      "1168/1168 [==============================] - 5s 5ms/step - loss: 0.0857 - val_loss: 0.0773\n",
      "Epoch 14/100\n",
      "1168/1168 [==============================] - 5s 4ms/step - loss: 0.0699 - val_loss: 0.0526\n",
      "Epoch 15/100\n",
      "1168/1168 [==============================] - 6s 5ms/step - loss: 0.0599 - val_loss: 0.0683\n",
      "Epoch 16/100\n",
      "1168/1168 [==============================] - 6s 5ms/step - loss: 0.0444 - val_loss: 0.0460\n",
      "Epoch 17/100\n",
      "1168/1168 [==============================] - 6s 6ms/step - loss: 0.0355 - val_loss: 0.0417\n",
      "Epoch 18/100\n",
      "1168/1168 [==============================] - 6s 5ms/step - loss: 0.0374 - val_loss: 0.0428\n",
      "Epoch 19/100\n",
      "1168/1168 [==============================] - 6s 5ms/step - loss: 0.0354 - val_loss: 0.0831\n",
      "Epoch 20/100\n",
      "1168/1168 [==============================] - 6s 5ms/step - loss: 0.0343 - val_loss: 0.0317\n",
      "Epoch 21/100\n",
      "1168/1168 [==============================] - 5s 5ms/step - loss: 0.0340 - val_loss: 0.0362\n",
      "Epoch 22/100\n",
      "1168/1168 [==============================] - 5s 4ms/step - loss: 0.0304 - val_loss: 0.0312\n",
      "Epoch 23/100\n",
      "1168/1168 [==============================] - 5s 4ms/step - loss: 0.0339 - val_loss: 0.0300\n",
      "Epoch 24/100\n",
      "1168/1168 [==============================] - 5s 4ms/step - loss: 0.0284 - val_loss: 0.0283\n",
      "Epoch 25/100\n",
      "1168/1168 [==============================] - 4s 4ms/step - loss: 0.0351 - val_loss: 0.0274\n",
      "Epoch 26/100\n",
      "1168/1168 [==============================] - 5s 4ms/step - loss: 0.0277 - val_loss: 0.0271\n",
      "Epoch 27/100\n",
      "1168/1168 [==============================] - 5s 4ms/step - loss: 0.0272 - val_loss: 0.0238\n",
      "Epoch 28/100\n",
      "1168/1168 [==============================] - 5s 4ms/step - loss: 0.0276 - val_loss: 0.0280\n",
      "Epoch 29/100\n",
      "1168/1168 [==============================] - 4s 3ms/step - loss: 0.0293 - val_loss: 0.0243\n",
      "Epoch 30/100\n",
      "1168/1168 [==============================] - 4s 4ms/step - loss: 0.0280 - val_loss: 0.0279\n",
      "Epoch 31/100\n",
      "1168/1168 [==============================] - 5s 4ms/step - loss: 0.0284 - val_loss: 0.0301\n",
      "Epoch 32/100\n",
      "1168/1168 [==============================] - 5s 4ms/step - loss: 0.0289 - val_loss: 0.0299\n",
      "Epoch 33/100\n",
      "1168/1168 [==============================] - 5s 4ms/step - loss: 0.0256 - val_loss: 0.0286\n",
      "Epoch 34/100\n",
      "1168/1168 [==============================] - 6s 5ms/step - loss: 0.0304 - val_loss: 0.0289\n",
      "Epoch 35/100\n",
      "1168/1168 [==============================] - 4s 3ms/step - loss: 0.0264 - val_loss: 0.0269\n",
      "Epoch 36/100\n",
      "1168/1168 [==============================] - 4s 3ms/step - loss: 0.0247 - val_loss: 0.0272\n",
      "Epoch 37/100\n",
      "1168/1168 [==============================] - 4s 4ms/step - loss: 0.0283 - val_loss: 0.0410\n",
      "Epoch 38/100\n",
      "1168/1168 [==============================] - 4s 4ms/step - loss: 0.0325 - val_loss: 0.0249\n",
      "Epoch 39/100\n",
      "1168/1168 [==============================] - 5s 4ms/step - loss: 0.0252 - val_loss: 0.0269\n",
      "Epoch 40/100\n",
      "1168/1168 [==============================] - 5s 4ms/step - loss: 0.0241 - val_loss: 0.0546\n",
      "Epoch 41/100\n",
      "1168/1168 [==============================] - 5s 4ms/step - loss: 0.0258 - val_loss: 0.0310\n",
      "Epoch 42/100\n",
      "1168/1168 [==============================] - 5s 4ms/step - loss: 0.0246 - val_loss: 0.0330\n",
      "Epoch 43/100\n",
      "1168/1168 [==============================] - 4s 4ms/step - loss: 0.0268 - val_loss: 0.0354\n",
      "Epoch 44/100\n",
      "1168/1168 [==============================] - 4s 3ms/step - loss: 0.0275 - val_loss: 0.0348\n",
      "Epoch 45/100\n",
      "1168/1168 [==============================] - 4s 3ms/step - loss: 0.0233 - val_loss: 0.0615\n",
      "Epoch 46/100\n",
      "1168/1168 [==============================] - 4s 4ms/step - loss: 0.0282 - val_loss: 0.0320\n",
      "Epoch 47/100\n",
      "1168/1168 [==============================] - 5s 4ms/step - loss: 0.0263 - val_loss: 0.0418\n",
      "Epoch 00047: early stopping\n"
     ]
    }
   ],
   "source": [
    "hist = model.fit(X_tr, y_tr, batch_size=1, validation_data = (X_val, y_val), callbacks=[monitor, checkpointer], verbose=1, epochs=100)"
   ]
  },
  {
   "cell_type": "code",
   "execution_count": 35,
   "metadata": {},
   "outputs": [
    {
     "name": "stdout",
     "output_type": "stream",
     "text": [
      "20.859798604783766\n",
      "4194447.96333988\n"
     ]
    }
   ],
   "source": [
    "model.load_weights('best_weights.hdf5')  # load weights from best model\n",
    "\n",
    "# Measure accuracy\n",
    "to_predict = scaler.transform(mlp_feed)\n",
    "Ypred_mlp = np.exp(model.predict(to_predict))\n",
    "print(error(df_train['SalePrice'].values,Ypred_mlp))\n",
    "print(error_mse(df_train['SalePrice'].values, Ypred_mlp))"
   ]
  },
  {
   "cell_type": "markdown",
   "metadata": {},
   "source": [
    "#### test dataset"
   ]
  },
  {
   "cell_type": "code",
   "execution_count": 36,
   "metadata": {},
   "outputs": [
    {
     "name": "stdout",
     "output_type": "stream",
     "text": [
      "inf\n",
      "inf\n"
     ]
    }
   ],
   "source": [
    "full_test_X = df_test[features]\n",
    "test_Y = df_test['SalePrice'].values\n",
    "\n",
    "test_pred = np.exp(model.predict(full_test_X))\n",
    "\n",
    "print(error(test_Y, test_pred))\n",
    "print(error_mse(test_Y, test_pred))"
   ]
  }
 ],
 "metadata": {
  "kernelspec": {
   "display_name": "Python 3",
   "language": "python",
   "name": "python3"
  },
  "language_info": {
   "codemirror_mode": {
    "name": "ipython",
    "version": 3
   },
   "file_extension": ".py",
   "mimetype": "text/x-python",
   "name": "python",
   "nbconvert_exporter": "python",
   "pygments_lexer": "ipython3",
   "version": "3.6.4"
  }
 },
 "nbformat": 4,
 "nbformat_minor": 1
}
