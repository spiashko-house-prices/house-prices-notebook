{
 "cells": [
  {
   "cell_type": "markdown",
   "metadata": {},
   "source": [
    "## Learn model\n",
    "## Content\n",
    "  * Load data\n",
    "  * Select features\n",
    "  * Learning\n",
    "    * linear\n",
    "    * lasso\n",
    "    * ridge\n",
    "    * elastic net\n",
    "    * Xgboost\n",
    "    * MLP\n",
    "  * Compare results"
   ]
  },
  {
   "cell_type": "code",
   "execution_count": 1,
   "metadata": {
    "_cell_guid": "b1076dfc-b9ad-4769-8c92-a6c4dae69d19",
    "_uuid": "8f2839f25d086af736a60e9eeb907d3b93b6e0e5"
   },
   "outputs": [
    {
     "name": "stderr",
     "output_type": "stream",
     "text": [
      "/home/siarhei/anaconda3/lib/python3.6/site-packages/h5py/__init__.py:36: FutureWarning: Conversion of the second argument of issubdtype from `float` to `np.floating` is deprecated. In future, it will be treated as `np.float64 == np.dtype(float).type`.\n",
      "  from ._conv import register_converters as _register_converters\n",
      "Using TensorFlow backend.\n"
     ]
    }
   ],
   "source": [
    "import os\n",
    "import pandas as pd\n",
    "import matplotlib.pyplot as plt\n",
    "import numpy as np\n",
    "from sklearn.preprocessing import StandardScaler\n",
    "from sklearn.model_selection import train_test_split\n",
    "from pymongo import MongoClient\n",
    "from keras import metrics\n",
    "import warnings\n",
    "import sklearn.linear_model as linear_model\n",
    "import sklearn.ensemble as ensemble\n",
    "import sklearn.neighbors as neighbors\n",
    "import sklearn.svm as svm\n",
    "\n",
    "%matplotlib inline\n",
    "\n",
    "warnings.filterwarnings('ignore')"
   ]
  },
  {
   "cell_type": "code",
   "execution_count": 2,
   "metadata": {},
   "outputs": [],
   "source": [
    "MONGODB_URL = os.environ['AMES_MONGODB_URI']\n",
    "client = MongoClient(MONGODB_URL)\n",
    "db = client.get_default_database()"
   ]
  },
  {
   "cell_type": "code",
   "execution_count": 3,
   "metadata": {},
   "outputs": [
    {
     "data": {
      "text/plain": [
       "(2928, 79)"
      ]
     },
     "execution_count": 3,
     "metadata": {},
     "output_type": "execute_result"
    }
   ],
   "source": [
    "data = db[\"notebook\"].find({})\n",
    "full_frame = pd.DataFrame(list(data))\n",
    "full_frame.drop(columns=[\"_id\"], inplace=True)\n",
    "full_frame.shape"
   ]
  },
  {
   "cell_type": "markdown",
   "metadata": {},
   "source": [
    "### Select features"
   ]
  },
  {
   "cell_type": "code",
   "execution_count": 4,
   "metadata": {},
   "outputs": [],
   "source": [
    "features = ['Neighborhood',\n",
    " 'BsmtQual',\n",
    " 'GarageFinish',\n",
    " 'GarageType',\n",
    " 'MSSubClass',\n",
    " 'Foundation',\n",
    " 'FireplaceQu',\n",
    " 'MSZoning',\n",
    " 'Exterior1st',\n",
    " 'BsmtFinType1',\n",
    " 'GrLivArea',\n",
    " 'GarageCars',\n",
    " 'TotalBsmtSF',\n",
    " 'YearBuilt',\n",
    " 'YearRemodAdd',\n",
    " 'FullBath',\n",
    " 'Fireplaces',\n",
    " 'MasVnrArea',\n",
    " 'BsmtFinSF1',\n",
    " 'WoodDeckSF']\n",
    "\n",
    "to_log_transform = ['GrLivArea', 'Fireplaces', 'WoodDeckSF', 'GarageFinish', 'MSZoning']\n",
    "\n",
    "to_pow_transform = ['YearBuilt', 'YearRemodAdd', 'BsmtQual', 'Foundation', 'BsmtFinType1']\n",
    "\n",
    "to_boolean_transform = {\n",
    "    'TotalBsmtSF': {'new_feature_name': 'HasBasement', 'threshold': 0},\n",
    "    'GarageArea': {'new_feature_name': 'HasGarage', 'threshold': 0},\n",
    "    '2ndFlrSF': {'new_feature_name': 'Has2ndFloor', 'threshold': 0},\n",
    "    'MasVnrArea': {'new_feature_name': 'HasMasVnr', 'threshold': 0},\n",
    "    'WoodDeckSF': {'new_feature_name': 'HasWoodDeck', 'threshold': 0},\n",
    "    'OpenPorchSF': {'new_feature_name': 'HasPorch', 'threshold': 0},\n",
    "    'PoolArea': {'new_feature_name': 'HasPool', 'threshold': 0},\n",
    "    'YearBuilt': {'new_feature_name': 'IsNew', 'threshold': 2000},\n",
    "}"
   ]
  },
  {
   "cell_type": "markdown",
   "metadata": {},
   "source": [
    "## Learn model"
   ]
  },
  {
   "cell_type": "code",
   "execution_count": 5,
   "metadata": {},
   "outputs": [],
   "source": [
    "def log_transformation(frame, feature):\n",
    "    new_feature_name = new_log_feature_name(feature)\n",
    "    frame[new_feature_name] = np.log1p(frame[feature].values)\n",
    "\n",
    "def new_quadratic_feature_name(feature):\n",
    "    return feature+'2'\n",
    "\n",
    "def new_log_feature_name(feature):\n",
    "    return feature+'Log'\n",
    "    \n",
    "def quadratic(frame, feature):\n",
    "    new_feature_name = new_quadratic_feature_name(feature)\n",
    "    frame[new_feature_name] = frame[feature]**2\n",
    "    \n",
    "def boolean_transformation(frame, feature, new_feature_name, threshold):\n",
    "    frame[new_feature_name] = frame[feature].apply(lambda x: 1 if x > threshold else 0)\n",
    "    \n",
    "def error(actual, predicted):\n",
    "    actual = np.log(actual)\n",
    "    predicted = np.log(predicted)\n",
    "    return np.sqrt(np.sum(np.square(actual-predicted))/len(actual))\n",
    "\n",
    "def error_mse(actual, predicted):\n",
    "    actual = (actual)\n",
    "    predicted = (predicted)\n",
    "    return np.sqrt(np.sum(np.square(actual-predicted))/len(actual))"
   ]
  },
  {
   "cell_type": "code",
   "execution_count": 6,
   "metadata": {},
   "outputs": [],
   "source": [
    "added_boolean_columns = [to_boolean_transform[o]['new_feature_name'] for o in to_boolean_transform.keys()]\n",
    "\n",
    "added_quadratic_columns = list(map(new_quadratic_feature_name, to_pow_transform))\n",
    "\n",
    "added_log_columns = list(map(new_log_feature_name, to_log_transform))\n",
    "\n",
    "def transform_before_learn(frame, to_log_transform, to_pow_transform, to_boolean_transform):\n",
    "\n",
    "    for c in to_log_transform:\n",
    "        log_transformation(frame, c)\n",
    "\n",
    "    for c in to_pow_transform:\n",
    "        quadratic(frame, c)\n",
    "\n",
    "    for c in to_boolean_transform.keys():\n",
    "        boolean_transformation(frame, c, to_boolean_transform[c]['new_feature_name'], \n",
    "                               to_boolean_transform[c]['threshold']) \n",
    "\n",
    "\n",
    "transform_before_learn(full_frame, to_log_transform, to_pow_transform, to_boolean_transform)\n",
    "\n",
    "df_train = full_frame[:1460]\n",
    "df_test = full_frame[1460:]\n",
    "\n",
    "# features = list(set(features) - set(to_log_transform) - set(to_pow_transform))"
   ]
  },
  {
   "cell_type": "code",
   "execution_count": 7,
   "metadata": {},
   "outputs": [],
   "source": [
    "features_full_list = features + added_boolean_columns + added_quadratic_columns + added_log_columns"
   ]
  },
  {
   "cell_type": "markdown",
   "metadata": {},
   "source": [
    "## Out liars"
   ]
  },
  {
   "cell_type": "code",
   "execution_count": 8,
   "metadata": {},
   "outputs": [],
   "source": [
    "df_train_cleaned = df_train\n",
    "#df_train_cleaned = df_train.drop(df_train[df_train['Id'] == 1299].index)\n",
    "#df_train_cleaned = df_train.drop(df_train[df_train['Id'] == 524].index)"
   ]
  },
  {
   "cell_type": "markdown",
   "metadata": {},
   "source": [
    "### LinearRegression"
   ]
  },
  {
   "cell_type": "code",
   "execution_count": 9,
   "metadata": {},
   "outputs": [
    {
     "name": "stdout",
     "output_type": "stream",
     "text": [
      "0.14492516236618694\n",
      "32156.676842024903\n"
     ]
    }
   ],
   "source": [
    "X = df_train_cleaned[features_full_list]\n",
    "Y = df_train_cleaned['SalePrice'].values\n",
    "\n",
    "full_X = df_train[features_full_list]\n",
    "full_Y = df_train['SalePrice'].values\n",
    "\n",
    "linear = linear_model.LinearRegression()\n",
    "linear.fit(X, np.log1p(Y))\n",
    "\n",
    "Ypred_linear = np.expm1(linear.predict(full_X))\n",
    "print(error(full_Y, Ypred_linear))\n",
    "print(error_mse(full_Y, Ypred_linear))"
   ]
  },
  {
   "cell_type": "markdown",
   "metadata": {},
   "source": [
    "#### test dataset"
   ]
  },
  {
   "cell_type": "code",
   "execution_count": 10,
   "metadata": {},
   "outputs": [
    {
     "name": "stdout",
     "output_type": "stream",
     "text": [
      "0.16275362497583534\n",
      "28298.392776202723\n"
     ]
    }
   ],
   "source": [
    "full_test_X = df_test[features_full_list]\n",
    "test_Y = df_test['SalePrice'].values\n",
    "\n",
    "test_pred = np.expm1(linear.predict(full_test_X))\n",
    "\n",
    "print(error(test_Y, test_pred))\n",
    "print(error_mse(test_Y, test_pred))"
   ]
  },
  {
   "cell_type": "markdown",
   "metadata": {},
   "source": [
    "### LassoCV"
   ]
  },
  {
   "cell_type": "code",
   "execution_count": 11,
   "metadata": {},
   "outputs": [
    {
     "name": "stdout",
     "output_type": "stream",
     "text": [
      "0.21865280164764717\n",
      "32156.676842024903\n"
     ]
    }
   ],
   "source": [
    "X = df_train_cleaned[features_full_list]\n",
    "Y = df_train_cleaned['SalePrice'].values\n",
    "\n",
    "full_X = df_train[features_full_list]\n",
    "full_Y = df_train['SalePrice'].values\n",
    "\n",
    "lasso = linear_model.LassoCV()\n",
    "lasso.fit(X, np.log1p(Y))\n",
    "\n",
    "Ypred_lasso = np.expm1(lasso.predict(full_X))\n",
    "print(error(full_Y, Ypred_lasso))\n",
    "print(error_mse(full_Y, Ypred_linear))"
   ]
  },
  {
   "cell_type": "markdown",
   "metadata": {},
   "source": [
    "#### test dataset"
   ]
  },
  {
   "cell_type": "code",
   "execution_count": 12,
   "metadata": {},
   "outputs": [
    {
     "name": "stdout",
     "output_type": "stream",
     "text": [
      "0.22421492143268326\n",
      "44106.27607404202\n"
     ]
    }
   ],
   "source": [
    "full_test_X = df_test[features_full_list]\n",
    "test_Y = df_test['SalePrice'].values\n",
    "\n",
    "test_pred = np.expm1(lasso.predict(full_test_X))\n",
    "\n",
    "print(error(test_Y, test_pred))\n",
    "print(error_mse(test_Y, test_pred))"
   ]
  },
  {
   "cell_type": "markdown",
   "metadata": {},
   "source": [
    "### RidgeCV"
   ]
  },
  {
   "cell_type": "code",
   "execution_count": 13,
   "metadata": {},
   "outputs": [
    {
     "name": "stdout",
     "output_type": "stream",
     "text": [
      "0.14511945815042993\n",
      "32240.450125379073\n"
     ]
    }
   ],
   "source": [
    "X = df_train_cleaned[features_full_list]\n",
    "Y = df_train_cleaned['SalePrice'].values\n",
    "\n",
    "full_X = df_train[features_full_list]\n",
    "full_Y = df_train['SalePrice'].values\n",
    "\n",
    "ridge = linear_model.RidgeCV()\n",
    "ridge.fit(X, np.log1p(Y))\n",
    "Ypred_ridge = np.expm1(ridge.predict(full_X))\n",
    "print(error(full_Y,Ypred_ridge))\n",
    "print(error_mse(full_Y, Ypred_ridge))"
   ]
  },
  {
   "cell_type": "markdown",
   "metadata": {},
   "source": [
    "#### test dataset"
   ]
  },
  {
   "cell_type": "code",
   "execution_count": 14,
   "metadata": {},
   "outputs": [
    {
     "name": "stdout",
     "output_type": "stream",
     "text": [
      "0.16163659581114517\n",
      "28263.786258830925\n"
     ]
    }
   ],
   "source": [
    "full_test_X = df_test[features_full_list]\n",
    "test_Y = df_test['SalePrice'].values\n",
    "\n",
    "test_pred = np.expm1(ridge.predict(full_test_X))\n",
    "\n",
    "print(error(test_Y, test_pred))\n",
    "print(error_mse(test_Y, test_pred))"
   ]
  },
  {
   "cell_type": "markdown",
   "metadata": {},
   "source": [
    "### ElasticNetCV"
   ]
  },
  {
   "cell_type": "code",
   "execution_count": 15,
   "metadata": {},
   "outputs": [
    {
     "name": "stdout",
     "output_type": "stream",
     "text": [
      "0.21865577872283973\n",
      "52064.05404640965\n"
     ]
    }
   ],
   "source": [
    "X = df_train_cleaned[features_full_list]\n",
    "Y = df_train_cleaned['SalePrice'].values\n",
    "\n",
    "full_X = df_train[features_full_list]\n",
    "full_Y = df_train['SalePrice'].values\n",
    "\n",
    "elasticNet = linear_model.ElasticNetCV()\n",
    "elasticNet.fit(X, np.log1p(Y))\n",
    "Ypred_elasticNet = np.expm1(elasticNet.predict(full_X))\n",
    "print(error(full_Y,Ypred_elasticNet))\n",
    "print(error_mse(full_Y, Ypred_elasticNet))"
   ]
  },
  {
   "cell_type": "markdown",
   "metadata": {},
   "source": [
    "#### test dataset"
   ]
  },
  {
   "cell_type": "code",
   "execution_count": 16,
   "metadata": {},
   "outputs": [
    {
     "name": "stdout",
     "output_type": "stream",
     "text": [
      "0.22421770572499905\n",
      "44106.98292298739\n"
     ]
    }
   ],
   "source": [
    "full_test_X = df_test[features_full_list]\n",
    "test_Y = df_test['SalePrice'].values\n",
    "\n",
    "test_pred = np.expm1(elasticNet.predict(full_test_X))\n",
    "\n",
    "print(error(test_Y, test_pred))\n",
    "print(error_mse(test_Y, test_pred))"
   ]
  },
  {
   "cell_type": "markdown",
   "metadata": {},
   "source": [
    "### Xgboost"
   ]
  },
  {
   "cell_type": "code",
   "execution_count": 17,
   "metadata": {},
   "outputs": [],
   "source": [
    "import xgboost as xgb"
   ]
  },
  {
   "cell_type": "code",
   "execution_count": 18,
   "metadata": {},
   "outputs": [],
   "source": [
    "X = df_train_cleaned[features_full_list]\n",
    "Y = df_train_cleaned['SalePrice'].values\n",
    "\n",
    "full_X = df_train[features_full_list]\n",
    "full_Y = df_train['SalePrice'].values"
   ]
  },
  {
   "cell_type": "code",
   "execution_count": 19,
   "metadata": {},
   "outputs": [],
   "source": [
    "X_tr, X_val, y_tr, y_val = train_test_split(X, np.log1p(Y), random_state = 42, test_size=0.20)\n",
    "\n",
    "eval_set = [(X_val, y_val)]"
   ]
  },
  {
   "cell_type": "code",
   "execution_count": 20,
   "metadata": {},
   "outputs": [
    {
     "name": "stdout",
     "output_type": "stream",
     "text": [
      "[0]\tvalidation_0-rmse:10.3548\n",
      "Will train until validation_0-rmse hasn't improved in 500 rounds.\n",
      "[1]\tvalidation_0-rmse:9.31671\n",
      "[2]\tvalidation_0-rmse:8.38255\n",
      "[3]\tvalidation_0-rmse:7.5463\n",
      "[4]\tvalidation_0-rmse:6.7915\n",
      "[5]\tvalidation_0-rmse:6.11422\n",
      "[6]\tvalidation_0-rmse:5.50272\n",
      "[7]\tvalidation_0-rmse:4.95392\n",
      "[8]\tvalidation_0-rmse:4.45849\n",
      "[9]\tvalidation_0-rmse:4.01318\n",
      "[10]\tvalidation_0-rmse:3.61203\n",
      "[11]\tvalidation_0-rmse:3.25138\n",
      "[12]\tvalidation_0-rmse:2.92657\n",
      "[13]\tvalidation_0-rmse:2.63352\n",
      "[14]\tvalidation_0-rmse:2.3705\n",
      "[15]\tvalidation_0-rmse:2.13535\n",
      "[16]\tvalidation_0-rmse:1.92279\n",
      "[17]\tvalidation_0-rmse:1.73211\n",
      "[18]\tvalidation_0-rmse:1.56099\n",
      "[19]\tvalidation_0-rmse:1.40463\n",
      "[20]\tvalidation_0-rmse:1.2656\n",
      "[21]\tvalidation_0-rmse:1.14147\n",
      "[22]\tvalidation_0-rmse:1.02844\n",
      "[23]\tvalidation_0-rmse:0.927126\n",
      "[24]\tvalidation_0-rmse:0.837116\n",
      "[25]\tvalidation_0-rmse:0.755773\n",
      "[26]\tvalidation_0-rmse:0.682823\n",
      "[27]\tvalidation_0-rmse:0.616864\n",
      "[28]\tvalidation_0-rmse:0.558127\n",
      "[29]\tvalidation_0-rmse:0.505813\n",
      "[30]\tvalidation_0-rmse:0.458437\n",
      "[31]\tvalidation_0-rmse:0.417102\n",
      "[32]\tvalidation_0-rmse:0.380233\n",
      "[33]\tvalidation_0-rmse:0.347681\n",
      "[34]\tvalidation_0-rmse:0.318933\n",
      "[35]\tvalidation_0-rmse:0.293441\n",
      "[36]\tvalidation_0-rmse:0.270761\n",
      "[37]\tvalidation_0-rmse:0.251388\n",
      "[38]\tvalidation_0-rmse:0.234363\n",
      "[39]\tvalidation_0-rmse:0.219382\n",
      "[40]\tvalidation_0-rmse:0.206705\n",
      "[41]\tvalidation_0-rmse:0.195932\n",
      "[42]\tvalidation_0-rmse:0.186267\n",
      "[43]\tvalidation_0-rmse:0.1782\n",
      "[44]\tvalidation_0-rmse:0.171605\n",
      "[45]\tvalidation_0-rmse:0.166162\n",
      "[46]\tvalidation_0-rmse:0.162113\n",
      "[47]\tvalidation_0-rmse:0.158072\n",
      "[48]\tvalidation_0-rmse:0.154583\n",
      "[49]\tvalidation_0-rmse:0.151588\n",
      "[50]\tvalidation_0-rmse:0.149557\n",
      "[51]\tvalidation_0-rmse:0.148001\n",
      "[52]\tvalidation_0-rmse:0.146657\n",
      "[53]\tvalidation_0-rmse:0.145603\n",
      "[54]\tvalidation_0-rmse:0.145069\n",
      "[55]\tvalidation_0-rmse:0.1443\n",
      "[56]\tvalidation_0-rmse:0.143572\n",
      "[57]\tvalidation_0-rmse:0.143032\n",
      "[58]\tvalidation_0-rmse:0.142314\n",
      "[59]\tvalidation_0-rmse:0.14177\n",
      "[60]\tvalidation_0-rmse:0.141181\n",
      "[61]\tvalidation_0-rmse:0.141361\n",
      "[62]\tvalidation_0-rmse:0.140955\n",
      "[63]\tvalidation_0-rmse:0.140896\n",
      "[64]\tvalidation_0-rmse:0.140466\n",
      "[65]\tvalidation_0-rmse:0.140261\n",
      "[66]\tvalidation_0-rmse:0.140576\n",
      "[67]\tvalidation_0-rmse:0.140478\n",
      "[68]\tvalidation_0-rmse:0.140581\n",
      "[69]\tvalidation_0-rmse:0.140376\n",
      "[70]\tvalidation_0-rmse:0.139814\n",
      "[71]\tvalidation_0-rmse:0.139569\n",
      "[72]\tvalidation_0-rmse:0.139612\n",
      "[73]\tvalidation_0-rmse:0.139384\n",
      "[74]\tvalidation_0-rmse:0.139166\n",
      "[75]\tvalidation_0-rmse:0.13909\n",
      "[76]\tvalidation_0-rmse:0.139053\n",
      "[77]\tvalidation_0-rmse:0.139196\n",
      "[78]\tvalidation_0-rmse:0.139381\n",
      "[79]\tvalidation_0-rmse:0.139653\n",
      "[80]\tvalidation_0-rmse:0.139735\n",
      "[81]\tvalidation_0-rmse:0.1396\n",
      "[82]\tvalidation_0-rmse:0.139268\n",
      "[83]\tvalidation_0-rmse:0.139223\n",
      "[84]\tvalidation_0-rmse:0.139196\n",
      "[85]\tvalidation_0-rmse:0.138934\n",
      "[86]\tvalidation_0-rmse:0.138562\n",
      "[87]\tvalidation_0-rmse:0.13866\n",
      "[88]\tvalidation_0-rmse:0.13833\n",
      "[89]\tvalidation_0-rmse:0.138181\n",
      "[90]\tvalidation_0-rmse:0.138435\n",
      "[91]\tvalidation_0-rmse:0.138368\n",
      "[92]\tvalidation_0-rmse:0.138241\n",
      "[93]\tvalidation_0-rmse:0.138468\n",
      "[94]\tvalidation_0-rmse:0.138541\n",
      "[95]\tvalidation_0-rmse:0.138629\n",
      "[96]\tvalidation_0-rmse:0.138855\n",
      "[97]\tvalidation_0-rmse:0.138833\n",
      "[98]\tvalidation_0-rmse:0.138664\n",
      "[99]\tvalidation_0-rmse:0.138437\n",
      "[100]\tvalidation_0-rmse:0.138375\n",
      "[101]\tvalidation_0-rmse:0.138536\n",
      "[102]\tvalidation_0-rmse:0.13833\n",
      "[103]\tvalidation_0-rmse:0.138239\n",
      "[104]\tvalidation_0-rmse:0.138245\n",
      "[105]\tvalidation_0-rmse:0.138263\n",
      "[106]\tvalidation_0-rmse:0.138414\n",
      "[107]\tvalidation_0-rmse:0.138107\n",
      "[108]\tvalidation_0-rmse:0.138035\n",
      "[109]\tvalidation_0-rmse:0.137989\n",
      "[110]\tvalidation_0-rmse:0.13816\n",
      "[111]\tvalidation_0-rmse:0.138191\n",
      "[112]\tvalidation_0-rmse:0.138223\n",
      "[113]\tvalidation_0-rmse:0.138221\n",
      "[114]\tvalidation_0-rmse:0.138332\n",
      "[115]\tvalidation_0-rmse:0.138362\n",
      "[116]\tvalidation_0-rmse:0.138143\n",
      "[117]\tvalidation_0-rmse:0.138008\n",
      "[118]\tvalidation_0-rmse:0.138044\n",
      "[119]\tvalidation_0-rmse:0.137948\n",
      "[120]\tvalidation_0-rmse:0.137912\n",
      "[121]\tvalidation_0-rmse:0.138002\n",
      "[122]\tvalidation_0-rmse:0.137877\n",
      "[123]\tvalidation_0-rmse:0.137838\n",
      "[124]\tvalidation_0-rmse:0.137772\n",
      "[125]\tvalidation_0-rmse:0.137812\n",
      "[126]\tvalidation_0-rmse:0.13786\n",
      "[127]\tvalidation_0-rmse:0.137874\n",
      "[128]\tvalidation_0-rmse:0.137978\n",
      "[129]\tvalidation_0-rmse:0.137928\n",
      "[130]\tvalidation_0-rmse:0.137955\n",
      "[131]\tvalidation_0-rmse:0.137937\n",
      "[132]\tvalidation_0-rmse:0.137943\n",
      "[133]\tvalidation_0-rmse:0.137926\n",
      "[134]\tvalidation_0-rmse:0.137645\n",
      "[135]\tvalidation_0-rmse:0.137545\n",
      "[136]\tvalidation_0-rmse:0.137527\n",
      "[137]\tvalidation_0-rmse:0.137475\n",
      "[138]\tvalidation_0-rmse:0.137511\n",
      "[139]\tvalidation_0-rmse:0.13751\n",
      "[140]\tvalidation_0-rmse:0.137606\n",
      "[141]\tvalidation_0-rmse:0.137548\n",
      "[142]\tvalidation_0-rmse:0.137536\n",
      "[143]\tvalidation_0-rmse:0.137453\n",
      "[144]\tvalidation_0-rmse:0.13736\n",
      "[145]\tvalidation_0-rmse:0.137341\n",
      "[146]\tvalidation_0-rmse:0.137118\n",
      "[147]\tvalidation_0-rmse:0.13712\n",
      "[148]\tvalidation_0-rmse:0.137112\n",
      "[149]\tvalidation_0-rmse:0.137127\n",
      "[150]\tvalidation_0-rmse:0.137126\n",
      "[151]\tvalidation_0-rmse:0.137167\n",
      "[152]\tvalidation_0-rmse:0.137188\n",
      "[153]\tvalidation_0-rmse:0.13707\n",
      "[154]\tvalidation_0-rmse:0.137107\n",
      "[155]\tvalidation_0-rmse:0.137\n",
      "[156]\tvalidation_0-rmse:0.136963\n",
      "[157]\tvalidation_0-rmse:0.136914\n",
      "[158]\tvalidation_0-rmse:0.136811\n",
      "[159]\tvalidation_0-rmse:0.136712\n",
      "[160]\tvalidation_0-rmse:0.136778\n",
      "[161]\tvalidation_0-rmse:0.136704\n",
      "[162]\tvalidation_0-rmse:0.136758\n",
      "[163]\tvalidation_0-rmse:0.136774\n",
      "[164]\tvalidation_0-rmse:0.136745\n",
      "[165]\tvalidation_0-rmse:0.136614\n",
      "[166]\tvalidation_0-rmse:0.136567\n",
      "[167]\tvalidation_0-rmse:0.136451\n",
      "[168]\tvalidation_0-rmse:0.136273\n",
      "[169]\tvalidation_0-rmse:0.13625\n",
      "[170]\tvalidation_0-rmse:0.136269\n",
      "[171]\tvalidation_0-rmse:0.136189\n",
      "[172]\tvalidation_0-rmse:0.136219\n",
      "[173]\tvalidation_0-rmse:0.136277\n",
      "[174]\tvalidation_0-rmse:0.136146\n",
      "[175]\tvalidation_0-rmse:0.13607\n",
      "[176]\tvalidation_0-rmse:0.136163\n",
      "[177]\tvalidation_0-rmse:0.136155\n",
      "[178]\tvalidation_0-rmse:0.136155\n",
      "[179]\tvalidation_0-rmse:0.136153\n",
      "[180]\tvalidation_0-rmse:0.136001\n",
      "[181]\tvalidation_0-rmse:0.13596\n",
      "[182]\tvalidation_0-rmse:0.135894\n",
      "[183]\tvalidation_0-rmse:0.135796\n",
      "[184]\tvalidation_0-rmse:0.135697\n",
      "[185]\tvalidation_0-rmse:0.135696\n",
      "[186]\tvalidation_0-rmse:0.135729\n",
      "[187]\tvalidation_0-rmse:0.135861\n",
      "[188]\tvalidation_0-rmse:0.135885\n",
      "[189]\tvalidation_0-rmse:0.135861\n",
      "[190]\tvalidation_0-rmse:0.135882\n",
      "[191]\tvalidation_0-rmse:0.135919\n",
      "[192]\tvalidation_0-rmse:0.135896\n",
      "[193]\tvalidation_0-rmse:0.135804\n",
      "[194]\tvalidation_0-rmse:0.135677\n",
      "[195]\tvalidation_0-rmse:0.13557\n",
      "[196]\tvalidation_0-rmse:0.135565\n",
      "[197]\tvalidation_0-rmse:0.135505\n",
      "[198]\tvalidation_0-rmse:0.135536\n",
      "[199]\tvalidation_0-rmse:0.135535\n",
      "[200]\tvalidation_0-rmse:0.135483\n",
      "[201]\tvalidation_0-rmse:0.135447\n",
      "[202]\tvalidation_0-rmse:0.135404\n",
      "[203]\tvalidation_0-rmse:0.135504\n",
      "[204]\tvalidation_0-rmse:0.135524\n",
      "[205]\tvalidation_0-rmse:0.135447\n",
      "[206]\tvalidation_0-rmse:0.135413\n",
      "[207]\tvalidation_0-rmse:0.135361\n",
      "[208]\tvalidation_0-rmse:0.135297\n",
      "[209]\tvalidation_0-rmse:0.135374\n",
      "[210]\tvalidation_0-rmse:0.135321\n",
      "[211]\tvalidation_0-rmse:0.135301\n",
      "[212]\tvalidation_0-rmse:0.1353\n",
      "[213]\tvalidation_0-rmse:0.135333\n",
      "[214]\tvalidation_0-rmse:0.135387\n",
      "[215]\tvalidation_0-rmse:0.135354\n",
      "[216]\tvalidation_0-rmse:0.135312\n",
      "[217]\tvalidation_0-rmse:0.135262\n",
      "[218]\tvalidation_0-rmse:0.135231\n",
      "[219]\tvalidation_0-rmse:0.135176\n",
      "[220]\tvalidation_0-rmse:0.135154\n",
      "[221]\tvalidation_0-rmse:0.135043\n",
      "[222]\tvalidation_0-rmse:0.135038\n",
      "[223]\tvalidation_0-rmse:0.135001\n",
      "[224]\tvalidation_0-rmse:0.135001\n",
      "[225]\tvalidation_0-rmse:0.134972\n",
      "[226]\tvalidation_0-rmse:0.134896\n",
      "[227]\tvalidation_0-rmse:0.134915\n",
      "[228]\tvalidation_0-rmse:0.134901\n",
      "[229]\tvalidation_0-rmse:0.134802\n",
      "[230]\tvalidation_0-rmse:0.134846\n",
      "[231]\tvalidation_0-rmse:0.134847\n",
      "[232]\tvalidation_0-rmse:0.134817\n",
      "[233]\tvalidation_0-rmse:0.134809\n",
      "[234]\tvalidation_0-rmse:0.134888\n",
      "[235]\tvalidation_0-rmse:0.134931\n",
      "[236]\tvalidation_0-rmse:0.134966\n",
      "[237]\tvalidation_0-rmse:0.134948\n",
      "[238]\tvalidation_0-rmse:0.134891\n",
      "[239]\tvalidation_0-rmse:0.134835\n",
      "[240]\tvalidation_0-rmse:0.13478\n",
      "[241]\tvalidation_0-rmse:0.13478\n",
      "[242]\tvalidation_0-rmse:0.134745\n",
      "[243]\tvalidation_0-rmse:0.1347\n",
      "[244]\tvalidation_0-rmse:0.134658\n",
      "[245]\tvalidation_0-rmse:0.134639\n",
      "[246]\tvalidation_0-rmse:0.134638\n",
      "[247]\tvalidation_0-rmse:0.134555\n",
      "[248]\tvalidation_0-rmse:0.134575\n",
      "[249]\tvalidation_0-rmse:0.134537\n",
      "[250]\tvalidation_0-rmse:0.134452\n",
      "[251]\tvalidation_0-rmse:0.134532\n"
     ]
    },
    {
     "name": "stdout",
     "output_type": "stream",
     "text": [
      "[252]\tvalidation_0-rmse:0.134511\n",
      "[253]\tvalidation_0-rmse:0.134466\n",
      "[254]\tvalidation_0-rmse:0.134449\n",
      "[255]\tvalidation_0-rmse:0.134327\n",
      "[256]\tvalidation_0-rmse:0.134347\n",
      "[257]\tvalidation_0-rmse:0.13432\n",
      "[258]\tvalidation_0-rmse:0.134351\n",
      "[259]\tvalidation_0-rmse:0.134318\n",
      "[260]\tvalidation_0-rmse:0.134308\n",
      "[261]\tvalidation_0-rmse:0.134268\n",
      "[262]\tvalidation_0-rmse:0.134216\n",
      "[263]\tvalidation_0-rmse:0.134191\n",
      "[264]\tvalidation_0-rmse:0.134267\n",
      "[265]\tvalidation_0-rmse:0.13425\n",
      "[266]\tvalidation_0-rmse:0.134296\n",
      "[267]\tvalidation_0-rmse:0.134221\n",
      "[268]\tvalidation_0-rmse:0.134285\n",
      "[269]\tvalidation_0-rmse:0.134288\n",
      "[270]\tvalidation_0-rmse:0.134242\n",
      "[271]\tvalidation_0-rmse:0.134254\n",
      "[272]\tvalidation_0-rmse:0.134235\n",
      "[273]\tvalidation_0-rmse:0.134168\n",
      "[274]\tvalidation_0-rmse:0.134248\n",
      "[275]\tvalidation_0-rmse:0.134179\n",
      "[276]\tvalidation_0-rmse:0.134196\n",
      "[277]\tvalidation_0-rmse:0.1342\n",
      "[278]\tvalidation_0-rmse:0.134189\n",
      "[279]\tvalidation_0-rmse:0.134199\n",
      "[280]\tvalidation_0-rmse:0.134194\n",
      "[281]\tvalidation_0-rmse:0.134165\n",
      "[282]\tvalidation_0-rmse:0.134238\n",
      "[283]\tvalidation_0-rmse:0.134198\n",
      "[284]\tvalidation_0-rmse:0.134198\n",
      "[285]\tvalidation_0-rmse:0.13418\n",
      "[286]\tvalidation_0-rmse:0.134264\n",
      "[287]\tvalidation_0-rmse:0.134243\n",
      "[288]\tvalidation_0-rmse:0.134258\n",
      "[289]\tvalidation_0-rmse:0.134217\n",
      "[290]\tvalidation_0-rmse:0.134224\n",
      "[291]\tvalidation_0-rmse:0.13412\n",
      "[292]\tvalidation_0-rmse:0.134144\n",
      "[293]\tvalidation_0-rmse:0.134128\n",
      "[294]\tvalidation_0-rmse:0.134105\n",
      "[295]\tvalidation_0-rmse:0.134225\n",
      "[296]\tvalidation_0-rmse:0.134286\n",
      "[297]\tvalidation_0-rmse:0.134233\n",
      "[298]\tvalidation_0-rmse:0.134257\n",
      "[299]\tvalidation_0-rmse:0.13432\n",
      "[300]\tvalidation_0-rmse:0.134289\n",
      "[301]\tvalidation_0-rmse:0.134369\n",
      "[302]\tvalidation_0-rmse:0.134348\n",
      "[303]\tvalidation_0-rmse:0.134341\n",
      "[304]\tvalidation_0-rmse:0.134328\n",
      "[305]\tvalidation_0-rmse:0.134314\n",
      "[306]\tvalidation_0-rmse:0.134261\n",
      "[307]\tvalidation_0-rmse:0.134371\n",
      "[308]\tvalidation_0-rmse:0.13436\n",
      "[309]\tvalidation_0-rmse:0.134381\n",
      "[310]\tvalidation_0-rmse:0.134364\n",
      "[311]\tvalidation_0-rmse:0.134419\n",
      "[312]\tvalidation_0-rmse:0.1344\n",
      "[313]\tvalidation_0-rmse:0.134515\n",
      "[314]\tvalidation_0-rmse:0.13459\n",
      "[315]\tvalidation_0-rmse:0.134599\n",
      "[316]\tvalidation_0-rmse:0.134629\n",
      "[317]\tvalidation_0-rmse:0.134568\n",
      "[318]\tvalidation_0-rmse:0.134573\n",
      "[319]\tvalidation_0-rmse:0.134544\n",
      "[320]\tvalidation_0-rmse:0.134485\n",
      "[321]\tvalidation_0-rmse:0.134439\n",
      "[322]\tvalidation_0-rmse:0.134469\n",
      "[323]\tvalidation_0-rmse:0.134393\n",
      "[324]\tvalidation_0-rmse:0.134357\n",
      "[325]\tvalidation_0-rmse:0.134362\n",
      "[326]\tvalidation_0-rmse:0.134378\n",
      "[327]\tvalidation_0-rmse:0.134314\n",
      "[328]\tvalidation_0-rmse:0.134288\n",
      "[329]\tvalidation_0-rmse:0.134285\n",
      "[330]\tvalidation_0-rmse:0.13426\n",
      "[331]\tvalidation_0-rmse:0.134382\n",
      "[332]\tvalidation_0-rmse:0.134388\n",
      "[333]\tvalidation_0-rmse:0.134426\n",
      "[334]\tvalidation_0-rmse:0.134487\n",
      "[335]\tvalidation_0-rmse:0.134592\n",
      "[336]\tvalidation_0-rmse:0.134587\n",
      "[337]\tvalidation_0-rmse:0.134567\n",
      "[338]\tvalidation_0-rmse:0.134642\n",
      "[339]\tvalidation_0-rmse:0.134638\n",
      "[340]\tvalidation_0-rmse:0.134614\n",
      "[341]\tvalidation_0-rmse:0.134601\n",
      "[342]\tvalidation_0-rmse:0.134458\n",
      "[343]\tvalidation_0-rmse:0.134492\n",
      "[344]\tvalidation_0-rmse:0.134534\n",
      "[345]\tvalidation_0-rmse:0.134508\n",
      "[346]\tvalidation_0-rmse:0.134504\n",
      "[347]\tvalidation_0-rmse:0.134587\n",
      "[348]\tvalidation_0-rmse:0.134671\n",
      "[349]\tvalidation_0-rmse:0.134635\n",
      "[350]\tvalidation_0-rmse:0.134683\n",
      "[351]\tvalidation_0-rmse:0.134715\n",
      "[352]\tvalidation_0-rmse:0.134657\n",
      "[353]\tvalidation_0-rmse:0.134795\n",
      "[354]\tvalidation_0-rmse:0.134865\n",
      "[355]\tvalidation_0-rmse:0.134922\n",
      "[356]\tvalidation_0-rmse:0.13496\n",
      "[357]\tvalidation_0-rmse:0.134942\n",
      "[358]\tvalidation_0-rmse:0.134935\n",
      "[359]\tvalidation_0-rmse:0.134933\n",
      "[360]\tvalidation_0-rmse:0.135035\n",
      "[361]\tvalidation_0-rmse:0.135102\n",
      "[362]\tvalidation_0-rmse:0.135096\n",
      "[363]\tvalidation_0-rmse:0.135058\n",
      "[364]\tvalidation_0-rmse:0.13501\n",
      "[365]\tvalidation_0-rmse:0.134982\n",
      "[366]\tvalidation_0-rmse:0.13493\n",
      "[367]\tvalidation_0-rmse:0.134907\n",
      "[368]\tvalidation_0-rmse:0.134945\n",
      "[369]\tvalidation_0-rmse:0.134977\n",
      "[370]\tvalidation_0-rmse:0.134949\n",
      "[371]\tvalidation_0-rmse:0.134937\n",
      "[372]\tvalidation_0-rmse:0.134931\n",
      "[373]\tvalidation_0-rmse:0.134953\n",
      "[374]\tvalidation_0-rmse:0.13495\n",
      "[375]\tvalidation_0-rmse:0.13494\n",
      "[376]\tvalidation_0-rmse:0.13491\n",
      "[377]\tvalidation_0-rmse:0.134997\n",
      "[378]\tvalidation_0-rmse:0.134929\n",
      "[379]\tvalidation_0-rmse:0.134928\n",
      "[380]\tvalidation_0-rmse:0.134923\n",
      "[381]\tvalidation_0-rmse:0.134915\n",
      "[382]\tvalidation_0-rmse:0.134925\n",
      "[383]\tvalidation_0-rmse:0.134886\n",
      "[384]\tvalidation_0-rmse:0.134896\n",
      "[385]\tvalidation_0-rmse:0.134914\n",
      "[386]\tvalidation_0-rmse:0.134918\n",
      "[387]\tvalidation_0-rmse:0.134908\n",
      "[388]\tvalidation_0-rmse:0.134908\n",
      "[389]\tvalidation_0-rmse:0.134921\n",
      "[390]\tvalidation_0-rmse:0.135004\n",
      "[391]\tvalidation_0-rmse:0.135016\n",
      "[392]\tvalidation_0-rmse:0.135079\n",
      "[393]\tvalidation_0-rmse:0.13506\n",
      "[394]\tvalidation_0-rmse:0.135054\n",
      "[395]\tvalidation_0-rmse:0.135042\n",
      "[396]\tvalidation_0-rmse:0.135031\n",
      "[397]\tvalidation_0-rmse:0.135063\n",
      "[398]\tvalidation_0-rmse:0.135006\n",
      "[399]\tvalidation_0-rmse:0.135011\n",
      "[400]\tvalidation_0-rmse:0.135041\n",
      "[401]\tvalidation_0-rmse:0.135001\n",
      "[402]\tvalidation_0-rmse:0.135008\n",
      "[403]\tvalidation_0-rmse:0.134999\n",
      "[404]\tvalidation_0-rmse:0.134889\n",
      "[405]\tvalidation_0-rmse:0.134944\n",
      "[406]\tvalidation_0-rmse:0.135019\n",
      "[407]\tvalidation_0-rmse:0.135011\n",
      "[408]\tvalidation_0-rmse:0.135057\n",
      "[409]\tvalidation_0-rmse:0.134958\n",
      "[410]\tvalidation_0-rmse:0.134944\n",
      "[411]\tvalidation_0-rmse:0.134934\n",
      "[412]\tvalidation_0-rmse:0.134955\n",
      "[413]\tvalidation_0-rmse:0.134956\n",
      "[414]\tvalidation_0-rmse:0.13494\n",
      "[415]\tvalidation_0-rmse:0.135013\n",
      "[416]\tvalidation_0-rmse:0.13507\n",
      "[417]\tvalidation_0-rmse:0.13507\n",
      "[418]\tvalidation_0-rmse:0.13513\n",
      "[419]\tvalidation_0-rmse:0.135134\n",
      "[420]\tvalidation_0-rmse:0.135149\n",
      "[421]\tvalidation_0-rmse:0.135145\n",
      "[422]\tvalidation_0-rmse:0.135206\n",
      "[423]\tvalidation_0-rmse:0.135208\n",
      "[424]\tvalidation_0-rmse:0.135181\n",
      "[425]\tvalidation_0-rmse:0.135243\n",
      "[426]\tvalidation_0-rmse:0.135184\n",
      "[427]\tvalidation_0-rmse:0.135184\n",
      "[428]\tvalidation_0-rmse:0.135141\n",
      "[429]\tvalidation_0-rmse:0.13505\n",
      "[430]\tvalidation_0-rmse:0.135041\n",
      "[431]\tvalidation_0-rmse:0.135109\n",
      "[432]\tvalidation_0-rmse:0.135075\n",
      "[433]\tvalidation_0-rmse:0.135027\n",
      "[434]\tvalidation_0-rmse:0.135027\n",
      "[435]\tvalidation_0-rmse:0.134911\n",
      "[436]\tvalidation_0-rmse:0.134926\n",
      "[437]\tvalidation_0-rmse:0.134913\n",
      "[438]\tvalidation_0-rmse:0.134939\n",
      "[439]\tvalidation_0-rmse:0.134915\n",
      "[440]\tvalidation_0-rmse:0.134961\n",
      "[441]\tvalidation_0-rmse:0.134969\n",
      "[442]\tvalidation_0-rmse:0.134959\n",
      "[443]\tvalidation_0-rmse:0.13495\n",
      "[444]\tvalidation_0-rmse:0.134939\n",
      "[445]\tvalidation_0-rmse:0.134996\n",
      "[446]\tvalidation_0-rmse:0.134914\n",
      "[447]\tvalidation_0-rmse:0.134919\n",
      "[448]\tvalidation_0-rmse:0.134923\n",
      "[449]\tvalidation_0-rmse:0.134969\n",
      "[450]\tvalidation_0-rmse:0.134964\n",
      "[451]\tvalidation_0-rmse:0.134967\n",
      "[452]\tvalidation_0-rmse:0.134915\n",
      "[453]\tvalidation_0-rmse:0.134914\n",
      "[454]\tvalidation_0-rmse:0.134917\n",
      "[455]\tvalidation_0-rmse:0.134876\n",
      "[456]\tvalidation_0-rmse:0.134868\n",
      "[457]\tvalidation_0-rmse:0.134856\n",
      "[458]\tvalidation_0-rmse:0.134855\n",
      "[459]\tvalidation_0-rmse:0.134865\n",
      "[460]\tvalidation_0-rmse:0.134829\n",
      "[461]\tvalidation_0-rmse:0.134832\n",
      "[462]\tvalidation_0-rmse:0.134792\n",
      "[463]\tvalidation_0-rmse:0.134791\n",
      "[464]\tvalidation_0-rmse:0.134862\n",
      "[465]\tvalidation_0-rmse:0.134904\n",
      "[466]\tvalidation_0-rmse:0.134956\n",
      "[467]\tvalidation_0-rmse:0.134887\n",
      "[468]\tvalidation_0-rmse:0.134876\n",
      "[469]\tvalidation_0-rmse:0.134867\n",
      "[470]\tvalidation_0-rmse:0.135159\n",
      "[471]\tvalidation_0-rmse:0.135182\n",
      "[472]\tvalidation_0-rmse:0.135201\n",
      "[473]\tvalidation_0-rmse:0.135218\n",
      "[474]\tvalidation_0-rmse:0.135262\n",
      "[475]\tvalidation_0-rmse:0.135162\n",
      "[476]\tvalidation_0-rmse:0.135182\n",
      "[477]\tvalidation_0-rmse:0.135172\n",
      "[478]\tvalidation_0-rmse:0.135169\n",
      "[479]\tvalidation_0-rmse:0.135162\n",
      "[480]\tvalidation_0-rmse:0.135161\n",
      "[481]\tvalidation_0-rmse:0.135169\n",
      "[482]\tvalidation_0-rmse:0.135238\n",
      "[483]\tvalidation_0-rmse:0.135289\n",
      "[484]\tvalidation_0-rmse:0.135282\n",
      "[485]\tvalidation_0-rmse:0.135231\n",
      "[486]\tvalidation_0-rmse:0.135256\n",
      "[487]\tvalidation_0-rmse:0.135483\n",
      "[488]\tvalidation_0-rmse:0.135501\n",
      "[489]\tvalidation_0-rmse:0.135485\n",
      "[490]\tvalidation_0-rmse:0.135578\n",
      "[491]\tvalidation_0-rmse:0.135537\n",
      "[492]\tvalidation_0-rmse:0.13552\n",
      "[493]\tvalidation_0-rmse:0.13554\n",
      "[494]\tvalidation_0-rmse:0.135536\n",
      "[495]\tvalidation_0-rmse:0.135584\n",
      "[496]\tvalidation_0-rmse:0.13563\n",
      "[497]\tvalidation_0-rmse:0.135569\n",
      "[498]\tvalidation_0-rmse:0.135505\n",
      "[499]\tvalidation_0-rmse:0.135474\n",
      "[500]\tvalidation_0-rmse:0.135446\n",
      "[501]\tvalidation_0-rmse:0.135482\n"
     ]
    },
    {
     "name": "stdout",
     "output_type": "stream",
     "text": [
      "[502]\tvalidation_0-rmse:0.135466\n",
      "[503]\tvalidation_0-rmse:0.135447\n",
      "[504]\tvalidation_0-rmse:0.135432\n",
      "[505]\tvalidation_0-rmse:0.135431\n",
      "[506]\tvalidation_0-rmse:0.13543\n",
      "[507]\tvalidation_0-rmse:0.135179\n",
      "[508]\tvalidation_0-rmse:0.13513\n",
      "[509]\tvalidation_0-rmse:0.135162\n",
      "[510]\tvalidation_0-rmse:0.135193\n",
      "[511]\tvalidation_0-rmse:0.135233\n",
      "[512]\tvalidation_0-rmse:0.135252\n",
      "[513]\tvalidation_0-rmse:0.135235\n",
      "[514]\tvalidation_0-rmse:0.135306\n",
      "[515]\tvalidation_0-rmse:0.135393\n",
      "[516]\tvalidation_0-rmse:0.135393\n",
      "[517]\tvalidation_0-rmse:0.135413\n",
      "[518]\tvalidation_0-rmse:0.135399\n",
      "[519]\tvalidation_0-rmse:0.135417\n",
      "[520]\tvalidation_0-rmse:0.135416\n",
      "[521]\tvalidation_0-rmse:0.135454\n",
      "[522]\tvalidation_0-rmse:0.135472\n",
      "[523]\tvalidation_0-rmse:0.135435\n",
      "[524]\tvalidation_0-rmse:0.135436\n",
      "[525]\tvalidation_0-rmse:0.135436\n",
      "[526]\tvalidation_0-rmse:0.135432\n",
      "[527]\tvalidation_0-rmse:0.135498\n",
      "[528]\tvalidation_0-rmse:0.135515\n",
      "[529]\tvalidation_0-rmse:0.13559\n",
      "[530]\tvalidation_0-rmse:0.13559\n",
      "[531]\tvalidation_0-rmse:0.135546\n",
      "[532]\tvalidation_0-rmse:0.135536\n",
      "[533]\tvalidation_0-rmse:0.135548\n",
      "[534]\tvalidation_0-rmse:0.135524\n",
      "[535]\tvalidation_0-rmse:0.135562\n",
      "[536]\tvalidation_0-rmse:0.135531\n",
      "[537]\tvalidation_0-rmse:0.135529\n",
      "[538]\tvalidation_0-rmse:0.135548\n",
      "[539]\tvalidation_0-rmse:0.135581\n",
      "[540]\tvalidation_0-rmse:0.1355\n",
      "[541]\tvalidation_0-rmse:0.135286\n",
      "[542]\tvalidation_0-rmse:0.135268\n",
      "[543]\tvalidation_0-rmse:0.135287\n",
      "[544]\tvalidation_0-rmse:0.135292\n",
      "[545]\tvalidation_0-rmse:0.135305\n",
      "[546]\tvalidation_0-rmse:0.135283\n",
      "[547]\tvalidation_0-rmse:0.135092\n",
      "[548]\tvalidation_0-rmse:0.135078\n",
      "[549]\tvalidation_0-rmse:0.135061\n",
      "[550]\tvalidation_0-rmse:0.135045\n",
      "[551]\tvalidation_0-rmse:0.135031\n",
      "[552]\tvalidation_0-rmse:0.135043\n",
      "[553]\tvalidation_0-rmse:0.135026\n",
      "[554]\tvalidation_0-rmse:0.134999\n",
      "[555]\tvalidation_0-rmse:0.135003\n",
      "[556]\tvalidation_0-rmse:0.13497\n",
      "[557]\tvalidation_0-rmse:0.13498\n",
      "[558]\tvalidation_0-rmse:0.134937\n",
      "[559]\tvalidation_0-rmse:0.134922\n",
      "[560]\tvalidation_0-rmse:0.134924\n",
      "[561]\tvalidation_0-rmse:0.134935\n",
      "[562]\tvalidation_0-rmse:0.134976\n",
      "[563]\tvalidation_0-rmse:0.135059\n",
      "[564]\tvalidation_0-rmse:0.135074\n",
      "[565]\tvalidation_0-rmse:0.135141\n",
      "[566]\tvalidation_0-rmse:0.135131\n",
      "[567]\tvalidation_0-rmse:0.135145\n",
      "[568]\tvalidation_0-rmse:0.135164\n",
      "[569]\tvalidation_0-rmse:0.135147\n",
      "[570]\tvalidation_0-rmse:0.135189\n",
      "[571]\tvalidation_0-rmse:0.135188\n",
      "[572]\tvalidation_0-rmse:0.135188\n",
      "[573]\tvalidation_0-rmse:0.135203\n",
      "[574]\tvalidation_0-rmse:0.135273\n",
      "[575]\tvalidation_0-rmse:0.135205\n",
      "[576]\tvalidation_0-rmse:0.135066\n",
      "[577]\tvalidation_0-rmse:0.135072\n",
      "[578]\tvalidation_0-rmse:0.135107\n",
      "[579]\tvalidation_0-rmse:0.135115\n",
      "[580]\tvalidation_0-rmse:0.135125\n",
      "[581]\tvalidation_0-rmse:0.135087\n",
      "[582]\tvalidation_0-rmse:0.135066\n",
      "[583]\tvalidation_0-rmse:0.13503\n",
      "[584]\tvalidation_0-rmse:0.135057\n",
      "[585]\tvalidation_0-rmse:0.135058\n",
      "[586]\tvalidation_0-rmse:0.135019\n",
      "[587]\tvalidation_0-rmse:0.135012\n",
      "[588]\tvalidation_0-rmse:0.135005\n",
      "[589]\tvalidation_0-rmse:0.135005\n",
      "[590]\tvalidation_0-rmse:0.134997\n",
      "[591]\tvalidation_0-rmse:0.135031\n",
      "[592]\tvalidation_0-rmse:0.135113\n",
      "[593]\tvalidation_0-rmse:0.135234\n",
      "[594]\tvalidation_0-rmse:0.135231\n",
      "[595]\tvalidation_0-rmse:0.135241\n",
      "[596]\tvalidation_0-rmse:0.135231\n",
      "[597]\tvalidation_0-rmse:0.135233\n",
      "[598]\tvalidation_0-rmse:0.13522\n",
      "[599]\tvalidation_0-rmse:0.135237\n",
      "[600]\tvalidation_0-rmse:0.135186\n",
      "[601]\tvalidation_0-rmse:0.135152\n",
      "[602]\tvalidation_0-rmse:0.135166\n",
      "[603]\tvalidation_0-rmse:0.135151\n",
      "[604]\tvalidation_0-rmse:0.135148\n",
      "[605]\tvalidation_0-rmse:0.135157\n",
      "[606]\tvalidation_0-rmse:0.135113\n",
      "[607]\tvalidation_0-rmse:0.135114\n",
      "[608]\tvalidation_0-rmse:0.135099\n",
      "[609]\tvalidation_0-rmse:0.135133\n",
      "[610]\tvalidation_0-rmse:0.13519\n",
      "[611]\tvalidation_0-rmse:0.135158\n",
      "[612]\tvalidation_0-rmse:0.135149\n",
      "[613]\tvalidation_0-rmse:0.135195\n",
      "[614]\tvalidation_0-rmse:0.135204\n",
      "[615]\tvalidation_0-rmse:0.135199\n",
      "[616]\tvalidation_0-rmse:0.135197\n",
      "[617]\tvalidation_0-rmse:0.135226\n",
      "[618]\tvalidation_0-rmse:0.13524\n",
      "[619]\tvalidation_0-rmse:0.135224\n",
      "[620]\tvalidation_0-rmse:0.135088\n",
      "[621]\tvalidation_0-rmse:0.135099\n",
      "[622]\tvalidation_0-rmse:0.135105\n",
      "[623]\tvalidation_0-rmse:0.135184\n",
      "[624]\tvalidation_0-rmse:0.135195\n",
      "[625]\tvalidation_0-rmse:0.135181\n",
      "[626]\tvalidation_0-rmse:0.135225\n",
      "[627]\tvalidation_0-rmse:0.13527\n",
      "[628]\tvalidation_0-rmse:0.135274\n",
      "[629]\tvalidation_0-rmse:0.135331\n",
      "[630]\tvalidation_0-rmse:0.135307\n",
      "[631]\tvalidation_0-rmse:0.135341\n",
      "[632]\tvalidation_0-rmse:0.135322\n",
      "[633]\tvalidation_0-rmse:0.135372\n",
      "[634]\tvalidation_0-rmse:0.135386\n",
      "[635]\tvalidation_0-rmse:0.135406\n",
      "[636]\tvalidation_0-rmse:0.135414\n",
      "[637]\tvalidation_0-rmse:0.135433\n",
      "[638]\tvalidation_0-rmse:0.135394\n",
      "[639]\tvalidation_0-rmse:0.135438\n",
      "[640]\tvalidation_0-rmse:0.135423\n",
      "[641]\tvalidation_0-rmse:0.135426\n",
      "[642]\tvalidation_0-rmse:0.13545\n",
      "[643]\tvalidation_0-rmse:0.135442\n",
      "[644]\tvalidation_0-rmse:0.135451\n",
      "[645]\tvalidation_0-rmse:0.135547\n",
      "[646]\tvalidation_0-rmse:0.135589\n",
      "[647]\tvalidation_0-rmse:0.135605\n",
      "[648]\tvalidation_0-rmse:0.135459\n",
      "[649]\tvalidation_0-rmse:0.135478\n",
      "[650]\tvalidation_0-rmse:0.135555\n",
      "[651]\tvalidation_0-rmse:0.135515\n",
      "[652]\tvalidation_0-rmse:0.13552\n",
      "[653]\tvalidation_0-rmse:0.135499\n",
      "[654]\tvalidation_0-rmse:0.135541\n",
      "[655]\tvalidation_0-rmse:0.135529\n",
      "[656]\tvalidation_0-rmse:0.135515\n",
      "[657]\tvalidation_0-rmse:0.13558\n",
      "[658]\tvalidation_0-rmse:0.135619\n",
      "[659]\tvalidation_0-rmse:0.135603\n",
      "[660]\tvalidation_0-rmse:0.13564\n",
      "[661]\tvalidation_0-rmse:0.135648\n",
      "[662]\tvalidation_0-rmse:0.135641\n",
      "[663]\tvalidation_0-rmse:0.13564\n",
      "[664]\tvalidation_0-rmse:0.135696\n",
      "[665]\tvalidation_0-rmse:0.135689\n",
      "[666]\tvalidation_0-rmse:0.135662\n",
      "[667]\tvalidation_0-rmse:0.135667\n",
      "[668]\tvalidation_0-rmse:0.135671\n",
      "[669]\tvalidation_0-rmse:0.135751\n",
      "[670]\tvalidation_0-rmse:0.13577\n",
      "[671]\tvalidation_0-rmse:0.135773\n",
      "[672]\tvalidation_0-rmse:0.135811\n",
      "[673]\tvalidation_0-rmse:0.135826\n",
      "[674]\tvalidation_0-rmse:0.135834\n",
      "[675]\tvalidation_0-rmse:0.135832\n",
      "[676]\tvalidation_0-rmse:0.135906\n",
      "[677]\tvalidation_0-rmse:0.135931\n",
      "[678]\tvalidation_0-rmse:0.135928\n",
      "[679]\tvalidation_0-rmse:0.135898\n",
      "[680]\tvalidation_0-rmse:0.135896\n",
      "[681]\tvalidation_0-rmse:0.135904\n",
      "[682]\tvalidation_0-rmse:0.135899\n",
      "[683]\tvalidation_0-rmse:0.135901\n",
      "[684]\tvalidation_0-rmse:0.135871\n",
      "[685]\tvalidation_0-rmse:0.135819\n",
      "[686]\tvalidation_0-rmse:0.135846\n",
      "[687]\tvalidation_0-rmse:0.135898\n",
      "[688]\tvalidation_0-rmse:0.135885\n",
      "[689]\tvalidation_0-rmse:0.135836\n",
      "[690]\tvalidation_0-rmse:0.135836\n",
      "[691]\tvalidation_0-rmse:0.135819\n",
      "[692]\tvalidation_0-rmse:0.135798\n",
      "[693]\tvalidation_0-rmse:0.135777\n",
      "[694]\tvalidation_0-rmse:0.135849\n",
      "[695]\tvalidation_0-rmse:0.135864\n",
      "[696]\tvalidation_0-rmse:0.135751\n",
      "[697]\tvalidation_0-rmse:0.135758\n",
      "[698]\tvalidation_0-rmse:0.135766\n",
      "[699]\tvalidation_0-rmse:0.13577\n",
      "[700]\tvalidation_0-rmse:0.135804\n",
      "[701]\tvalidation_0-rmse:0.135812\n",
      "[702]\tvalidation_0-rmse:0.135804\n",
      "[703]\tvalidation_0-rmse:0.135793\n",
      "[704]\tvalidation_0-rmse:0.135763\n",
      "[705]\tvalidation_0-rmse:0.135757\n",
      "[706]\tvalidation_0-rmse:0.135797\n",
      "[707]\tvalidation_0-rmse:0.135798\n",
      "[708]\tvalidation_0-rmse:0.135749\n",
      "[709]\tvalidation_0-rmse:0.135736\n",
      "[710]\tvalidation_0-rmse:0.135811\n",
      "[711]\tvalidation_0-rmse:0.135799\n",
      "[712]\tvalidation_0-rmse:0.13585\n",
      "[713]\tvalidation_0-rmse:0.135841\n",
      "[714]\tvalidation_0-rmse:0.135799\n",
      "[715]\tvalidation_0-rmse:0.135822\n",
      "[716]\tvalidation_0-rmse:0.135899\n",
      "[717]\tvalidation_0-rmse:0.135822\n",
      "[718]\tvalidation_0-rmse:0.135787\n",
      "[719]\tvalidation_0-rmse:0.135802\n",
      "[720]\tvalidation_0-rmse:0.135799\n",
      "[721]\tvalidation_0-rmse:0.135811\n",
      "[722]\tvalidation_0-rmse:0.13577\n",
      "[723]\tvalidation_0-rmse:0.135768\n",
      "[724]\tvalidation_0-rmse:0.135759\n",
      "[725]\tvalidation_0-rmse:0.135749\n",
      "[726]\tvalidation_0-rmse:0.135736\n",
      "[727]\tvalidation_0-rmse:0.135735\n",
      "[728]\tvalidation_0-rmse:0.135728\n",
      "[729]\tvalidation_0-rmse:0.135735\n",
      "[730]\tvalidation_0-rmse:0.135721\n",
      "[731]\tvalidation_0-rmse:0.135799\n",
      "[732]\tvalidation_0-rmse:0.135853\n",
      "[733]\tvalidation_0-rmse:0.135865\n",
      "[734]\tvalidation_0-rmse:0.13588\n",
      "[735]\tvalidation_0-rmse:0.135859\n",
      "[736]\tvalidation_0-rmse:0.135922\n",
      "[737]\tvalidation_0-rmse:0.135956\n",
      "[738]\tvalidation_0-rmse:0.135943\n",
      "[739]\tvalidation_0-rmse:0.13595\n",
      "[740]\tvalidation_0-rmse:0.135951\n",
      "[741]\tvalidation_0-rmse:0.135895\n",
      "[742]\tvalidation_0-rmse:0.135896\n",
      "[743]\tvalidation_0-rmse:0.135917\n",
      "[744]\tvalidation_0-rmse:0.135915\n",
      "[745]\tvalidation_0-rmse:0.135949\n",
      "[746]\tvalidation_0-rmse:0.135955\n",
      "[747]\tvalidation_0-rmse:0.135995\n",
      "[748]\tvalidation_0-rmse:0.135948\n",
      "[749]\tvalidation_0-rmse:0.135959\n",
      "[750]\tvalidation_0-rmse:0.135974\n"
     ]
    },
    {
     "name": "stdout",
     "output_type": "stream",
     "text": [
      "[751]\tvalidation_0-rmse:0.135998\n",
      "[752]\tvalidation_0-rmse:0.136069\n",
      "[753]\tvalidation_0-rmse:0.136054\n",
      "[754]\tvalidation_0-rmse:0.136061\n",
      "[755]\tvalidation_0-rmse:0.136026\n",
      "[756]\tvalidation_0-rmse:0.136056\n",
      "[757]\tvalidation_0-rmse:0.13606\n",
      "[758]\tvalidation_0-rmse:0.136058\n",
      "[759]\tvalidation_0-rmse:0.136084\n",
      "[760]\tvalidation_0-rmse:0.136119\n",
      "[761]\tvalidation_0-rmse:0.136087\n",
      "[762]\tvalidation_0-rmse:0.136086\n",
      "[763]\tvalidation_0-rmse:0.135977\n",
      "[764]\tvalidation_0-rmse:0.135903\n",
      "[765]\tvalidation_0-rmse:0.135878\n",
      "[766]\tvalidation_0-rmse:0.135889\n",
      "[767]\tvalidation_0-rmse:0.135918\n",
      "[768]\tvalidation_0-rmse:0.135911\n",
      "[769]\tvalidation_0-rmse:0.135915\n",
      "[770]\tvalidation_0-rmse:0.135971\n",
      "[771]\tvalidation_0-rmse:0.135955\n",
      "[772]\tvalidation_0-rmse:0.135947\n",
      "[773]\tvalidation_0-rmse:0.13597\n",
      "[774]\tvalidation_0-rmse:0.135955\n",
      "[775]\tvalidation_0-rmse:0.135939\n",
      "[776]\tvalidation_0-rmse:0.135978\n",
      "[777]\tvalidation_0-rmse:0.135981\n",
      "[778]\tvalidation_0-rmse:0.135981\n",
      "[779]\tvalidation_0-rmse:0.136044\n",
      "[780]\tvalidation_0-rmse:0.136026\n",
      "[781]\tvalidation_0-rmse:0.136017\n",
      "[782]\tvalidation_0-rmse:0.136019\n",
      "[783]\tvalidation_0-rmse:0.13601\n",
      "[784]\tvalidation_0-rmse:0.136003\n",
      "[785]\tvalidation_0-rmse:0.136005\n",
      "[786]\tvalidation_0-rmse:0.135982\n",
      "[787]\tvalidation_0-rmse:0.135968\n",
      "[788]\tvalidation_0-rmse:0.13595\n",
      "[789]\tvalidation_0-rmse:0.135898\n",
      "[790]\tvalidation_0-rmse:0.135802\n",
      "[791]\tvalidation_0-rmse:0.135797\n",
      "[792]\tvalidation_0-rmse:0.135855\n",
      "[793]\tvalidation_0-rmse:0.135885\n",
      "[794]\tvalidation_0-rmse:0.135888\n",
      "Stopping. Best iteration:\n",
      "[294]\tvalidation_0-rmse:0.134105\n",
      "\n"
     ]
    },
    {
     "data": {
      "text/plain": [
       "XGBRegressor(base_score=0.5, booster='gbtree', colsample_bylevel=1,\n",
       "       colsample_bytree=1, gamma=0, learning_rate=0.1, max_delta_step=0,\n",
       "       max_depth=2, min_child_weight=1, missing=None, n_estimators=1000,\n",
       "       n_jobs=1, nthread=None, objective='reg:linear', random_state=0,\n",
       "       reg_alpha=0, reg_lambda=1, scale_pos_weight=1, seed=None,\n",
       "       silent=True, subsample=1)"
      ]
     },
     "execution_count": 20,
     "metadata": {},
     "output_type": "execute_result"
    }
   ],
   "source": [
    "model_xgb = xgb.XGBRegressor(n_estimators=1000, max_depth=2, learning_rate=0.1)\n",
    "model_xgb.fit(X_tr, y_tr, eval_metric=\"rmse\", early_stopping_rounds=500, eval_set=eval_set, verbose=True)\n",
    "# model_xgb.fit(X, np.log1p(Y))"
   ]
  },
  {
   "cell_type": "code",
   "execution_count": 21,
   "metadata": {},
   "outputs": [
    {
     "name": "stdout",
     "output_type": "stream",
     "text": [
      "0.08910122035234937\n",
      "17764.423419253515\n"
     ]
    }
   ],
   "source": [
    "Ypred_xgb = np.expm1(model_xgb.predict(full_X))\n",
    "print(error(full_Y, Ypred_xgb))\n",
    "print(error_mse(full_Y, Ypred_xgb))"
   ]
  },
  {
   "cell_type": "markdown",
   "metadata": {},
   "source": [
    "#### test dataset"
   ]
  },
  {
   "cell_type": "code",
   "execution_count": 22,
   "metadata": {},
   "outputs": [
    {
     "name": "stdout",
     "output_type": "stream",
     "text": [
      "0.15141766268525939\n",
      "24416.234424868107\n"
     ]
    }
   ],
   "source": [
    "full_test_X = df_test[features_full_list]\n",
    "test_Y = df_test['SalePrice'].values\n",
    "\n",
    "test_pred = np.expm1(model_xgb.predict(full_test_X))\n",
    "\n",
    "print(error(test_Y, test_pred))\n",
    "print(error_mse(test_Y, test_pred))"
   ]
  },
  {
   "cell_type": "markdown",
   "metadata": {},
   "source": [
    "## MLP"
   ]
  },
  {
   "cell_type": "code",
   "execution_count": 23,
   "metadata": {},
   "outputs": [],
   "source": [
    "import tensorflow as tf\n",
    "from keras.layers import Dense\n",
    "from keras.models import Sequential\n",
    "from keras.regularizers import l1\n",
    "from keras.callbacks import EarlyStopping\n",
    "from keras.callbacks import ModelCheckpoint \n",
    "from keras.callbacks import LearningRateScheduler\n",
    "from keras import optimizers\n",
    "from sklearn.preprocessing import StandardScaler\n",
    "from keras import backend as K\n",
    "from keras import losses\n",
    "\n",
    "tf.logging.set_verbosity(tf.logging.ERROR)\n",
    "tf.set_random_seed(42)\n",
    "np.random.seed(42)"
   ]
  },
  {
   "cell_type": "code",
   "execution_count": 24,
   "metadata": {},
   "outputs": [],
   "source": [
    "mlp_feed = df_train[features]"
   ]
  },
  {
   "cell_type": "code",
   "execution_count": 25,
   "metadata": {},
   "outputs": [],
   "source": [
    "X_tr, X_val, y_tr, y_val = train_test_split(mlp_feed, np.log1p(Y), random_state = 7, test_size=0.20)"
   ]
  },
  {
   "cell_type": "code",
   "execution_count": 26,
   "metadata": {},
   "outputs": [],
   "source": [
    "model = Sequential()\n",
    "model.add(Dense(10, input_dim=mlp_feed.shape[1], activation='relu'))\n",
    "model.add(Dense(30, activation='relu'))\n",
    "model.add(Dense(40, activation='relu'))\n",
    "model.add(Dense(1))\n",
    "\n",
    "# adam = optimizers.Adam()\n",
    "# model.compile(loss = losses.mean_squared_error, optimizer = adam)\n",
    "\n",
    "model.compile(optimizer ='adam', loss = 'mean_squared_error', metrics =[metrics.mae])"
   ]
  },
  {
   "cell_type": "code",
   "execution_count": 27,
   "metadata": {},
   "outputs": [
    {
     "name": "stdout",
     "output_type": "stream",
     "text": [
      "_________________________________________________________________\n",
      "Layer (type)                 Output Shape              Param #   \n",
      "=================================================================\n",
      "dense_1 (Dense)              (None, 10)                210       \n",
      "_________________________________________________________________\n",
      "dense_2 (Dense)              (None, 30)                330       \n",
      "_________________________________________________________________\n",
      "dense_3 (Dense)              (None, 40)                1240      \n",
      "_________________________________________________________________\n",
      "dense_4 (Dense)              (None, 1)                 41        \n",
      "=================================================================\n",
      "Total params: 1,821\n",
      "Trainable params: 1,821\n",
      "Non-trainable params: 0\n",
      "_________________________________________________________________\n"
     ]
    }
   ],
   "source": [
    "model.summary()"
   ]
  },
  {
   "cell_type": "code",
   "execution_count": 28,
   "metadata": {},
   "outputs": [],
   "source": [
    "monitor = EarlyStopping(monitor='val_loss', min_delta=1e-4, patience=20, verbose=1, mode='auto')\n",
    "checkpointer = ModelCheckpoint(filepath=\"best_weights.hdf5\", verbose=0, save_best_only=True)  # save best model"
   ]
  },
  {
   "cell_type": "code",
   "execution_count": 29,
   "metadata": {},
   "outputs": [
    {
     "name": "stdout",
     "output_type": "stream",
     "text": [
      "Train on 1168 samples, validate on 292 samples\n",
      "Epoch 1/150\n",
      "1168/1168 [==============================] - 5s 5ms/step - loss: 101.3542 - mean_absolute_error: 3.9723 - val_loss: 5.6812 - val_mean_absolute_error: 1.8928\n",
      "Epoch 2/150\n",
      "1168/1168 [==============================] - 5s 5ms/step - loss: 6.5572 - mean_absolute_error: 1.7069 - val_loss: 7.6815 - val_mean_absolute_error: 1.9564\n",
      "Epoch 3/150\n",
      "1168/1168 [==============================] - 5s 4ms/step - loss: 18.5491 - mean_absolute_error: 2.3629 - val_loss: 3.8346 - val_mean_absolute_error: 1.4588\n",
      "Epoch 4/150\n",
      "1168/1168 [==============================] - 5s 5ms/step - loss: 34.0254 - mean_absolute_error: 2.0923 - val_loss: 0.5942 - val_mean_absolute_error: 0.4881\n",
      "Epoch 5/150\n",
      "1168/1168 [==============================] - 5s 4ms/step - loss: 9.4651 - mean_absolute_error: 1.3936 - val_loss: 4.4157 - val_mean_absolute_error: 2.0519\n",
      "Epoch 6/150\n",
      "1168/1168 [==============================] - 6s 5ms/step - loss: 1.3993 - mean_absolute_error: 0.8479 - val_loss: 0.4132 - val_mean_absolute_error: 0.4683\n",
      "Epoch 7/150\n",
      "1168/1168 [==============================] - 6s 5ms/step - loss: 1.8458 - mean_absolute_error: 0.9756 - val_loss: 2.6418 - val_mean_absolute_error: 1.5872\n",
      "Epoch 8/150\n",
      "1168/1168 [==============================] - 6s 5ms/step - loss: 1.3400 - mean_absolute_error: 0.8740 - val_loss: 0.3360 - val_mean_absolute_error: 0.3059\n",
      "Epoch 9/150\n",
      "1168/1168 [==============================] - 6s 5ms/step - loss: 1.9200 - mean_absolute_error: 0.9533 - val_loss: 0.4548 - val_mean_absolute_error: 0.6119\n",
      "Epoch 10/150\n",
      "1168/1168 [==============================] - 5s 5ms/step - loss: 2.0966 - mean_absolute_error: 1.0120 - val_loss: 0.2531 - val_mean_absolute_error: 0.3620\n",
      "Epoch 11/150\n",
      "1168/1168 [==============================] - 6s 5ms/step - loss: 0.5300 - mean_absolute_error: 0.5134 - val_loss: 0.0680 - val_mean_absolute_error: 0.1842\n",
      "Epoch 12/150\n",
      "1168/1168 [==============================] - 6s 6ms/step - loss: 0.5839 - mean_absolute_error: 0.5388 - val_loss: 0.6575 - val_mean_absolute_error: 0.6264\n",
      "Epoch 13/150\n",
      "1168/1168 [==============================] - 6s 5ms/step - loss: 1.2603 - mean_absolute_error: 0.6322 - val_loss: 1.0550 - val_mean_absolute_error: 0.9605\n",
      "Epoch 14/150\n",
      "1168/1168 [==============================] - 5s 5ms/step - loss: 0.1915 - mean_absolute_error: 0.3103 - val_loss: 0.1334 - val_mean_absolute_error: 0.2488\n",
      "Epoch 15/150\n",
      "1168/1168 [==============================] - 5s 5ms/step - loss: 0.1978 - mean_absolute_error: 0.3093 - val_loss: 0.0938 - val_mean_absolute_error: 0.2171\n",
      "Epoch 16/150\n",
      "1168/1168 [==============================] - 6s 5ms/step - loss: 0.2007 - mean_absolute_error: 0.3160 - val_loss: 0.1688 - val_mean_absolute_error: 0.1670\n",
      "Epoch 17/150\n",
      "1168/1168 [==============================] - 6s 5ms/step - loss: 0.1716 - mean_absolute_error: 0.2973 - val_loss: 0.3048 - val_mean_absolute_error: 0.2113\n",
      "Epoch 18/150\n",
      "1168/1168 [==============================] - 5s 4ms/step - loss: 0.1684 - mean_absolute_error: 0.2647 - val_loss: 0.2840 - val_mean_absolute_error: 0.2644\n",
      "Epoch 19/150\n",
      "1168/1168 [==============================] - 6s 6ms/step - loss: 0.1720 - mean_absolute_error: 0.2899 - val_loss: 0.2207 - val_mean_absolute_error: 0.2167\n",
      "Epoch 20/150\n",
      "1168/1168 [==============================] - 5s 4ms/step - loss: 0.1134 - mean_absolute_error: 0.2478 - val_loss: 0.2519 - val_mean_absolute_error: 0.4030\n",
      "Epoch 21/150\n",
      "1168/1168 [==============================] - 6s 5ms/step - loss: 0.1612 - mean_absolute_error: 0.2641 - val_loss: 0.1250 - val_mean_absolute_error: 0.2188\n",
      "Epoch 22/150\n",
      "1168/1168 [==============================] - 5s 4ms/step - loss: 0.1321 - mean_absolute_error: 0.2541 - val_loss: 0.2078 - val_mean_absolute_error: 0.3473\n",
      "Epoch 23/150\n",
      "1168/1168 [==============================] - 5s 4ms/step - loss: 0.1253 - mean_absolute_error: 0.2553 - val_loss: 0.1769 - val_mean_absolute_error: 0.3294\n",
      "Epoch 24/150\n",
      "1168/1168 [==============================] - 6s 5ms/step - loss: 0.2748 - mean_absolute_error: 0.3317 - val_loss: 0.2547 - val_mean_absolute_error: 0.2712\n",
      "Epoch 25/150\n",
      "1168/1168 [==============================] - 6s 5ms/step - loss: 0.1137 - mean_absolute_error: 0.2372 - val_loss: 0.1339 - val_mean_absolute_error: 0.1993\n",
      "Epoch 26/150\n",
      "1168/1168 [==============================] - 5s 5ms/step - loss: 0.0977 - mean_absolute_error: 0.2176 - val_loss: 0.0602 - val_mean_absolute_error: 0.1331\n",
      "Epoch 27/150\n",
      "1168/1168 [==============================] - 6s 5ms/step - loss: 0.0884 - mean_absolute_error: 0.2125 - val_loss: 0.0426 - val_mean_absolute_error: 0.1267\n",
      "Epoch 28/150\n",
      "1168/1168 [==============================] - 6s 5ms/step - loss: 0.1186 - mean_absolute_error: 0.2354 - val_loss: 0.1106 - val_mean_absolute_error: 0.2585\n",
      "Epoch 29/150\n",
      "1168/1168 [==============================] - 6s 5ms/step - loss: 0.1201 - mean_absolute_error: 0.2269 - val_loss: 0.0318 - val_mean_absolute_error: 0.1168\n",
      "Epoch 30/150\n",
      "1168/1168 [==============================] - 5s 4ms/step - loss: 0.0998 - mean_absolute_error: 0.2164 - val_loss: 0.0646 - val_mean_absolute_error: 0.1563\n",
      "Epoch 31/150\n",
      "1168/1168 [==============================] - 6s 5ms/step - loss: 0.1264 - mean_absolute_error: 0.2467 - val_loss: 0.4378 - val_mean_absolute_error: 0.5485\n",
      "Epoch 32/150\n",
      "1168/1168 [==============================] - 6s 5ms/step - loss: 0.0907 - mean_absolute_error: 0.2112 - val_loss: 0.0589 - val_mean_absolute_error: 0.1829\n",
      "Epoch 33/150\n",
      "1168/1168 [==============================] - 5s 4ms/step - loss: 0.1034 - mean_absolute_error: 0.2280 - val_loss: 0.0544 - val_mean_absolute_error: 0.1938\n",
      "Epoch 34/150\n",
      "1168/1168 [==============================] - 5s 4ms/step - loss: 0.1030 - mean_absolute_error: 0.2209 - val_loss: 0.0595 - val_mean_absolute_error: 0.1569\n",
      "Epoch 35/150\n",
      "1168/1168 [==============================] - 6s 5ms/step - loss: 0.0924 - mean_absolute_error: 0.2000 - val_loss: 0.0450 - val_mean_absolute_error: 0.1533\n",
      "Epoch 36/150\n",
      "1168/1168 [==============================] - 5s 4ms/step - loss: 0.0648 - mean_absolute_error: 0.1776 - val_loss: 0.0307 - val_mean_absolute_error: 0.1310\n",
      "Epoch 37/150\n",
      "1168/1168 [==============================] - 6s 5ms/step - loss: 0.0980 - mean_absolute_error: 0.2089 - val_loss: 0.0331 - val_mean_absolute_error: 0.1408\n",
      "Epoch 38/150\n",
      "1168/1168 [==============================] - 5s 4ms/step - loss: 0.0849 - mean_absolute_error: 0.1960 - val_loss: 0.0291 - val_mean_absolute_error: 0.1282\n",
      "Epoch 39/150\n",
      "1168/1168 [==============================] - 6s 5ms/step - loss: 0.0930 - mean_absolute_error: 0.2151 - val_loss: 0.0597 - val_mean_absolute_error: 0.1897\n",
      "Epoch 40/150\n",
      "1168/1168 [==============================] - 6s 5ms/step - loss: 0.0723 - mean_absolute_error: 0.1896 - val_loss: 0.0403 - val_mean_absolute_error: 0.1461\n",
      "Epoch 41/150\n",
      "1168/1168 [==============================] - 5s 5ms/step - loss: 0.0652 - mean_absolute_error: 0.1830 - val_loss: 0.0461 - val_mean_absolute_error: 0.1602\n",
      "Epoch 42/150\n",
      "1168/1168 [==============================] - 6s 5ms/step - loss: 0.0955 - mean_absolute_error: 0.2128 - val_loss: 0.0822 - val_mean_absolute_error: 0.2352\n",
      "Epoch 43/150\n",
      "1168/1168 [==============================] - 5s 4ms/step - loss: 0.0758 - mean_absolute_error: 0.1922 - val_loss: 0.0421 - val_mean_absolute_error: 0.1206\n",
      "Epoch 44/150\n",
      "1168/1168 [==============================] - 6s 5ms/step - loss: 0.0684 - mean_absolute_error: 0.1882 - val_loss: 0.0617 - val_mean_absolute_error: 0.1628\n",
      "Epoch 45/150\n",
      "1168/1168 [==============================] - 5s 5ms/step - loss: 0.0608 - mean_absolute_error: 0.1852 - val_loss: 0.0696 - val_mean_absolute_error: 0.1860\n",
      "Epoch 46/150\n",
      "1168/1168 [==============================] - 6s 5ms/step - loss: 0.0575 - mean_absolute_error: 0.1741 - val_loss: 0.0724 - val_mean_absolute_error: 0.1673\n",
      "Epoch 47/150\n",
      "1168/1168 [==============================] - 6s 5ms/step - loss: 0.0537 - mean_absolute_error: 0.1779 - val_loss: 0.0646 - val_mean_absolute_error: 0.1392\n",
      "Epoch 48/150\n",
      "1168/1168 [==============================] - 4s 3ms/step - loss: 0.0599 - mean_absolute_error: 0.1812 - val_loss: 0.0552 - val_mean_absolute_error: 0.1285\n",
      "Epoch 49/150\n"
     ]
    },
    {
     "name": "stdout",
     "output_type": "stream",
     "text": [
      "1168/1168 [==============================] - 5s 5ms/step - loss: 0.0583 - mean_absolute_error: 0.1769 - val_loss: 0.1206 - val_mean_absolute_error: 0.2758\n",
      "Epoch 50/150\n",
      "1168/1168 [==============================] - 5s 5ms/step - loss: 0.0502 - mean_absolute_error: 0.1711 - val_loss: 0.0818 - val_mean_absolute_error: 0.2213\n",
      "Epoch 51/150\n",
      "1168/1168 [==============================] - 5s 5ms/step - loss: 0.0611 - mean_absolute_error: 0.1830 - val_loss: 0.0628 - val_mean_absolute_error: 0.1593\n",
      "Epoch 52/150\n",
      "1168/1168 [==============================] - 5s 5ms/step - loss: 0.0591 - mean_absolute_error: 0.1822 - val_loss: 0.0596 - val_mean_absolute_error: 0.1569\n",
      "Epoch 53/150\n",
      "1168/1168 [==============================] - 6s 5ms/step - loss: 0.0533 - mean_absolute_error: 0.1707 - val_loss: 0.0712 - val_mean_absolute_error: 0.1456\n",
      "Epoch 54/150\n",
      "1168/1168 [==============================] - 5s 4ms/step - loss: 0.0488 - mean_absolute_error: 0.1679 - val_loss: 0.0621 - val_mean_absolute_error: 0.1398\n",
      "Epoch 55/150\n",
      "1168/1168 [==============================] - 5s 4ms/step - loss: 0.0565 - mean_absolute_error: 0.1749 - val_loss: 0.0781 - val_mean_absolute_error: 0.1275\n",
      "Epoch 56/150\n",
      "1168/1168 [==============================] - 5s 4ms/step - loss: 0.0597 - mean_absolute_error: 0.1770 - val_loss: 0.1579 - val_mean_absolute_error: 0.3154\n",
      "Epoch 57/150\n",
      "1168/1168 [==============================] - 5s 4ms/step - loss: 0.0471 - mean_absolute_error: 0.1644 - val_loss: 0.0863 - val_mean_absolute_error: 0.1803\n",
      "Epoch 58/150\n",
      "1168/1168 [==============================] - 5s 4ms/step - loss: 0.0444 - mean_absolute_error: 0.1568 - val_loss: 0.0868 - val_mean_absolute_error: 0.1554\n",
      "Epoch 00058: early stopping\n"
     ]
    }
   ],
   "source": [
    "hist = model.fit(X_tr, y_tr, \n",
    "                 batch_size=1, \n",
    "                 validation_data = (X_val, y_val), \n",
    "                 callbacks=[monitor, checkpointer], \n",
    "                 verbose=1, \n",
    "                 epochs=150)"
   ]
  },
  {
   "cell_type": "code",
   "execution_count": 30,
   "metadata": {},
   "outputs": [
    {
     "name": "stdout",
     "output_type": "stream",
     "text": [
      "21.046130730717717\n",
      "4475591.725385428\n"
     ]
    }
   ],
   "source": [
    "model.load_weights('best_weights.hdf5')  # load weights from best model\n",
    "\n",
    "# Measure accuracy\n",
    "Ypred_mlp = np.expm1(model.predict(mlp_feed))\n",
    "print(error(df_train['SalePrice'].values,Ypred_mlp))\n",
    "print(error_mse(df_train['SalePrice'].values, Ypred_mlp))"
   ]
  },
  {
   "cell_type": "markdown",
   "metadata": {},
   "source": [
    "#### test dataset"
   ]
  },
  {
   "cell_type": "code",
   "execution_count": 31,
   "metadata": {},
   "outputs": [
    {
     "name": "stdout",
     "output_type": "stream",
     "text": [
      "21.45029788457407\n",
      "3997150.521976866\n"
     ]
    }
   ],
   "source": [
    "full_test_X = df_test[features]\n",
    "test_Y = df_test['SalePrice'].values\n",
    "\n",
    "test_pred = np.expm1(model.predict(full_test_X))\n",
    "\n",
    "print(error(test_Y, test_pred))\n",
    "print(error_mse(test_Y, test_pred))"
   ]
  },
  {
   "cell_type": "markdown",
   "metadata": {},
   "source": [
    "### RandomForest"
   ]
  },
  {
   "cell_type": "code",
   "execution_count": 32,
   "metadata": {},
   "outputs": [
    {
     "name": "stdout",
     "output_type": "stream",
     "text": [
      "0.05592751246894327\n",
      "11227.98174553637\n"
     ]
    }
   ],
   "source": [
    "X = df_train_cleaned[features_full_list]\n",
    "Y = df_train_cleaned['SalePrice'].values\n",
    "\n",
    "full_X = df_train[features_full_list]\n",
    "full_Y = df_train['SalePrice'].values\n",
    "\n",
    "randomForest = ensemble.RandomForestRegressor(n_estimators=100)\n",
    "randomForest.fit(X, np.log1p(Y))\n",
    "Ypred_randomForest = np.expm1(randomForest.predict(full_X))\n",
    "print(error(full_Y,Ypred_randomForest))\n",
    "print(error_mse(full_Y, Ypred_randomForest))"
   ]
  },
  {
   "cell_type": "markdown",
   "metadata": {},
   "source": [
    "#### test dataset"
   ]
  },
  {
   "cell_type": "code",
   "execution_count": 33,
   "metadata": {},
   "outputs": [
    {
     "name": "stdout",
     "output_type": "stream",
     "text": [
      "0.15605698994138495\n",
      "26173.802540545923\n"
     ]
    }
   ],
   "source": [
    "full_test_X = df_test[features_full_list]\n",
    "test_Y = df_test['SalePrice'].values\n",
    "\n",
    "test_pred = np.expm1(randomForest.predict(full_test_X))\n",
    "\n",
    "print(error(test_Y, test_pred))\n",
    "print(error_mse(test_Y, test_pred))"
   ]
  },
  {
   "cell_type": "markdown",
   "metadata": {},
   "source": [
    "### KNeighbors"
   ]
  },
  {
   "cell_type": "code",
   "execution_count": 34,
   "metadata": {},
   "outputs": [
    {
     "name": "stdout",
     "output_type": "stream",
     "text": [
      "0.19989432091098053\n",
      "42490.19490530976\n"
     ]
    }
   ],
   "source": [
    "X = df_train_cleaned[features_full_list]\n",
    "Y = df_train_cleaned['SalePrice'].values\n",
    "\n",
    "full_X = df_train[features_full_list]\n",
    "full_Y = df_train['SalePrice'].values\n",
    "\n",
    "knn = neighbors.KNeighborsRegressor()\n",
    "knn.fit(X, np.log1p(Y))\n",
    "Ypred_knn = np.expm1(knn.predict(full_X))\n",
    "print(error(full_Y,Ypred_knn))\n",
    "print(error_mse(full_Y, Ypred_knn))"
   ]
  },
  {
   "cell_type": "markdown",
   "metadata": {},
   "source": [
    "#### test dataset"
   ]
  },
  {
   "cell_type": "code",
   "execution_count": 35,
   "metadata": {},
   "outputs": [
    {
     "name": "stdout",
     "output_type": "stream",
     "text": [
      "0.26428209639954603\n",
      "48891.80212524278\n"
     ]
    }
   ],
   "source": [
    "full_test_X = df_test[features_full_list]\n",
    "test_Y = df_test['SalePrice'].values\n",
    "\n",
    "test_pred = np.expm1(knn.predict(full_test_X))\n",
    "\n",
    "print(error(test_Y, test_pred))\n",
    "print(error_mse(test_Y, test_pred))"
   ]
  },
  {
   "cell_type": "markdown",
   "metadata": {},
   "source": [
    "### SVR"
   ]
  },
  {
   "cell_type": "code",
   "execution_count": 36,
   "metadata": {},
   "outputs": [
    {
     "name": "stdout",
     "output_type": "stream",
     "text": [
      "0.10651883479116636\n",
      "22168.81161067659\n"
     ]
    }
   ],
   "source": [
    "X = df_train_cleaned[features_full_list]\n",
    "Y = df_train_cleaned['SalePrice'].values\n",
    "\n",
    "full_X = df_train[features_full_list]\n",
    "full_Y = df_train['SalePrice'].values\n",
    "\n",
    "svr = svm.SVR()\n",
    "svr.fit(X, np.log1p(Y))\n",
    "Ypred_svr = np.expm1(svr.predict(full_X))\n",
    "print(error(full_Y,Ypred_svr))\n",
    "print(error_mse(full_Y, Ypred_svr))"
   ]
  },
  {
   "cell_type": "markdown",
   "metadata": {},
   "source": [
    "#### test dataset"
   ]
  },
  {
   "cell_type": "code",
   "execution_count": 37,
   "metadata": {},
   "outputs": [
    {
     "name": "stdout",
     "output_type": "stream",
     "text": [
      "0.4174906540979592\n",
      "79011.63811175223\n"
     ]
    }
   ],
   "source": [
    "full_test_X = df_test[features_full_list]\n",
    "test_Y = df_test['SalePrice'].values\n",
    "\n",
    "test_pred = np.expm1(svr.predict(full_test_X))\n",
    "\n",
    "print(error(test_Y, test_pred))\n",
    "print(error_mse(test_Y, test_pred))"
   ]
  },
  {
   "cell_type": "markdown",
   "metadata": {},
   "source": [
    "## Compare results"
   ]
  },
  {
   "cell_type": "code",
   "execution_count": 38,
   "metadata": {},
   "outputs": [
    {
     "data": {
      "text/plain": [
       "<matplotlib.axes._subplots.AxesSubplot at 0x7fc79ffca0b8>"
      ]
     },
     "execution_count": 38,
     "metadata": {},
     "output_type": "execute_result"
    },
    {
     "data": {
      "image/png": "[encoded data removed]",
      "text/plain": [
       "<matplotlib.figure.Figure at 0x7fc7e72240f0>"
      ]
     },
     "metadata": {},
     "output_type": "display_data"
    }
   ],
   "source": [
    "predictions = pd.DataFrame({\"xgb\":Ypred_xgb, \"lasso\":Ypred_lasso})\n",
    "predictions.plot(x = \"xgb\", y = \"lasso\", kind = \"scatter\", grid=True)"
   ]
  },
  {
   "cell_type": "code",
   "execution_count": 39,
   "metadata": {},
   "outputs": [
    {
     "data": {
      "text/plain": [
       "<matplotlib.axes._subplots.AxesSubplot at 0x7fc79ffaba20>"
      ]
     },
     "execution_count": 39,
     "metadata": {},
     "output_type": "execute_result"
    },
    {
     "data": {
      "image/png": "[encoded data removed]",
      "text/plain": [
       "<matplotlib.figure.Figure at 0x7fc79ffca358>"
      ]
     },
     "metadata": {},
     "output_type": "display_data"
    }
   ],
   "source": [
    "predictions = pd.DataFrame({\"xgb\":Ypred_xgb, \"rigde\":Ypred_ridge})\n",
    "predictions.plot(x = \"xgb\", y = \"rigde\", kind = \"scatter\", grid=True)"
   ]
  },
  {
   "cell_type": "code",
   "execution_count": 40,
   "metadata": {},
   "outputs": [
    {
     "data": {
      "text/plain": [
       "<matplotlib.axes._subplots.AxesSubplot at 0x7fc79ff32ba8>"
      ]
     },
     "execution_count": 40,
     "metadata": {},
     "output_type": "execute_result"
    },
    {
     "data": {
      "image/png": "[encoded data removed]",
      "text/plain": [
       "<matplotlib.figure.Figure at 0x7fc79ff63fd0>"
      ]
     },
     "metadata": {},
     "output_type": "display_data"
    }
   ],
   "source": [
    "predictions = pd.DataFrame({\"xgb\":Ypred_xgb, \"linear\":Ypred_linear})\n",
    "predictions.plot(x = \"xgb\", y = \"linear\", kind = \"scatter\", grid=True)"
   ]
  },
  {
   "cell_type": "code",
   "execution_count": 41,
   "metadata": {},
   "outputs": [
    {
     "data": {
      "text/plain": [
       "<matplotlib.axes._subplots.AxesSubplot at 0x7fc79ff630b8>"
      ]
     },
     "execution_count": 41,
     "metadata": {},
     "output_type": "execute_result"
    },
    {
     "data": {
      "image/png": "[encoded data removed]",
      "text/plain": [
       "<matplotlib.figure.Figure at 0x7fc79fee3e10>"
      ]
     },
     "metadata": {},
     "output_type": "display_data"
    }
   ],
   "source": [
    "predictions = pd.DataFrame({\"xgb\":Ypred_xgb, \"randomForest\":Ypred_randomForest})\n",
    "predictions.plot(x = \"xgb\", y = \"randomForest\", kind = \"scatter\", grid=True)"
   ]
  },
  {
   "cell_type": "code",
   "execution_count": 42,
   "metadata": {},
   "outputs": [
    {
     "data": {
      "text/plain": [
       "<matplotlib.axes._subplots.AxesSubplot at 0x7fc79fe5b860>"
      ]
     },
     "execution_count": 42,
     "metadata": {},
     "output_type": "execute_result"
    },
    {
     "data": {
      "image/png": "[encoded data removed]",
      "text/plain": [
       "<matplotlib.figure.Figure at 0x7fc79fe54a20>"
      ]
     },
     "metadata": {},
     "output_type": "display_data"
    }
   ],
   "source": [
    "predictions = pd.DataFrame({\"xgb\":Ypred_xgb, \"knn\":Ypred_knn})\n",
    "predictions.plot(x = \"xgb\", y = \"knn\", kind = \"scatter\", grid=True)"
   ]
  },
  {
   "cell_type": "code",
   "execution_count": 43,
   "metadata": {},
   "outputs": [
    {
     "data": {
      "text/plain": [
       "<matplotlib.axes._subplots.AxesSubplot at 0x7fc79fe0c2b0>"
      ]
     },
     "execution_count": 43,
     "metadata": {},
     "output_type": "execute_result"
    },
    {
     "data": {
      "image/png": "[encoded data removed]",
      "text/plain": [
       "<matplotlib.figure.Figure at 0x7fc79fdd4e80>"
      ]
     },
     "metadata": {},
     "output_type": "display_data"
    }
   ],
   "source": [
    "predictions = pd.DataFrame({\"xgb\":Ypred_xgb, \"svr\":Ypred_svr})\n",
    "predictions.plot(x = \"xgb\", y = \"svr\", kind = \"scatter\", grid=True)"
   ]
  },
  {
   "cell_type": "code",
   "execution_count": null,
   "metadata": {},
   "outputs": [],
   "source": []
  }
 ],
 "metadata": {
  "kernelspec": {
   "display_name": "Python 3",
   "language": "python",
   "name": "python3"
  },
  "language_info": {
   "codemirror_mode": {
    "name": "ipython",
    "version": 3
   },
   "file_extension": ".py",
   "mimetype": "text/x-python",
   "name": "python",
   "nbconvert_exporter": "python",
   "pygments_lexer": "ipython3",
   "version": "3.6.4"
  }
 },
 "nbformat": 4,
 "nbformat_minor": 1
}
