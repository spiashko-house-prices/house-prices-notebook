{
 "cells": [
  {
   "cell_type": "markdown",
   "metadata": {},
   "source": [
    "## Learn model\n",
    "## Content\n",
    "  * Load data\n",
    "  * Select features\n",
    "  * Learning\n",
    "    * linear\n",
    "    * lasso\n",
    "    * ridge\n",
    "    * elastic net\n",
    "    * Xgboost\n",
    "    * MLP\n",
    "  * Compare results"
   ]
  },
  {
   "cell_type": "code",
   "execution_count": 1,
   "metadata": {
    "_cell_guid": "b1076dfc-b9ad-4769-8c92-a6c4dae69d19",
    "_uuid": "8f2839f25d086af736a60e9eeb907d3b93b6e0e5"
   },
   "outputs": [
    {
     "name": "stderr",
     "output_type": "stream",
     "text": [
      "/home/siarhei/anaconda3/lib/python3.6/site-packages/h5py/__init__.py:36: FutureWarning: Conversion of the second argument of issubdtype from `float` to `np.floating` is deprecated. In future, it will be treated as `np.float64 == np.dtype(float).type`.\n",
      "  from ._conv import register_converters as _register_converters\n",
      "Using TensorFlow backend.\n"
     ]
    }
   ],
   "source": [
    "import os\n",
    "import pandas as pd\n",
    "import matplotlib.pyplot as plt\n",
    "import numpy as np\n",
    "from sklearn.preprocessing import StandardScaler\n",
    "from sklearn.model_selection import train_test_split\n",
    "from pymongo import MongoClient\n",
    "from keras import metrics\n",
    "import warnings\n",
    "import sklearn.linear_model as linear_model\n",
    "import sklearn.ensemble as ensemble\n",
    "import sklearn.neighbors as neighbors\n",
    "import sklearn.svm as svm\n",
    "\n",
    "%matplotlib inline\n",
    "\n",
    "warnings.filterwarnings('ignore')"
   ]
  },
  {
   "cell_type": "code",
   "execution_count": 2,
   "metadata": {},
   "outputs": [],
   "source": [
    "MONGODB_URL = os.environ['KC_MONGODB_URI']\n",
    "client = MongoClient(MONGODB_URL)\n",
    "db = client.get_default_database()"
   ]
  },
  {
   "cell_type": "code",
   "execution_count": 3,
   "metadata": {},
   "outputs": [
    {
     "data": {
      "text/plain": [
       "(21613, 21)"
      ]
     },
     "execution_count": 3,
     "metadata": {},
     "output_type": "execute_result"
    }
   ],
   "source": [
    "data = db[\"notebook\"].find({})\n",
    "full_frame = pd.DataFrame(list(data))\n",
    "full_frame.drop(columns=[\"_id\"], inplace=True)\n",
    "full_frame.shape"
   ]
  },
  {
   "cell_type": "markdown",
   "metadata": {},
   "source": [
    "### Select features"
   ]
  },
  {
   "cell_type": "code",
   "execution_count": 4,
   "metadata": {},
   "outputs": [],
   "source": [
    "features = [\n",
    "    'grade',\n",
    "    'sqft_living',\n",
    "    'sqft_living15',\n",
    "    'sqft_above',\n",
    "    'bathrooms',\n",
    "    'lat',\n",
    "    'view',\n",
    "    'bedrooms',\n",
    "    'sqft_basement',\n",
    "    'floors',\n",
    "    'waterfront',\n",
    "    'yr_renovated']\n",
    "\n",
    "to_log_transform = ['lat', 'floors']\n",
    "\n",
    "to_pow_transform = ['sqft_basement']\n",
    "\n",
    "to_boolean_transform = {\n",
    "    'floors': {'new_feature_name': 'Has2ndFloor', 'threshold': 1},\n",
    "}"
   ]
  },
  {
   "cell_type": "markdown",
   "metadata": {},
   "source": [
    "## Learn model"
   ]
  },
  {
   "cell_type": "code",
   "execution_count": 5,
   "metadata": {},
   "outputs": [],
   "source": [
    "def log_transformation(frame, feature):\n",
    "    new_feature_name = new_log_feature_name(feature)\n",
    "    frame[new_feature_name] = np.log1p(frame[feature].values)\n",
    "\n",
    "def new_quadratic_feature_name(feature):\n",
    "    return feature+'2'\n",
    "\n",
    "def new_log_feature_name(feature):\n",
    "    return feature+'Log'\n",
    "    \n",
    "def quadratic(frame, feature):\n",
    "    new_feature_name = new_quadratic_feature_name(feature)\n",
    "    frame[new_feature_name] = frame[feature]**2\n",
    "    \n",
    "def boolean_transformation(frame, feature, new_feature_name, threshold):\n",
    "    frame[new_feature_name] = frame[feature].apply(lambda x: 1 if x > threshold else 0)\n",
    "    \n",
    "def error(actual, predicted):\n",
    "    actual = np.log(actual)\n",
    "    predicted = np.log(predicted)\n",
    "    return np.sqrt(np.sum(np.square(actual-predicted))/len(actual))\n",
    "\n",
    "def error_mse(actual, predicted):\n",
    "    actual = (actual)\n",
    "    predicted = (predicted)\n",
    "    return np.sqrt(np.sum(np.square(actual-predicted))/len(actual))"
   ]
  },
  {
   "cell_type": "code",
   "execution_count": 6,
   "metadata": {},
   "outputs": [],
   "source": [
    "added_boolean_columns = [to_boolean_transform[o]['new_feature_name'] for o in to_boolean_transform.keys()]\n",
    "\n",
    "added_quadratic_columns = list(map(new_quadratic_feature_name, to_pow_transform))\n",
    "\n",
    "added_log_columns = list(map(new_log_feature_name, to_log_transform))\n",
    "\n",
    "def transform_before_learn(frame, to_log_transform, to_pow_transform, to_boolean_transform):\n",
    "\n",
    "    for c in to_log_transform:\n",
    "        log_transformation(frame, c)\n",
    "\n",
    "    for c in to_pow_transform:\n",
    "        quadratic(frame, c)\n",
    "\n",
    "    for c in to_boolean_transform.keys():\n",
    "        boolean_transformation(frame, c, to_boolean_transform[c]['new_feature_name'], \n",
    "                               to_boolean_transform[c]['threshold']) \n",
    "\n",
    "\n",
    "transform_before_learn(full_frame, to_log_transform, to_pow_transform, to_boolean_transform)\n",
    "\n",
    "df_train = full_frame[:1460]\n",
    "df_test = full_frame[1460:]\n",
    "\n",
    "# features = list(set(features) - set(to_log_transform) - set(to_pow_transform))"
   ]
  },
  {
   "cell_type": "code",
   "execution_count": 7,
   "metadata": {},
   "outputs": [],
   "source": [
    "features_full_list = features + added_boolean_columns + added_quadratic_columns + added_log_columns"
   ]
  },
  {
   "cell_type": "markdown",
   "metadata": {},
   "source": [
    "## Out liars"
   ]
  },
  {
   "cell_type": "code",
   "execution_count": 8,
   "metadata": {},
   "outputs": [],
   "source": [
    "df_train_cleaned = df_train\n",
    "#df_train_cleaned = df_train.drop(df_train[df_train['Id'] == 1299].index)\n",
    "#df_train_cleaned = df_train.drop(df_train[df_train['Id'] == 524].index)"
   ]
  },
  {
   "cell_type": "markdown",
   "metadata": {},
   "source": [
    "### LinearRegression"
   ]
  },
  {
   "cell_type": "code",
   "execution_count": 9,
   "metadata": {},
   "outputs": [
    {
     "name": "stdout",
     "output_type": "stream",
     "text": [
      "0.21473419806832905\n",
      "189383.3677974608\n"
     ]
    }
   ],
   "source": [
    "X = df_train_cleaned[features_full_list]\n",
    "Y = df_train_cleaned['SalePrice'].values\n",
    "\n",
    "full_X = df_train[features_full_list]\n",
    "full_Y = df_train['SalePrice'].values\n",
    "\n",
    "linear = linear_model.LinearRegression()\n",
    "linear.fit(X, np.log1p(Y))\n",
    "\n",
    "Ypred_linear = np.expm1(linear.predict(full_X))\n",
    "print(error(full_Y, Ypred_linear))\n",
    "print(error_mse(full_Y, Ypred_linear))"
   ]
  },
  {
   "cell_type": "markdown",
   "metadata": {},
   "source": [
    "#### test dataset"
   ]
  },
  {
   "cell_type": "code",
   "execution_count": 10,
   "metadata": {},
   "outputs": [
    {
     "name": "stdout",
     "output_type": "stream",
     "text": [
      "0.2724068604056992\n",
      "196741.60325415875\n"
     ]
    }
   ],
   "source": [
    "full_test_X = df_test[features_full_list]\n",
    "test_Y = df_test['SalePrice'].values\n",
    "\n",
    "test_pred = np.expm1(linear.predict(full_test_X))\n",
    "\n",
    "print(error(test_Y, test_pred))\n",
    "print(error_mse(test_Y, test_pred))"
   ]
  },
  {
   "cell_type": "markdown",
   "metadata": {},
   "source": [
    "### LassoCV"
   ]
  },
  {
   "cell_type": "code",
   "execution_count": 11,
   "metadata": {},
   "outputs": [
    {
     "name": "stdout",
     "output_type": "stream",
     "text": [
      "0.3491530412157379\n",
      "189383.3677974608\n"
     ]
    }
   ],
   "source": [
    "X = df_train_cleaned[features_full_list]\n",
    "Y = df_train_cleaned['SalePrice'].values\n",
    "\n",
    "full_X = df_train[features_full_list]\n",
    "full_Y = df_train['SalePrice'].values\n",
    "\n",
    "lasso = linear_model.LassoCV()\n",
    "lasso.fit(X, np.log1p(Y))\n",
    "\n",
    "Ypred_lasso = np.expm1(lasso.predict(full_X))\n",
    "print(error(full_Y, Ypred_lasso))\n",
    "print(error_mse(full_Y, Ypred_linear))"
   ]
  },
  {
   "cell_type": "markdown",
   "metadata": {},
   "source": [
    "#### test dataset"
   ]
  },
  {
   "cell_type": "code",
   "execution_count": 12,
   "metadata": {},
   "outputs": [
    {
     "name": "stdout",
     "output_type": "stream",
     "text": [
      "0.41446934814331354\n",
      "822685.405465775\n"
     ]
    }
   ],
   "source": [
    "full_test_X = df_test[features_full_list]\n",
    "test_Y = df_test['SalePrice'].values\n",
    "\n",
    "test_pred = np.expm1(lasso.predict(full_test_X))\n",
    "\n",
    "print(error(test_Y, test_pred))\n",
    "print(error_mse(test_Y, test_pred))"
   ]
  },
  {
   "cell_type": "markdown",
   "metadata": {},
   "source": [
    "### RidgeCV"
   ]
  },
  {
   "cell_type": "code",
   "execution_count": 13,
   "metadata": {},
   "outputs": [
    {
     "name": "stdout",
     "output_type": "stream",
     "text": [
      "0.25222365544354375\n",
      "364938.12307145324\n"
     ]
    }
   ],
   "source": [
    "X = df_train_cleaned[features_full_list]\n",
    "Y = df_train_cleaned['SalePrice'].values\n",
    "\n",
    "full_X = df_train[features_full_list]\n",
    "full_Y = df_train['SalePrice'].values\n",
    "\n",
    "ridge = linear_model.RidgeCV()\n",
    "ridge.fit(X, np.log1p(Y))\n",
    "Ypred_ridge = np.expm1(ridge.predict(full_X))\n",
    "print(error(full_Y,Ypred_ridge))\n",
    "print(error_mse(full_Y, Ypred_ridge))"
   ]
  },
  {
   "cell_type": "markdown",
   "metadata": {},
   "source": [
    "#### test dataset"
   ]
  },
  {
   "cell_type": "code",
   "execution_count": 14,
   "metadata": {},
   "outputs": [
    {
     "name": "stdout",
     "output_type": "stream",
     "text": [
      "0.31857305927412205\n",
      "2474346.419869392\n"
     ]
    }
   ],
   "source": [
    "full_test_X = df_test[features_full_list]\n",
    "test_Y = df_test['SalePrice'].values\n",
    "\n",
    "test_pred = np.expm1(ridge.predict(full_test_X))\n",
    "\n",
    "print(error(test_Y, test_pred))\n",
    "print(error_mse(test_Y, test_pred))"
   ]
  },
  {
   "cell_type": "markdown",
   "metadata": {},
   "source": [
    "### ElasticNetCV"
   ]
  },
  {
   "cell_type": "code",
   "execution_count": 15,
   "metadata": {},
   "outputs": [
    {
     "name": "stdout",
     "output_type": "stream",
     "text": [
      "0.3491598770378438\n",
      "294437.594635878\n"
     ]
    }
   ],
   "source": [
    "X = df_train_cleaned[features_full_list]\n",
    "Y = df_train_cleaned['SalePrice'].values\n",
    "\n",
    "full_X = df_train[features_full_list]\n",
    "full_Y = df_train['SalePrice'].values\n",
    "\n",
    "elasticNet = linear_model.ElasticNetCV()\n",
    "elasticNet.fit(X, np.log1p(Y))\n",
    "Ypred_elasticNet = np.expm1(elasticNet.predict(full_X))\n",
    "print(error(full_Y,Ypred_elasticNet))\n",
    "print(error_mse(full_Y, Ypred_elasticNet))"
   ]
  },
  {
   "cell_type": "markdown",
   "metadata": {},
   "source": [
    "#### test dataset"
   ]
  },
  {
   "cell_type": "code",
   "execution_count": 16,
   "metadata": {},
   "outputs": [
    {
     "name": "stdout",
     "output_type": "stream",
     "text": [
      "0.41447838688678496\n",
      "822881.9548808997\n"
     ]
    }
   ],
   "source": [
    "full_test_X = df_test[features_full_list]\n",
    "test_Y = df_test['SalePrice'].values\n",
    "\n",
    "test_pred = np.expm1(elasticNet.predict(full_test_X))\n",
    "\n",
    "print(error(test_Y, test_pred))\n",
    "print(error_mse(test_Y, test_pred))"
   ]
  },
  {
   "cell_type": "markdown",
   "metadata": {},
   "source": [
    "### Xgboost"
   ]
  },
  {
   "cell_type": "code",
   "execution_count": 17,
   "metadata": {},
   "outputs": [],
   "source": [
    "import xgboost as xgb"
   ]
  },
  {
   "cell_type": "code",
   "execution_count": 18,
   "metadata": {},
   "outputs": [],
   "source": [
    "X = df_train_cleaned[features_full_list]\n",
    "Y = df_train_cleaned['SalePrice'].values\n",
    "\n",
    "full_X = df_train[features_full_list]\n",
    "full_Y = df_train['SalePrice'].values"
   ]
  },
  {
   "cell_type": "code",
   "execution_count": 19,
   "metadata": {},
   "outputs": [],
   "source": [
    "X_tr, X_val, y_tr, y_val = train_test_split(X, np.log1p(Y), random_state = 42, test_size=0.20)\n",
    "\n",
    "eval_set = [(X_val, y_val)]"
   ]
  },
  {
   "cell_type": "code",
   "execution_count": 20,
   "metadata": {},
   "outputs": [
    {
     "name": "stdout",
     "output_type": "stream",
     "text": [
      "[0]\tvalidation_0-rmse:11.3531\n",
      "Will train until validation_0-rmse hasn't improved in 500 rounds.\n",
      "[1]\tvalidation_0-rmse:10.2159\n",
      "[2]\tvalidation_0-rmse:9.19525\n",
      "[3]\tvalidation_0-rmse:8.27665\n",
      "[4]\tvalidation_0-rmse:7.4489\n",
      "[5]\tvalidation_0-rmse:6.70133\n",
      "[6]\tvalidation_0-rmse:6.03187\n",
      "[7]\tvalidation_0-rmse:5.42892\n",
      "[8]\tvalidation_0-rmse:4.8869\n",
      "[9]\tvalidation_0-rmse:4.39591\n",
      "[10]\tvalidation_0-rmse:3.95831\n",
      "[11]\tvalidation_0-rmse:3.56315\n",
      "[12]\tvalidation_0-rmse:3.209\n",
      "[13]\tvalidation_0-rmse:2.88699\n",
      "[14]\tvalidation_0-rmse:2.60044\n",
      "[15]\tvalidation_0-rmse:2.34268\n",
      "[16]\tvalidation_0-rmse:2.11033\n",
      "[17]\tvalidation_0-rmse:1.9016\n",
      "[18]\tvalidation_0-rmse:1.71402\n",
      "[19]\tvalidation_0-rmse:1.54425\n",
      "[20]\tvalidation_0-rmse:1.39237\n",
      "[21]\tvalidation_0-rmse:1.25636\n",
      "[22]\tvalidation_0-rmse:1.13439\n",
      "[23]\tvalidation_0-rmse:1.02559\n",
      "[24]\tvalidation_0-rmse:0.926595\n",
      "[25]\tvalidation_0-rmse:0.838844\n",
      "[26]\tvalidation_0-rmse:0.759447\n",
      "[27]\tvalidation_0-rmse:0.689839\n",
      "[28]\tvalidation_0-rmse:0.627963\n",
      "[29]\tvalidation_0-rmse:0.572951\n",
      "[30]\tvalidation_0-rmse:0.524308\n",
      "[31]\tvalidation_0-rmse:0.482245\n",
      "[32]\tvalidation_0-rmse:0.443753\n",
      "[33]\tvalidation_0-rmse:0.410477\n",
      "[34]\tvalidation_0-rmse:0.380518\n",
      "[35]\tvalidation_0-rmse:0.355328\n",
      "[36]\tvalidation_0-rmse:0.332929\n",
      "[37]\tvalidation_0-rmse:0.31399\n",
      "[38]\tvalidation_0-rmse:0.297325\n",
      "[39]\tvalidation_0-rmse:0.283129\n",
      "[40]\tvalidation_0-rmse:0.270713\n",
      "[41]\tvalidation_0-rmse:0.260804\n",
      "[42]\tvalidation_0-rmse:0.252019\n",
      "[43]\tvalidation_0-rmse:0.245271\n",
      "[44]\tvalidation_0-rmse:0.239733\n",
      "[45]\tvalidation_0-rmse:0.234332\n",
      "[46]\tvalidation_0-rmse:0.230114\n",
      "[47]\tvalidation_0-rmse:0.226478\n",
      "[48]\tvalidation_0-rmse:0.223671\n",
      "[49]\tvalidation_0-rmse:0.220413\n",
      "[50]\tvalidation_0-rmse:0.219319\n",
      "[51]\tvalidation_0-rmse:0.217321\n",
      "[52]\tvalidation_0-rmse:0.215964\n",
      "[53]\tvalidation_0-rmse:0.214691\n",
      "[54]\tvalidation_0-rmse:0.213062\n",
      "[55]\tvalidation_0-rmse:0.211808\n",
      "[56]\tvalidation_0-rmse:0.210221\n",
      "[57]\tvalidation_0-rmse:0.209506\n",
      "[58]\tvalidation_0-rmse:0.209141\n",
      "[59]\tvalidation_0-rmse:0.208636\n",
      "[60]\tvalidation_0-rmse:0.207801\n",
      "[61]\tvalidation_0-rmse:0.206803\n",
      "[62]\tvalidation_0-rmse:0.206571\n",
      "[63]\tvalidation_0-rmse:0.20564\n",
      "[64]\tvalidation_0-rmse:0.204882\n",
      "[65]\tvalidation_0-rmse:0.204616\n",
      "[66]\tvalidation_0-rmse:0.203862\n",
      "[67]\tvalidation_0-rmse:0.20322\n",
      "[68]\tvalidation_0-rmse:0.203061\n",
      "[69]\tvalidation_0-rmse:0.202561\n",
      "[70]\tvalidation_0-rmse:0.201924\n",
      "[71]\tvalidation_0-rmse:0.201858\n",
      "[72]\tvalidation_0-rmse:0.201183\n",
      "[73]\tvalidation_0-rmse:0.200635\n",
      "[74]\tvalidation_0-rmse:0.199906\n",
      "[75]\tvalidation_0-rmse:0.199832\n",
      "[76]\tvalidation_0-rmse:0.199226\n",
      "[77]\tvalidation_0-rmse:0.198756\n",
      "[78]\tvalidation_0-rmse:0.198331\n",
      "[79]\tvalidation_0-rmse:0.198258\n",
      "[80]\tvalidation_0-rmse:0.198003\n",
      "[81]\tvalidation_0-rmse:0.198036\n",
      "[82]\tvalidation_0-rmse:0.198041\n",
      "[83]\tvalidation_0-rmse:0.197709\n",
      "[84]\tvalidation_0-rmse:0.197215\n",
      "[85]\tvalidation_0-rmse:0.197293\n",
      "[86]\tvalidation_0-rmse:0.197325\n",
      "[87]\tvalidation_0-rmse:0.19699\n",
      "[88]\tvalidation_0-rmse:0.197016\n",
      "[89]\tvalidation_0-rmse:0.196613\n",
      "[90]\tvalidation_0-rmse:0.196624\n",
      "[91]\tvalidation_0-rmse:0.196723\n",
      "[92]\tvalidation_0-rmse:0.196677\n",
      "[93]\tvalidation_0-rmse:0.196421\n",
      "[94]\tvalidation_0-rmse:0.196509\n",
      "[95]\tvalidation_0-rmse:0.196105\n",
      "[96]\tvalidation_0-rmse:0.196228\n",
      "[97]\tvalidation_0-rmse:0.195974\n",
      "[98]\tvalidation_0-rmse:0.196059\n",
      "[99]\tvalidation_0-rmse:0.195759\n",
      "[100]\tvalidation_0-rmse:0.195918\n",
      "[101]\tvalidation_0-rmse:0.195848\n",
      "[102]\tvalidation_0-rmse:0.195726\n",
      "[103]\tvalidation_0-rmse:0.195784\n",
      "[104]\tvalidation_0-rmse:0.195318\n",
      "[105]\tvalidation_0-rmse:0.195406\n",
      "[106]\tvalidation_0-rmse:0.1952\n",
      "[107]\tvalidation_0-rmse:0.195024\n",
      "[108]\tvalidation_0-rmse:0.195091\n",
      "[109]\tvalidation_0-rmse:0.194753\n",
      "[110]\tvalidation_0-rmse:0.194566\n",
      "[111]\tvalidation_0-rmse:0.194714\n",
      "[112]\tvalidation_0-rmse:0.194555\n",
      "[113]\tvalidation_0-rmse:0.194643\n",
      "[114]\tvalidation_0-rmse:0.194648\n",
      "[115]\tvalidation_0-rmse:0.194286\n",
      "[116]\tvalidation_0-rmse:0.194374\n",
      "[117]\tvalidation_0-rmse:0.193991\n",
      "[118]\tvalidation_0-rmse:0.193765\n",
      "[119]\tvalidation_0-rmse:0.193763\n",
      "[120]\tvalidation_0-rmse:0.193863\n",
      "[121]\tvalidation_0-rmse:0.193769\n",
      "[122]\tvalidation_0-rmse:0.19364\n",
      "[123]\tvalidation_0-rmse:0.19353\n",
      "[124]\tvalidation_0-rmse:0.193805\n",
      "[125]\tvalidation_0-rmse:0.193697\n",
      "[126]\tvalidation_0-rmse:0.194064\n",
      "[127]\tvalidation_0-rmse:0.193748\n",
      "[128]\tvalidation_0-rmse:0.193849\n",
      "[129]\tvalidation_0-rmse:0.193751\n",
      "[130]\tvalidation_0-rmse:0.193714\n",
      "[131]\tvalidation_0-rmse:0.193514\n",
      "[132]\tvalidation_0-rmse:0.193767\n",
      "[133]\tvalidation_0-rmse:0.193737\n",
      "[134]\tvalidation_0-rmse:0.193731\n",
      "[135]\tvalidation_0-rmse:0.19392\n",
      "[136]\tvalidation_0-rmse:0.193613\n",
      "[137]\tvalidation_0-rmse:0.193504\n",
      "[138]\tvalidation_0-rmse:0.193898\n",
      "[139]\tvalidation_0-rmse:0.19372\n",
      "[140]\tvalidation_0-rmse:0.193771\n",
      "[141]\tvalidation_0-rmse:0.193596\n",
      "[142]\tvalidation_0-rmse:0.193295\n",
      "[143]\tvalidation_0-rmse:0.193083\n",
      "[144]\tvalidation_0-rmse:0.193401\n",
      "[145]\tvalidation_0-rmse:0.19364\n",
      "[146]\tvalidation_0-rmse:0.193585\n",
      "[147]\tvalidation_0-rmse:0.193662\n",
      "[148]\tvalidation_0-rmse:0.193659\n",
      "[149]\tvalidation_0-rmse:0.193532\n",
      "[150]\tvalidation_0-rmse:0.193276\n",
      "[151]\tvalidation_0-rmse:0.19334\n",
      "[152]\tvalidation_0-rmse:0.193464\n",
      "[153]\tvalidation_0-rmse:0.193785\n",
      "[154]\tvalidation_0-rmse:0.194007\n",
      "[155]\tvalidation_0-rmse:0.194081\n",
      "[156]\tvalidation_0-rmse:0.194069\n",
      "[157]\tvalidation_0-rmse:0.19408\n",
      "[158]\tvalidation_0-rmse:0.194056\n",
      "[159]\tvalidation_0-rmse:0.193961\n",
      "[160]\tvalidation_0-rmse:0.193771\n",
      "[161]\tvalidation_0-rmse:0.193844\n",
      "[162]\tvalidation_0-rmse:0.193797\n",
      "[163]\tvalidation_0-rmse:0.193819\n",
      "[164]\tvalidation_0-rmse:0.193743\n",
      "[165]\tvalidation_0-rmse:0.193507\n",
      "[166]\tvalidation_0-rmse:0.193444\n",
      "[167]\tvalidation_0-rmse:0.19356\n",
      "[168]\tvalidation_0-rmse:0.193672\n",
      "[169]\tvalidation_0-rmse:0.193583\n",
      "[170]\tvalidation_0-rmse:0.193585\n",
      "[171]\tvalidation_0-rmse:0.193597\n",
      "[172]\tvalidation_0-rmse:0.193593\n",
      "[173]\tvalidation_0-rmse:0.193416\n",
      "[174]\tvalidation_0-rmse:0.193427\n",
      "[175]\tvalidation_0-rmse:0.193317\n",
      "[176]\tvalidation_0-rmse:0.19333\n",
      "[177]\tvalidation_0-rmse:0.193304\n",
      "[178]\tvalidation_0-rmse:0.193322\n",
      "[179]\tvalidation_0-rmse:0.193103\n",
      "[180]\tvalidation_0-rmse:0.193051\n",
      "[181]\tvalidation_0-rmse:0.193093\n",
      "[182]\tvalidation_0-rmse:0.192966\n",
      "[183]\tvalidation_0-rmse:0.193275\n",
      "[184]\tvalidation_0-rmse:0.193187\n",
      "[185]\tvalidation_0-rmse:0.192987\n",
      "[186]\tvalidation_0-rmse:0.192953\n",
      "[187]\tvalidation_0-rmse:0.192932\n",
      "[188]\tvalidation_0-rmse:0.192873\n",
      "[189]\tvalidation_0-rmse:0.192985\n",
      "[190]\tvalidation_0-rmse:0.19315\n",
      "[191]\tvalidation_0-rmse:0.193158\n",
      "[192]\tvalidation_0-rmse:0.192997\n",
      "[193]\tvalidation_0-rmse:0.192983\n",
      "[194]\tvalidation_0-rmse:0.193089\n",
      "[195]\tvalidation_0-rmse:0.192856\n",
      "[196]\tvalidation_0-rmse:0.192678\n",
      "[197]\tvalidation_0-rmse:0.192666\n",
      "[198]\tvalidation_0-rmse:0.192649\n",
      "[199]\tvalidation_0-rmse:0.192668\n",
      "[200]\tvalidation_0-rmse:0.192685\n",
      "[201]\tvalidation_0-rmse:0.192786\n",
      "[202]\tvalidation_0-rmse:0.193086\n",
      "[203]\tvalidation_0-rmse:0.193033\n",
      "[204]\tvalidation_0-rmse:0.19306\n",
      "[205]\tvalidation_0-rmse:0.192861\n",
      "[206]\tvalidation_0-rmse:0.193072\n",
      "[207]\tvalidation_0-rmse:0.193137\n",
      "[208]\tvalidation_0-rmse:0.193085\n",
      "[209]\tvalidation_0-rmse:0.193145\n",
      "[210]\tvalidation_0-rmse:0.19307\n",
      "[211]\tvalidation_0-rmse:0.193179\n",
      "[212]\tvalidation_0-rmse:0.193286\n",
      "[213]\tvalidation_0-rmse:0.193109\n",
      "[214]\tvalidation_0-rmse:0.193015\n",
      "[215]\tvalidation_0-rmse:0.192995\n",
      "[216]\tvalidation_0-rmse:0.193151\n",
      "[217]\tvalidation_0-rmse:0.193085\n",
      "[218]\tvalidation_0-rmse:0.193126\n",
      "[219]\tvalidation_0-rmse:0.193119\n",
      "[220]\tvalidation_0-rmse:0.193021\n",
      "[221]\tvalidation_0-rmse:0.192861\n",
      "[222]\tvalidation_0-rmse:0.193005\n",
      "[223]\tvalidation_0-rmse:0.19299\n",
      "[224]\tvalidation_0-rmse:0.192937\n",
      "[225]\tvalidation_0-rmse:0.192901\n",
      "[226]\tvalidation_0-rmse:0.192786\n",
      "[227]\tvalidation_0-rmse:0.192773\n",
      "[228]\tvalidation_0-rmse:0.192949\n",
      "[229]\tvalidation_0-rmse:0.193068\n",
      "[230]\tvalidation_0-rmse:0.192906\n",
      "[231]\tvalidation_0-rmse:0.192903\n",
      "[232]\tvalidation_0-rmse:0.19318\n",
      "[233]\tvalidation_0-rmse:0.193101\n",
      "[234]\tvalidation_0-rmse:0.193205\n",
      "[235]\tvalidation_0-rmse:0.193178\n",
      "[236]\tvalidation_0-rmse:0.193097\n",
      "[237]\tvalidation_0-rmse:0.193235\n",
      "[238]\tvalidation_0-rmse:0.193398\n",
      "[239]\tvalidation_0-rmse:0.193386\n",
      "[240]\tvalidation_0-rmse:0.193451\n",
      "[241]\tvalidation_0-rmse:0.193699\n",
      "[242]\tvalidation_0-rmse:0.193643\n",
      "[243]\tvalidation_0-rmse:0.193677\n",
      "[244]\tvalidation_0-rmse:0.193777\n",
      "[245]\tvalidation_0-rmse:0.193682\n",
      "[246]\tvalidation_0-rmse:0.193661\n",
      "[247]\tvalidation_0-rmse:0.193863\n",
      "[248]\tvalidation_0-rmse:0.193837\n",
      "[249]\tvalidation_0-rmse:0.193863\n",
      "[250]\tvalidation_0-rmse:0.19369\n",
      "[251]\tvalidation_0-rmse:0.193737\n"
     ]
    },
    {
     "name": "stdout",
     "output_type": "stream",
     "text": [
      "[252]\tvalidation_0-rmse:0.193764\n",
      "[253]\tvalidation_0-rmse:0.193709\n",
      "[254]\tvalidation_0-rmse:0.193801\n",
      "[255]\tvalidation_0-rmse:0.193804\n",
      "[256]\tvalidation_0-rmse:0.193792\n",
      "[257]\tvalidation_0-rmse:0.193641\n",
      "[258]\tvalidation_0-rmse:0.193873\n",
      "[259]\tvalidation_0-rmse:0.193992\n",
      "[260]\tvalidation_0-rmse:0.193957\n",
      "[261]\tvalidation_0-rmse:0.193997\n",
      "[262]\tvalidation_0-rmse:0.193942\n",
      "[263]\tvalidation_0-rmse:0.193972\n",
      "[264]\tvalidation_0-rmse:0.194126\n",
      "[265]\tvalidation_0-rmse:0.194137\n",
      "[266]\tvalidation_0-rmse:0.194434\n",
      "[267]\tvalidation_0-rmse:0.194527\n",
      "[268]\tvalidation_0-rmse:0.194533\n",
      "[269]\tvalidation_0-rmse:0.194646\n",
      "[270]\tvalidation_0-rmse:0.194504\n",
      "[271]\tvalidation_0-rmse:0.194493\n",
      "[272]\tvalidation_0-rmse:0.194542\n",
      "[273]\tvalidation_0-rmse:0.194514\n",
      "[274]\tvalidation_0-rmse:0.194494\n",
      "[275]\tvalidation_0-rmse:0.194347\n",
      "[276]\tvalidation_0-rmse:0.194433\n",
      "[277]\tvalidation_0-rmse:0.194403\n",
      "[278]\tvalidation_0-rmse:0.194432\n",
      "[279]\tvalidation_0-rmse:0.194415\n",
      "[280]\tvalidation_0-rmse:0.194512\n",
      "[281]\tvalidation_0-rmse:0.194504\n",
      "[282]\tvalidation_0-rmse:0.194466\n",
      "[283]\tvalidation_0-rmse:0.194539\n",
      "[284]\tvalidation_0-rmse:0.194823\n",
      "[285]\tvalidation_0-rmse:0.194792\n",
      "[286]\tvalidation_0-rmse:0.19477\n",
      "[287]\tvalidation_0-rmse:0.194709\n",
      "[288]\tvalidation_0-rmse:0.194744\n",
      "[289]\tvalidation_0-rmse:0.194678\n",
      "[290]\tvalidation_0-rmse:0.194634\n",
      "[291]\tvalidation_0-rmse:0.194673\n",
      "[292]\tvalidation_0-rmse:0.194924\n",
      "[293]\tvalidation_0-rmse:0.19503\n",
      "[294]\tvalidation_0-rmse:0.195035\n",
      "[295]\tvalidation_0-rmse:0.194995\n",
      "[296]\tvalidation_0-rmse:0.194879\n",
      "[297]\tvalidation_0-rmse:0.194927\n",
      "[298]\tvalidation_0-rmse:0.195004\n",
      "[299]\tvalidation_0-rmse:0.194994\n",
      "[300]\tvalidation_0-rmse:0.195095\n",
      "[301]\tvalidation_0-rmse:0.195183\n",
      "[302]\tvalidation_0-rmse:0.195125\n",
      "[303]\tvalidation_0-rmse:0.195253\n",
      "[304]\tvalidation_0-rmse:0.195216\n",
      "[305]\tvalidation_0-rmse:0.195318\n",
      "[306]\tvalidation_0-rmse:0.195288\n",
      "[307]\tvalidation_0-rmse:0.195308\n",
      "[308]\tvalidation_0-rmse:0.195243\n",
      "[309]\tvalidation_0-rmse:0.195209\n",
      "[310]\tvalidation_0-rmse:0.19532\n",
      "[311]\tvalidation_0-rmse:0.195255\n",
      "[312]\tvalidation_0-rmse:0.195327\n",
      "[313]\tvalidation_0-rmse:0.195308\n",
      "[314]\tvalidation_0-rmse:0.195112\n",
      "[315]\tvalidation_0-rmse:0.195037\n",
      "[316]\tvalidation_0-rmse:0.195132\n",
      "[317]\tvalidation_0-rmse:0.195248\n",
      "[318]\tvalidation_0-rmse:0.195226\n",
      "[319]\tvalidation_0-rmse:0.195564\n",
      "[320]\tvalidation_0-rmse:0.195553\n",
      "[321]\tvalidation_0-rmse:0.195586\n",
      "[322]\tvalidation_0-rmse:0.19558\n",
      "[323]\tvalidation_0-rmse:0.195595\n",
      "[324]\tvalidation_0-rmse:0.195594\n",
      "[325]\tvalidation_0-rmse:0.195496\n",
      "[326]\tvalidation_0-rmse:0.195584\n",
      "[327]\tvalidation_0-rmse:0.195508\n",
      "[328]\tvalidation_0-rmse:0.195567\n",
      "[329]\tvalidation_0-rmse:0.195561\n",
      "[330]\tvalidation_0-rmse:0.195585\n",
      "[331]\tvalidation_0-rmse:0.195636\n",
      "[332]\tvalidation_0-rmse:0.195647\n",
      "[333]\tvalidation_0-rmse:0.19557\n",
      "[334]\tvalidation_0-rmse:0.195526\n",
      "[335]\tvalidation_0-rmse:0.195484\n",
      "[336]\tvalidation_0-rmse:0.195527\n",
      "[337]\tvalidation_0-rmse:0.195639\n",
      "[338]\tvalidation_0-rmse:0.195619\n",
      "[339]\tvalidation_0-rmse:0.195608\n",
      "[340]\tvalidation_0-rmse:0.195574\n",
      "[341]\tvalidation_0-rmse:0.195628\n",
      "[342]\tvalidation_0-rmse:0.19566\n",
      "[343]\tvalidation_0-rmse:0.195662\n",
      "[344]\tvalidation_0-rmse:0.195653\n",
      "[345]\tvalidation_0-rmse:0.195609\n",
      "[346]\tvalidation_0-rmse:0.195735\n",
      "[347]\tvalidation_0-rmse:0.195761\n",
      "[348]\tvalidation_0-rmse:0.195668\n",
      "[349]\tvalidation_0-rmse:0.195661\n",
      "[350]\tvalidation_0-rmse:0.195546\n",
      "[351]\tvalidation_0-rmse:0.195709\n",
      "[352]\tvalidation_0-rmse:0.195688\n",
      "[353]\tvalidation_0-rmse:0.195783\n",
      "[354]\tvalidation_0-rmse:0.195841\n",
      "[355]\tvalidation_0-rmse:0.195875\n",
      "[356]\tvalidation_0-rmse:0.195946\n",
      "[357]\tvalidation_0-rmse:0.195977\n",
      "[358]\tvalidation_0-rmse:0.195974\n",
      "[359]\tvalidation_0-rmse:0.195867\n",
      "[360]\tvalidation_0-rmse:0.195831\n",
      "[361]\tvalidation_0-rmse:0.19581\n",
      "[362]\tvalidation_0-rmse:0.195903\n",
      "[363]\tvalidation_0-rmse:0.195917\n",
      "[364]\tvalidation_0-rmse:0.195908\n",
      "[365]\tvalidation_0-rmse:0.195802\n",
      "[366]\tvalidation_0-rmse:0.195782\n",
      "[367]\tvalidation_0-rmse:0.195953\n",
      "[368]\tvalidation_0-rmse:0.195866\n",
      "[369]\tvalidation_0-rmse:0.195857\n",
      "[370]\tvalidation_0-rmse:0.195831\n",
      "[371]\tvalidation_0-rmse:0.19579\n",
      "[372]\tvalidation_0-rmse:0.195825\n",
      "[373]\tvalidation_0-rmse:0.195674\n",
      "[374]\tvalidation_0-rmse:0.195769\n",
      "[375]\tvalidation_0-rmse:0.195732\n",
      "[376]\tvalidation_0-rmse:0.195805\n",
      "[377]\tvalidation_0-rmse:0.19591\n",
      "[378]\tvalidation_0-rmse:0.195873\n",
      "[379]\tvalidation_0-rmse:0.195957\n",
      "[380]\tvalidation_0-rmse:0.196026\n",
      "[381]\tvalidation_0-rmse:0.195963\n",
      "[382]\tvalidation_0-rmse:0.195958\n",
      "[383]\tvalidation_0-rmse:0.195976\n",
      "[384]\tvalidation_0-rmse:0.195957\n",
      "[385]\tvalidation_0-rmse:0.196009\n",
      "[386]\tvalidation_0-rmse:0.195953\n",
      "[387]\tvalidation_0-rmse:0.19597\n",
      "[388]\tvalidation_0-rmse:0.196261\n",
      "[389]\tvalidation_0-rmse:0.196219\n",
      "[390]\tvalidation_0-rmse:0.196142\n",
      "[391]\tvalidation_0-rmse:0.196242\n",
      "[392]\tvalidation_0-rmse:0.196283\n",
      "[393]\tvalidation_0-rmse:0.196168\n",
      "[394]\tvalidation_0-rmse:0.196159\n",
      "[395]\tvalidation_0-rmse:0.196121\n",
      "[396]\tvalidation_0-rmse:0.196059\n",
      "[397]\tvalidation_0-rmse:0.195928\n",
      "[398]\tvalidation_0-rmse:0.195943\n",
      "[399]\tvalidation_0-rmse:0.195969\n",
      "[400]\tvalidation_0-rmse:0.196046\n",
      "[401]\tvalidation_0-rmse:0.196011\n",
      "[402]\tvalidation_0-rmse:0.196247\n",
      "[403]\tvalidation_0-rmse:0.196169\n",
      "[404]\tvalidation_0-rmse:0.196158\n",
      "[405]\tvalidation_0-rmse:0.196225\n",
      "[406]\tvalidation_0-rmse:0.196313\n",
      "[407]\tvalidation_0-rmse:0.196277\n",
      "[408]\tvalidation_0-rmse:0.196434\n",
      "[409]\tvalidation_0-rmse:0.196475\n",
      "[410]\tvalidation_0-rmse:0.196527\n",
      "[411]\tvalidation_0-rmse:0.196573\n",
      "[412]\tvalidation_0-rmse:0.196806\n",
      "[413]\tvalidation_0-rmse:0.196822\n",
      "[414]\tvalidation_0-rmse:0.196862\n",
      "[415]\tvalidation_0-rmse:0.196741\n",
      "[416]\tvalidation_0-rmse:0.196647\n",
      "[417]\tvalidation_0-rmse:0.196581\n",
      "[418]\tvalidation_0-rmse:0.196561\n",
      "[419]\tvalidation_0-rmse:0.196499\n",
      "[420]\tvalidation_0-rmse:0.196624\n",
      "[421]\tvalidation_0-rmse:0.196604\n",
      "[422]\tvalidation_0-rmse:0.196574\n",
      "[423]\tvalidation_0-rmse:0.196584\n",
      "[424]\tvalidation_0-rmse:0.19656\n",
      "[425]\tvalidation_0-rmse:0.19661\n",
      "[426]\tvalidation_0-rmse:0.196733\n",
      "[427]\tvalidation_0-rmse:0.196726\n",
      "[428]\tvalidation_0-rmse:0.196717\n",
      "[429]\tvalidation_0-rmse:0.196761\n",
      "[430]\tvalidation_0-rmse:0.196631\n",
      "[431]\tvalidation_0-rmse:0.196647\n",
      "[432]\tvalidation_0-rmse:0.196722\n",
      "[433]\tvalidation_0-rmse:0.196575\n",
      "[434]\tvalidation_0-rmse:0.196433\n",
      "[435]\tvalidation_0-rmse:0.196343\n",
      "[436]\tvalidation_0-rmse:0.196323\n",
      "[437]\tvalidation_0-rmse:0.196285\n",
      "[438]\tvalidation_0-rmse:0.196275\n",
      "[439]\tvalidation_0-rmse:0.196327\n",
      "[440]\tvalidation_0-rmse:0.196335\n",
      "[441]\tvalidation_0-rmse:0.196354\n",
      "[442]\tvalidation_0-rmse:0.196424\n",
      "[443]\tvalidation_0-rmse:0.196499\n",
      "[444]\tvalidation_0-rmse:0.196474\n",
      "[445]\tvalidation_0-rmse:0.196346\n",
      "[446]\tvalidation_0-rmse:0.196317\n",
      "[447]\tvalidation_0-rmse:0.196258\n",
      "[448]\tvalidation_0-rmse:0.19636\n",
      "[449]\tvalidation_0-rmse:0.196409\n",
      "[450]\tvalidation_0-rmse:0.196494\n",
      "[451]\tvalidation_0-rmse:0.196731\n",
      "[452]\tvalidation_0-rmse:0.196777\n",
      "[453]\tvalidation_0-rmse:0.196732\n",
      "[454]\tvalidation_0-rmse:0.196668\n",
      "[455]\tvalidation_0-rmse:0.196704\n",
      "[456]\tvalidation_0-rmse:0.196655\n",
      "[457]\tvalidation_0-rmse:0.196676\n",
      "[458]\tvalidation_0-rmse:0.196749\n",
      "[459]\tvalidation_0-rmse:0.196778\n",
      "[460]\tvalidation_0-rmse:0.196794\n",
      "[461]\tvalidation_0-rmse:0.196775\n",
      "[462]\tvalidation_0-rmse:0.196836\n",
      "[463]\tvalidation_0-rmse:0.196787\n",
      "[464]\tvalidation_0-rmse:0.196698\n",
      "[465]\tvalidation_0-rmse:0.196699\n",
      "[466]\tvalidation_0-rmse:0.196686\n",
      "[467]\tvalidation_0-rmse:0.196678\n",
      "[468]\tvalidation_0-rmse:0.196775\n",
      "[469]\tvalidation_0-rmse:0.196769\n",
      "[470]\tvalidation_0-rmse:0.196767\n",
      "[471]\tvalidation_0-rmse:0.196765\n",
      "[472]\tvalidation_0-rmse:0.196844\n",
      "[473]\tvalidation_0-rmse:0.196808\n",
      "[474]\tvalidation_0-rmse:0.196797\n",
      "[475]\tvalidation_0-rmse:0.196775\n",
      "[476]\tvalidation_0-rmse:0.196761\n",
      "[477]\tvalidation_0-rmse:0.196756\n",
      "[478]\tvalidation_0-rmse:0.196766\n",
      "[479]\tvalidation_0-rmse:0.196746\n",
      "[480]\tvalidation_0-rmse:0.196808\n",
      "[481]\tvalidation_0-rmse:0.196861\n",
      "[482]\tvalidation_0-rmse:0.196838\n",
      "[483]\tvalidation_0-rmse:0.196912\n",
      "[484]\tvalidation_0-rmse:0.196929\n",
      "[485]\tvalidation_0-rmse:0.196883\n",
      "[486]\tvalidation_0-rmse:0.19691\n",
      "[487]\tvalidation_0-rmse:0.196897\n",
      "[488]\tvalidation_0-rmse:0.19697\n",
      "[489]\tvalidation_0-rmse:0.197087\n",
      "[490]\tvalidation_0-rmse:0.197135\n",
      "[491]\tvalidation_0-rmse:0.197421\n",
      "[492]\tvalidation_0-rmse:0.197489\n",
      "[493]\tvalidation_0-rmse:0.197346\n",
      "[494]\tvalidation_0-rmse:0.197311\n",
      "[495]\tvalidation_0-rmse:0.197454\n",
      "[496]\tvalidation_0-rmse:0.197473\n",
      "[497]\tvalidation_0-rmse:0.197361\n",
      "[498]\tvalidation_0-rmse:0.197406\n",
      "[499]\tvalidation_0-rmse:0.197403\n",
      "[500]\tvalidation_0-rmse:0.197381\n"
     ]
    },
    {
     "name": "stdout",
     "output_type": "stream",
     "text": [
      "[501]\tvalidation_0-rmse:0.197478\n",
      "[502]\tvalidation_0-rmse:0.19735\n",
      "[503]\tvalidation_0-rmse:0.197388\n",
      "[504]\tvalidation_0-rmse:0.197291\n",
      "[505]\tvalidation_0-rmse:0.197309\n",
      "[506]\tvalidation_0-rmse:0.197341\n",
      "[507]\tvalidation_0-rmse:0.197415\n",
      "[508]\tvalidation_0-rmse:0.197413\n",
      "[509]\tvalidation_0-rmse:0.197414\n",
      "[510]\tvalidation_0-rmse:0.197326\n",
      "[511]\tvalidation_0-rmse:0.197364\n",
      "[512]\tvalidation_0-rmse:0.197314\n",
      "[513]\tvalidation_0-rmse:0.197355\n",
      "[514]\tvalidation_0-rmse:0.197437\n",
      "[515]\tvalidation_0-rmse:0.197446\n",
      "[516]\tvalidation_0-rmse:0.197322\n",
      "[517]\tvalidation_0-rmse:0.197331\n",
      "[518]\tvalidation_0-rmse:0.19733\n",
      "[519]\tvalidation_0-rmse:0.197185\n",
      "[520]\tvalidation_0-rmse:0.197317\n",
      "[521]\tvalidation_0-rmse:0.197343\n",
      "[522]\tvalidation_0-rmse:0.197399\n",
      "[523]\tvalidation_0-rmse:0.197489\n",
      "[524]\tvalidation_0-rmse:0.197461\n",
      "[525]\tvalidation_0-rmse:0.19741\n",
      "[526]\tvalidation_0-rmse:0.197328\n",
      "[527]\tvalidation_0-rmse:0.197347\n",
      "[528]\tvalidation_0-rmse:0.19743\n",
      "[529]\tvalidation_0-rmse:0.197398\n",
      "[530]\tvalidation_0-rmse:0.197397\n",
      "[531]\tvalidation_0-rmse:0.197296\n",
      "[532]\tvalidation_0-rmse:0.197388\n",
      "[533]\tvalidation_0-rmse:0.197369\n",
      "[534]\tvalidation_0-rmse:0.197274\n",
      "[535]\tvalidation_0-rmse:0.19723\n",
      "[536]\tvalidation_0-rmse:0.197288\n",
      "[537]\tvalidation_0-rmse:0.197301\n",
      "[538]\tvalidation_0-rmse:0.197351\n",
      "[539]\tvalidation_0-rmse:0.197468\n",
      "[540]\tvalidation_0-rmse:0.197387\n",
      "[541]\tvalidation_0-rmse:0.197367\n",
      "[542]\tvalidation_0-rmse:0.197394\n",
      "[543]\tvalidation_0-rmse:0.197504\n",
      "[544]\tvalidation_0-rmse:0.197514\n",
      "[545]\tvalidation_0-rmse:0.197548\n",
      "[546]\tvalidation_0-rmse:0.197531\n",
      "[547]\tvalidation_0-rmse:0.197552\n",
      "[548]\tvalidation_0-rmse:0.197468\n",
      "[549]\tvalidation_0-rmse:0.197419\n",
      "[550]\tvalidation_0-rmse:0.1974\n",
      "[551]\tvalidation_0-rmse:0.197368\n",
      "[552]\tvalidation_0-rmse:0.197366\n",
      "[553]\tvalidation_0-rmse:0.197327\n",
      "[554]\tvalidation_0-rmse:0.19738\n",
      "[555]\tvalidation_0-rmse:0.197444\n",
      "[556]\tvalidation_0-rmse:0.197406\n",
      "[557]\tvalidation_0-rmse:0.197534\n",
      "[558]\tvalidation_0-rmse:0.197523\n",
      "[559]\tvalidation_0-rmse:0.197569\n",
      "[560]\tvalidation_0-rmse:0.197692\n",
      "[561]\tvalidation_0-rmse:0.197548\n",
      "[562]\tvalidation_0-rmse:0.197542\n",
      "[563]\tvalidation_0-rmse:0.197561\n",
      "[564]\tvalidation_0-rmse:0.197643\n",
      "[565]\tvalidation_0-rmse:0.197674\n",
      "[566]\tvalidation_0-rmse:0.197664\n",
      "[567]\tvalidation_0-rmse:0.197668\n",
      "[568]\tvalidation_0-rmse:0.197688\n",
      "[569]\tvalidation_0-rmse:0.197694\n",
      "[570]\tvalidation_0-rmse:0.197749\n",
      "[571]\tvalidation_0-rmse:0.197764\n",
      "[572]\tvalidation_0-rmse:0.197782\n",
      "[573]\tvalidation_0-rmse:0.197714\n",
      "[574]\tvalidation_0-rmse:0.197717\n",
      "[575]\tvalidation_0-rmse:0.197632\n",
      "[576]\tvalidation_0-rmse:0.197668\n",
      "[577]\tvalidation_0-rmse:0.197694\n",
      "[578]\tvalidation_0-rmse:0.197677\n",
      "[579]\tvalidation_0-rmse:0.197656\n",
      "[580]\tvalidation_0-rmse:0.197682\n",
      "[581]\tvalidation_0-rmse:0.19765\n",
      "[582]\tvalidation_0-rmse:0.197634\n",
      "[583]\tvalidation_0-rmse:0.197545\n",
      "[584]\tvalidation_0-rmse:0.197539\n",
      "[585]\tvalidation_0-rmse:0.197585\n",
      "[586]\tvalidation_0-rmse:0.197779\n",
      "[587]\tvalidation_0-rmse:0.197961\n",
      "[588]\tvalidation_0-rmse:0.197937\n",
      "[589]\tvalidation_0-rmse:0.19801\n",
      "[590]\tvalidation_0-rmse:0.198008\n",
      "[591]\tvalidation_0-rmse:0.197883\n",
      "[592]\tvalidation_0-rmse:0.197862\n",
      "[593]\tvalidation_0-rmse:0.197839\n",
      "[594]\tvalidation_0-rmse:0.19784\n",
      "[595]\tvalidation_0-rmse:0.197828\n",
      "[596]\tvalidation_0-rmse:0.197751\n",
      "[597]\tvalidation_0-rmse:0.197778\n",
      "[598]\tvalidation_0-rmse:0.197739\n",
      "[599]\tvalidation_0-rmse:0.197665\n",
      "[600]\tvalidation_0-rmse:0.197585\n",
      "[601]\tvalidation_0-rmse:0.197699\n",
      "[602]\tvalidation_0-rmse:0.197673\n",
      "[603]\tvalidation_0-rmse:0.197723\n",
      "[604]\tvalidation_0-rmse:0.197692\n",
      "[605]\tvalidation_0-rmse:0.197735\n",
      "[606]\tvalidation_0-rmse:0.197785\n",
      "[607]\tvalidation_0-rmse:0.197657\n",
      "[608]\tvalidation_0-rmse:0.197642\n",
      "[609]\tvalidation_0-rmse:0.19757\n",
      "[610]\tvalidation_0-rmse:0.197592\n",
      "[611]\tvalidation_0-rmse:0.197543\n",
      "[612]\tvalidation_0-rmse:0.197561\n",
      "[613]\tvalidation_0-rmse:0.197585\n",
      "[614]\tvalidation_0-rmse:0.197635\n",
      "[615]\tvalidation_0-rmse:0.197677\n",
      "[616]\tvalidation_0-rmse:0.197722\n",
      "[617]\tvalidation_0-rmse:0.197702\n",
      "[618]\tvalidation_0-rmse:0.197779\n",
      "[619]\tvalidation_0-rmse:0.197773\n",
      "[620]\tvalidation_0-rmse:0.197783\n",
      "[621]\tvalidation_0-rmse:0.19775\n",
      "[622]\tvalidation_0-rmse:0.197748\n",
      "[623]\tvalidation_0-rmse:0.197625\n",
      "[624]\tvalidation_0-rmse:0.197602\n",
      "[625]\tvalidation_0-rmse:0.197532\n",
      "[626]\tvalidation_0-rmse:0.197513\n",
      "[627]\tvalidation_0-rmse:0.197486\n",
      "[628]\tvalidation_0-rmse:0.197474\n",
      "[629]\tvalidation_0-rmse:0.197511\n",
      "[630]\tvalidation_0-rmse:0.197539\n",
      "[631]\tvalidation_0-rmse:0.19747\n",
      "[632]\tvalidation_0-rmse:0.197515\n",
      "[633]\tvalidation_0-rmse:0.197465\n",
      "[634]\tvalidation_0-rmse:0.197438\n",
      "[635]\tvalidation_0-rmse:0.197415\n",
      "[636]\tvalidation_0-rmse:0.19752\n",
      "[637]\tvalidation_0-rmse:0.197522\n",
      "[638]\tvalidation_0-rmse:0.197563\n",
      "[639]\tvalidation_0-rmse:0.197511\n",
      "[640]\tvalidation_0-rmse:0.197589\n",
      "[641]\tvalidation_0-rmse:0.19784\n",
      "[642]\tvalidation_0-rmse:0.197891\n",
      "[643]\tvalidation_0-rmse:0.197918\n",
      "[644]\tvalidation_0-rmse:0.197875\n",
      "[645]\tvalidation_0-rmse:0.197974\n",
      "[646]\tvalidation_0-rmse:0.197863\n",
      "[647]\tvalidation_0-rmse:0.197928\n",
      "[648]\tvalidation_0-rmse:0.197862\n",
      "[649]\tvalidation_0-rmse:0.197891\n",
      "[650]\tvalidation_0-rmse:0.19788\n",
      "[651]\tvalidation_0-rmse:0.197899\n",
      "[652]\tvalidation_0-rmse:0.197904\n",
      "[653]\tvalidation_0-rmse:0.19792\n",
      "[654]\tvalidation_0-rmse:0.197899\n",
      "[655]\tvalidation_0-rmse:0.197909\n",
      "[656]\tvalidation_0-rmse:0.197947\n",
      "[657]\tvalidation_0-rmse:0.197983\n",
      "[658]\tvalidation_0-rmse:0.198046\n",
      "[659]\tvalidation_0-rmse:0.198045\n",
      "[660]\tvalidation_0-rmse:0.198041\n",
      "[661]\tvalidation_0-rmse:0.198178\n",
      "[662]\tvalidation_0-rmse:0.198224\n",
      "[663]\tvalidation_0-rmse:0.198224\n",
      "[664]\tvalidation_0-rmse:0.198168\n",
      "[665]\tvalidation_0-rmse:0.198159\n",
      "[666]\tvalidation_0-rmse:0.198154\n",
      "[667]\tvalidation_0-rmse:0.198232\n",
      "[668]\tvalidation_0-rmse:0.198229\n",
      "[669]\tvalidation_0-rmse:0.198279\n",
      "[670]\tvalidation_0-rmse:0.198411\n",
      "[671]\tvalidation_0-rmse:0.198511\n",
      "[672]\tvalidation_0-rmse:0.198604\n",
      "[673]\tvalidation_0-rmse:0.198547\n",
      "[674]\tvalidation_0-rmse:0.198604\n",
      "[675]\tvalidation_0-rmse:0.198708\n",
      "[676]\tvalidation_0-rmse:0.198711\n",
      "[677]\tvalidation_0-rmse:0.198661\n",
      "[678]\tvalidation_0-rmse:0.198663\n",
      "[679]\tvalidation_0-rmse:0.198686\n",
      "[680]\tvalidation_0-rmse:0.198657\n",
      "[681]\tvalidation_0-rmse:0.198656\n",
      "[682]\tvalidation_0-rmse:0.198567\n",
      "[683]\tvalidation_0-rmse:0.198567\n",
      "[684]\tvalidation_0-rmse:0.198529\n",
      "[685]\tvalidation_0-rmse:0.198602\n",
      "[686]\tvalidation_0-rmse:0.19861\n",
      "[687]\tvalidation_0-rmse:0.198617\n",
      "[688]\tvalidation_0-rmse:0.198607\n",
      "[689]\tvalidation_0-rmse:0.198519\n",
      "[690]\tvalidation_0-rmse:0.198548\n",
      "[691]\tvalidation_0-rmse:0.198534\n",
      "[692]\tvalidation_0-rmse:0.198541\n",
      "[693]\tvalidation_0-rmse:0.198482\n",
      "[694]\tvalidation_0-rmse:0.1985\n",
      "[695]\tvalidation_0-rmse:0.198487\n",
      "[696]\tvalidation_0-rmse:0.198415\n",
      "[697]\tvalidation_0-rmse:0.198504\n",
      "[698]\tvalidation_0-rmse:0.198543\n",
      "Stopping. Best iteration:\n",
      "[198]\tvalidation_0-rmse:0.192649\n",
      "\n"
     ]
    },
    {
     "data": {
      "text/plain": [
       "XGBRegressor(base_score=0.5, booster='gbtree', colsample_bylevel=1,\n",
       "       colsample_bytree=1, gamma=0, learning_rate=0.1, max_delta_step=0,\n",
       "       max_depth=2, min_child_weight=1, missing=None, n_estimators=1000,\n",
       "       n_jobs=1, nthread=None, objective='reg:linear', random_state=0,\n",
       "       reg_alpha=0, reg_lambda=1, scale_pos_weight=1, seed=None,\n",
       "       silent=True, subsample=1)"
      ]
     },
     "execution_count": 20,
     "metadata": {},
     "output_type": "execute_result"
    }
   ],
   "source": [
    "model_xgb = xgb.XGBRegressor(n_estimators=1000, max_depth=2, learning_rate=0.1)\n",
    "model_xgb.fit(X_tr, y_tr, eval_metric=\"rmse\", early_stopping_rounds=500, eval_set=eval_set, verbose=True)\n",
    "# model_xgb.fit(X, np.log1p(Y))"
   ]
  },
  {
   "cell_type": "code",
   "execution_count": 21,
   "metadata": {},
   "outputs": [
    {
     "name": "stdout",
     "output_type": "stream",
     "text": [
      "0.13280988268025357\n",
      "112997.66762242946\n"
     ]
    }
   ],
   "source": [
    "Ypred_xgb = np.expm1(model_xgb.predict(full_X))\n",
    "print(error(full_Y, Ypred_xgb))\n",
    "print(error_mse(full_Y, Ypred_xgb))"
   ]
  },
  {
   "cell_type": "markdown",
   "metadata": {},
   "source": [
    "#### test dataset"
   ]
  },
  {
   "cell_type": "code",
   "execution_count": 22,
   "metadata": {},
   "outputs": [
    {
     "name": "stdout",
     "output_type": "stream",
     "text": [
      "0.24110465357350375\n",
      "197307.14448948618\n"
     ]
    }
   ],
   "source": [
    "full_test_X = df_test[features_full_list]\n",
    "test_Y = df_test['SalePrice'].values\n",
    "\n",
    "test_pred = np.expm1(model_xgb.predict(full_test_X))\n",
    "\n",
    "print(error(test_Y, test_pred))\n",
    "print(error_mse(test_Y, test_pred))"
   ]
  },
  {
   "cell_type": "markdown",
   "metadata": {},
   "source": [
    "## MLP"
   ]
  },
  {
   "cell_type": "code",
   "execution_count": 23,
   "metadata": {},
   "outputs": [],
   "source": [
    "import tensorflow as tf\n",
    "from keras.layers import Dense\n",
    "from keras.models import Sequential\n",
    "from keras.regularizers import l1\n",
    "from keras.callbacks import EarlyStopping\n",
    "from keras.callbacks import ModelCheckpoint \n",
    "from keras.callbacks import LearningRateScheduler\n",
    "from keras import optimizers\n",
    "from sklearn.preprocessing import StandardScaler\n",
    "from keras import backend as K\n",
    "from keras import losses\n",
    "\n",
    "tf.logging.set_verbosity(tf.logging.ERROR)\n",
    "tf.set_random_seed(42)\n",
    "np.random.seed(42)"
   ]
  },
  {
   "cell_type": "code",
   "execution_count": 24,
   "metadata": {},
   "outputs": [],
   "source": [
    "mlp_feed = df_train[features]"
   ]
  },
  {
   "cell_type": "code",
   "execution_count": 25,
   "metadata": {},
   "outputs": [],
   "source": [
    "X_tr, X_val, y_tr, y_val = train_test_split(mlp_feed, np.log1p(Y), random_state = 7, test_size=0.20)"
   ]
  },
  {
   "cell_type": "code",
   "execution_count": 26,
   "metadata": {},
   "outputs": [],
   "source": [
    "model = Sequential()\n",
    "model.add(Dense(10, input_dim=mlp_feed.shape[1], activation='relu'))\n",
    "model.add(Dense(30, activation='relu'))\n",
    "model.add(Dense(40, activation='relu'))\n",
    "model.add(Dense(1))\n",
    "\n",
    "# adam = optimizers.Adam()\n",
    "# model.compile(loss = losses.mean_squared_error, optimizer = adam)\n",
    "\n",
    "model.compile(optimizer ='adam', loss = 'mean_squared_error', metrics =[metrics.mae])"
   ]
  },
  {
   "cell_type": "code",
   "execution_count": 27,
   "metadata": {},
   "outputs": [
    {
     "name": "stdout",
     "output_type": "stream",
     "text": [
      "_________________________________________________________________\n",
      "Layer (type)                 Output Shape              Param #   \n",
      "=================================================================\n",
      "dense_1 (Dense)              (None, 10)                130       \n",
      "_________________________________________________________________\n",
      "dense_2 (Dense)              (None, 30)                330       \n",
      "_________________________________________________________________\n",
      "dense_3 (Dense)              (None, 40)                1240      \n",
      "_________________________________________________________________\n",
      "dense_4 (Dense)              (None, 1)                 41        \n",
      "=================================================================\n",
      "Total params: 1,741\n",
      "Trainable params: 1,741\n",
      "Non-trainable params: 0\n",
      "_________________________________________________________________\n"
     ]
    }
   ],
   "source": [
    "model.summary()"
   ]
  },
  {
   "cell_type": "code",
   "execution_count": 28,
   "metadata": {},
   "outputs": [],
   "source": [
    "monitor = EarlyStopping(monitor='val_loss', min_delta=1e-4, patience=20, verbose=1, mode='auto')\n",
    "checkpointer = ModelCheckpoint(filepath=\"best_weights.hdf5\", verbose=0, save_best_only=True)  # save best model"
   ]
  },
  {
   "cell_type": "code",
   "execution_count": 29,
   "metadata": {},
   "outputs": [
    {
     "name": "stdout",
     "output_type": "stream",
     "text": [
      "Train on 1168 samples, validate on 292 samples\n",
      "Epoch 1/150\n",
      "1168/1168 [==============================] - 5s 5ms/step - loss: 720.0555 - mean_absolute_error: 9.2509 - val_loss: 30.5687 - val_mean_absolute_error: 3.6748\n",
      "Epoch 2/150\n",
      "1168/1168 [==============================] - 6s 5ms/step - loss: 39.8070 - mean_absolute_error: 4.5564 - val_loss: 17.3796 - val_mean_absolute_error: 2.9956\n",
      "Epoch 3/150\n",
      "1168/1168 [==============================] - 6s 5ms/step - loss: 32.1639 - mean_absolute_error: 4.0417 - val_loss: 23.9586 - val_mean_absolute_error: 4.1662\n",
      "Epoch 4/150\n",
      "1168/1168 [==============================] - 6s 5ms/step - loss: 43.9372 - mean_absolute_error: 4.0778 - val_loss: 8.3734 - val_mean_absolute_error: 2.1008\n",
      "Epoch 5/150\n",
      "1168/1168 [==============================] - 5s 5ms/step - loss: 16.2758 - mean_absolute_error: 2.8962 - val_loss: 20.7302 - val_mean_absolute_error: 2.8603\n",
      "Epoch 6/150\n",
      "1168/1168 [==============================] - 5s 5ms/step - loss: 14.3931 - mean_absolute_error: 2.3944 - val_loss: 7.1999 - val_mean_absolute_error: 2.5236\n",
      "Epoch 7/150\n",
      "1168/1168 [==============================] - 5s 5ms/step - loss: 10.0302 - mean_absolute_error: 2.0249 - val_loss: 1.2975 - val_mean_absolute_error: 0.8613\n",
      "Epoch 8/150\n",
      "1168/1168 [==============================] - 6s 5ms/step - loss: 7.0844 - mean_absolute_error: 1.5612 - val_loss: 4.4780 - val_mean_absolute_error: 1.6326\n",
      "Epoch 9/150\n",
      "1168/1168 [==============================] - 5s 5ms/step - loss: 6.0045 - mean_absolute_error: 1.3707 - val_loss: 0.3669 - val_mean_absolute_error: 0.3830\n",
      "Epoch 10/150\n",
      "1168/1168 [==============================] - 5s 5ms/step - loss: 2.1997 - mean_absolute_error: 1.0069 - val_loss: 1.1103 - val_mean_absolute_error: 0.8610\n",
      "Epoch 11/150\n",
      "1168/1168 [==============================] - 6s 5ms/step - loss: 5.2847 - mean_absolute_error: 1.4997 - val_loss: 0.9488 - val_mean_absolute_error: 0.7513\n",
      "Epoch 12/150\n",
      "1168/1168 [==============================] - 6s 5ms/step - loss: 1.9710 - mean_absolute_error: 0.8002 - val_loss: 0.4098 - val_mean_absolute_error: 0.4196\n",
      "Epoch 13/150\n",
      "1168/1168 [==============================] - 7s 6ms/step - loss: 3.0317 - mean_absolute_error: 1.0366 - val_loss: 1.6397 - val_mean_absolute_error: 1.0053\n",
      "Epoch 14/150\n",
      "1168/1168 [==============================] - 6s 5ms/step - loss: 2.1190 - mean_absolute_error: 0.8678 - val_loss: 0.3944 - val_mean_absolute_error: 0.3762\n",
      "Epoch 15/150\n",
      "1168/1168 [==============================] - 6s 5ms/step - loss: 2.5051 - mean_absolute_error: 0.8992 - val_loss: 2.5944 - val_mean_absolute_error: 1.4558\n",
      "Epoch 16/150\n",
      "1168/1168 [==============================] - 5s 5ms/step - loss: 1.2612 - mean_absolute_error: 0.6545 - val_loss: 1.0343 - val_mean_absolute_error: 0.9140\n",
      "Epoch 17/150\n",
      "1168/1168 [==============================] - 5s 4ms/step - loss: 0.7600 - mean_absolute_error: 0.6074 - val_loss: 0.2379 - val_mean_absolute_error: 0.3535\n",
      "Epoch 18/150\n",
      "1168/1168 [==============================] - 5s 4ms/step - loss: 4.4662 - mean_absolute_error: 0.9611 - val_loss: 1.4525 - val_mean_absolute_error: 1.0209\n",
      "Epoch 19/150\n",
      "1168/1168 [==============================] - 5s 4ms/step - loss: 0.5695 - mean_absolute_error: 0.5164 - val_loss: 0.3607 - val_mean_absolute_error: 0.5021\n",
      "Epoch 20/150\n",
      "1168/1168 [==============================] - 6s 5ms/step - loss: 0.6798 - mean_absolute_error: 0.5745 - val_loss: 0.7870 - val_mean_absolute_error: 0.7553\n",
      "Epoch 21/150\n",
      "1168/1168 [==============================] - 5s 4ms/step - loss: 0.4667 - mean_absolute_error: 0.5067 - val_loss: 0.1219 - val_mean_absolute_error: 0.2600\n",
      "Epoch 22/150\n",
      "1168/1168 [==============================] - 5s 4ms/step - loss: 0.5780 - mean_absolute_error: 0.5493 - val_loss: 0.5479 - val_mean_absolute_error: 0.6286\n",
      "Epoch 23/150\n",
      "1168/1168 [==============================] - 5s 4ms/step - loss: 0.7423 - mean_absolute_error: 0.5744 - val_loss: 0.2122 - val_mean_absolute_error: 0.3600\n",
      "Epoch 24/150\n",
      "1168/1168 [==============================] - 5s 4ms/step - loss: 0.4798 - mean_absolute_error: 0.4720 - val_loss: 0.1706 - val_mean_absolute_error: 0.3116\n",
      "Epoch 25/150\n",
      "1168/1168 [==============================] - 5s 4ms/step - loss: 0.2952 - mean_absolute_error: 0.4238 - val_loss: 0.1141 - val_mean_absolute_error: 0.2602\n",
      "Epoch 26/150\n",
      "1168/1168 [==============================] - 5s 4ms/step - loss: 0.5623 - mean_absolute_error: 0.5031 - val_loss: 2.3329 - val_mean_absolute_error: 1.4412\n",
      "Epoch 27/150\n",
      "1168/1168 [==============================] - 5s 4ms/step - loss: 0.2656 - mean_absolute_error: 0.3957 - val_loss: 0.1438 - val_mean_absolute_error: 0.2867\n",
      "Epoch 28/150\n",
      "1168/1168 [==============================] - 5s 4ms/step - loss: 0.4874 - mean_absolute_error: 0.4839 - val_loss: 0.1353 - val_mean_absolute_error: 0.2728\n",
      "Epoch 29/150\n",
      "1168/1168 [==============================] - 4s 3ms/step - loss: 0.2649 - mean_absolute_error: 0.3931 - val_loss: 0.1553 - val_mean_absolute_error: 0.3148\n",
      "Epoch 30/150\n",
      "1168/1168 [==============================] - 5s 4ms/step - loss: 0.3347 - mean_absolute_error: 0.4359 - val_loss: 0.0948 - val_mean_absolute_error: 0.2429\n",
      "Epoch 31/150\n",
      "1168/1168 [==============================] - 5s 4ms/step - loss: 0.3930 - mean_absolute_error: 0.4454 - val_loss: 0.2120 - val_mean_absolute_error: 0.3374\n",
      "Epoch 32/150\n",
      "1168/1168 [==============================] - 5s 4ms/step - loss: 0.2591 - mean_absolute_error: 0.3791 - val_loss: 0.2125 - val_mean_absolute_error: 0.3733\n",
      "Epoch 33/150\n",
      "1168/1168 [==============================] - 4s 4ms/step - loss: 0.2682 - mean_absolute_error: 0.3928 - val_loss: 0.1653 - val_mean_absolute_error: 0.3332\n",
      "Epoch 34/150\n",
      "1168/1168 [==============================] - 4s 4ms/step - loss: 0.2814 - mean_absolute_error: 0.4074 - val_loss: 0.2094 - val_mean_absolute_error: 0.3459\n",
      "Epoch 35/150\n",
      "1168/1168 [==============================] - 4s 4ms/step - loss: 0.2769 - mean_absolute_error: 0.3842 - val_loss: 0.1333 - val_mean_absolute_error: 0.2862\n",
      "Epoch 36/150\n",
      "1168/1168 [==============================] - 5s 4ms/step - loss: 0.2168 - mean_absolute_error: 0.3547 - val_loss: 0.2643 - val_mean_absolute_error: 0.4311\n",
      "Epoch 37/150\n",
      "1168/1168 [==============================] - 4s 4ms/step - loss: 0.2145 - mean_absolute_error: 0.3532 - val_loss: 0.2652 - val_mean_absolute_error: 0.4414\n",
      "Epoch 38/150\n",
      "1168/1168 [==============================] - 4s 4ms/step - loss: 0.2696 - mean_absolute_error: 0.3896 - val_loss: 0.2972 - val_mean_absolute_error: 0.4665\n",
      "Epoch 39/150\n",
      "1168/1168 [==============================] - 4s 3ms/step - loss: 0.2234 - mean_absolute_error: 0.3573 - val_loss: 0.0880 - val_mean_absolute_error: 0.2268\n",
      "Epoch 40/150\n",
      "1168/1168 [==============================] - 5s 4ms/step - loss: 0.2165 - mean_absolute_error: 0.3580 - val_loss: 0.2118 - val_mean_absolute_error: 0.3597\n",
      "Epoch 41/150\n",
      "1168/1168 [==============================] - 4s 4ms/step - loss: 0.2277 - mean_absolute_error: 0.3598 - val_loss: 0.4461 - val_mean_absolute_error: 0.5802\n",
      "Epoch 42/150\n",
      "1168/1168 [==============================] - 4s 4ms/step - loss: 0.2489 - mean_absolute_error: 0.3820 - val_loss: 0.1422 - val_mean_absolute_error: 0.2629\n",
      "Epoch 43/150\n",
      "1168/1168 [==============================] - 5s 4ms/step - loss: 0.2018 - mean_absolute_error: 0.3514 - val_loss: 0.8747 - val_mean_absolute_error: 0.8542\n",
      "Epoch 44/150\n",
      "1168/1168 [==============================] - 7s 6ms/step - loss: 0.2253 - mean_absolute_error: 0.3567 - val_loss: 0.1848 - val_mean_absolute_error: 0.3516\n",
      "Epoch 45/150\n",
      "1168/1168 [==============================] - 6s 5ms/step - loss: 0.2518 - mean_absolute_error: 0.3834 - val_loss: 0.7098 - val_mean_absolute_error: 0.5885\n",
      "Epoch 46/150\n",
      "1168/1168 [==============================] - 6s 5ms/step - loss: 0.2331 - mean_absolute_error: 0.3683 - val_loss: 0.1174 - val_mean_absolute_error: 0.2669\n",
      "Epoch 47/150\n",
      "1168/1168 [==============================] - 6s 5ms/step - loss: 0.1962 - mean_absolute_error: 0.3414 - val_loss: 0.2188 - val_mean_absolute_error: 0.3910\n",
      "Epoch 48/150\n",
      "1168/1168 [==============================] - 5s 5ms/step - loss: 0.2049 - mean_absolute_error: 0.3409 - val_loss: 0.1101 - val_mean_absolute_error: 0.2680\n",
      "Epoch 49/150\n"
     ]
    },
    {
     "name": "stdout",
     "output_type": "stream",
     "text": [
      "1168/1168 [==============================] - 6s 5ms/step - loss: 0.2164 - mean_absolute_error: 0.3524 - val_loss: 0.0967 - val_mean_absolute_error: 0.2341\n",
      "Epoch 50/150\n",
      "1168/1168 [==============================] - 6s 5ms/step - loss: 0.1865 - mean_absolute_error: 0.3276 - val_loss: 0.1891 - val_mean_absolute_error: 0.3369\n",
      "Epoch 51/150\n",
      "1168/1168 [==============================] - 6s 5ms/step - loss: 0.2279 - mean_absolute_error: 0.3629 - val_loss: 0.1977 - val_mean_absolute_error: 0.3650\n",
      "Epoch 52/150\n",
      "1168/1168 [==============================] - 6s 5ms/step - loss: 0.2207 - mean_absolute_error: 0.3527 - val_loss: 0.1893 - val_mean_absolute_error: 0.3124\n",
      "Epoch 53/150\n",
      "1168/1168 [==============================] - 6s 5ms/step - loss: 0.1724 - mean_absolute_error: 0.3181 - val_loss: 0.1277 - val_mean_absolute_error: 0.2695\n",
      "Epoch 54/150\n",
      "1168/1168 [==============================] - 6s 5ms/step - loss: 0.2035 - mean_absolute_error: 0.3402 - val_loss: 0.1342 - val_mean_absolute_error: 0.2797\n",
      "Epoch 55/150\n",
      "1168/1168 [==============================] - 6s 5ms/step - loss: 0.2072 - mean_absolute_error: 0.3498 - val_loss: 0.3197 - val_mean_absolute_error: 0.4376\n",
      "Epoch 56/150\n",
      "1168/1168 [==============================] - 6s 5ms/step - loss: 0.1792 - mean_absolute_error: 0.3259 - val_loss: 0.1059 - val_mean_absolute_error: 0.2392\n",
      "Epoch 57/150\n",
      "1168/1168 [==============================] - 6s 5ms/step - loss: 0.2177 - mean_absolute_error: 0.3551 - val_loss: 0.0887 - val_mean_absolute_error: 0.2209\n",
      "Epoch 58/150\n",
      "1168/1168 [==============================] - 6s 5ms/step - loss: 0.1883 - mean_absolute_error: 0.3369 - val_loss: 0.0935 - val_mean_absolute_error: 0.2423\n",
      "Epoch 59/150\n",
      "1168/1168 [==============================] - 6s 5ms/step - loss: 0.1951 - mean_absolute_error: 0.3406 - val_loss: 0.2148 - val_mean_absolute_error: 0.3636\n",
      "Epoch 00059: early stopping\n"
     ]
    }
   ],
   "source": [
    "hist = model.fit(X_tr, y_tr, \n",
    "                 batch_size=1, \n",
    "                 validation_data = (X_val, y_val), \n",
    "                 callbacks=[monitor, checkpointer], \n",
    "                 verbose=1, \n",
    "                 epochs=150)"
   ]
  },
  {
   "cell_type": "code",
   "execution_count": 30,
   "metadata": {},
   "outputs": [
    {
     "name": "stdout",
     "output_type": "stream",
     "text": [
      "25.041547305453207\n",
      "20989842.58853919\n"
     ]
    }
   ],
   "source": [
    "model.load_weights('best_weights.hdf5')  # load weights from best model\n",
    "\n",
    "# Measure accuracy\n",
    "Ypred_mlp = np.expm1(model.predict(mlp_feed))\n",
    "print(error(df_train['SalePrice'].values,Ypred_mlp))\n",
    "print(error_mse(df_train['SalePrice'].values, Ypred_mlp))"
   ]
  },
  {
   "cell_type": "markdown",
   "metadata": {},
   "source": [
    "#### test dataset"
   ]
  },
  {
   "cell_type": "code",
   "execution_count": 31,
   "metadata": {},
   "outputs": [
    {
     "name": "stdout",
     "output_type": "stream",
     "text": [
      "108.42402878063507\n",
      "302852856.0765838\n"
     ]
    }
   ],
   "source": [
    "full_test_X = df_test[features]\n",
    "test_Y = df_test['SalePrice'].values\n",
    "\n",
    "test_pred = np.expm1(model.predict(full_test_X))\n",
    "\n",
    "print(error(test_Y, test_pred))\n",
    "print(error_mse(test_Y, test_pred))"
   ]
  },
  {
   "cell_type": "markdown",
   "metadata": {},
   "source": [
    "### RandomForest"
   ]
  },
  {
   "cell_type": "code",
   "execution_count": 32,
   "metadata": {},
   "outputs": [
    {
     "name": "stdout",
     "output_type": "stream",
     "text": [
      "0.07009733189536754\n",
      "78524.05141285651\n"
     ]
    }
   ],
   "source": [
    "X = df_train_cleaned[features_full_list]\n",
    "Y = df_train_cleaned['SalePrice'].values\n",
    "\n",
    "full_X = df_train[features_full_list]\n",
    "full_Y = df_train['SalePrice'].values\n",
    "\n",
    "randomForest = ensemble.RandomForestRegressor(n_estimators=100)\n",
    "randomForest.fit(X, np.log1p(Y))\n",
    "Ypred_randomForest = np.expm1(randomForest.predict(full_X))\n",
    "print(error(full_Y,Ypred_randomForest))\n",
    "print(error_mse(full_Y, Ypred_randomForest))"
   ]
  },
  {
   "cell_type": "markdown",
   "metadata": {},
   "source": [
    "#### test dataset"
   ]
  },
  {
   "cell_type": "code",
   "execution_count": 33,
   "metadata": {},
   "outputs": [
    {
     "name": "stdout",
     "output_type": "stream",
     "text": [
      "0.24505233919431094\n",
      "204323.7161365343\n"
     ]
    }
   ],
   "source": [
    "full_test_X = df_test[features_full_list]\n",
    "test_Y = df_test['SalePrice'].values\n",
    "\n",
    "test_pred = np.expm1(randomForest.predict(full_test_X))\n",
    "\n",
    "print(error(test_Y, test_pred))\n",
    "print(error_mse(test_Y, test_pred))"
   ]
  },
  {
   "cell_type": "markdown",
   "metadata": {},
   "source": [
    "### KNeighbors"
   ]
  },
  {
   "cell_type": "code",
   "execution_count": 34,
   "metadata": {},
   "outputs": [
    {
     "name": "stdout",
     "output_type": "stream",
     "text": [
      "0.29462875468733285\n",
      "247481.4933400999\n"
     ]
    }
   ],
   "source": [
    "X = df_train_cleaned[features_full_list]\n",
    "Y = df_train_cleaned['SalePrice'].values\n",
    "\n",
    "full_X = df_train[features_full_list]\n",
    "full_Y = df_train['SalePrice'].values\n",
    "\n",
    "knn = neighbors.KNeighborsRegressor()\n",
    "knn.fit(X, np.log1p(Y))\n",
    "Ypred_knn = np.expm1(knn.predict(full_X))\n",
    "print(error(full_Y,Ypred_knn))\n",
    "print(error_mse(full_Y, Ypred_knn))"
   ]
  },
  {
   "cell_type": "markdown",
   "metadata": {},
   "source": [
    "#### test dataset"
   ]
  },
  {
   "cell_type": "code",
   "execution_count": 35,
   "metadata": {},
   "outputs": [
    {
     "name": "stdout",
     "output_type": "stream",
     "text": [
      "0.47424494735900696\n",
      "322043.9033543209\n"
     ]
    }
   ],
   "source": [
    "full_test_X = df_test[features_full_list]\n",
    "test_Y = df_test['SalePrice'].values\n",
    "\n",
    "test_pred = np.expm1(knn.predict(full_test_X))\n",
    "\n",
    "print(error(test_Y, test_pred))\n",
    "print(error_mse(test_Y, test_pred))"
   ]
  },
  {
   "cell_type": "markdown",
   "metadata": {},
   "source": [
    "### SVR"
   ]
  },
  {
   "cell_type": "code",
   "execution_count": 36,
   "metadata": {},
   "outputs": [
    {
     "name": "stdout",
     "output_type": "stream",
     "text": [
      "0.12440581903793556\n",
      "160449.9914878443\n"
     ]
    }
   ],
   "source": [
    "X = df_train_cleaned[features_full_list]\n",
    "Y = df_train_cleaned['SalePrice'].values\n",
    "\n",
    "full_X = df_train[features_full_list]\n",
    "full_Y = df_train['SalePrice'].values\n",
    "\n",
    "svr = svm.SVR()\n",
    "svr.fit(X, np.log1p(Y))\n",
    "Ypred_svr = np.expm1(svr.predict(full_X))\n",
    "print(error(full_Y,Ypred_svr))\n",
    "print(error_mse(full_Y, Ypred_svr))"
   ]
  },
  {
   "cell_type": "markdown",
   "metadata": {},
   "source": [
    "#### test dataset"
   ]
  },
  {
   "cell_type": "code",
   "execution_count": 37,
   "metadata": {},
   "outputs": [
    {
     "name": "stdout",
     "output_type": "stream",
     "text": [
      "0.5404044439501173\n",
      "365521.5278703551\n"
     ]
    }
   ],
   "source": [
    "full_test_X = df_test[features_full_list]\n",
    "test_Y = df_test['SalePrice'].values\n",
    "\n",
    "test_pred = np.expm1(svr.predict(full_test_X))\n",
    "\n",
    "print(error(test_Y, test_pred))\n",
    "print(error_mse(test_Y, test_pred))"
   ]
  },
  {
   "cell_type": "markdown",
   "metadata": {},
   "source": [
    "## Compare results"
   ]
  },
  {
   "cell_type": "code",
   "execution_count": 38,
   "metadata": {},
   "outputs": [
    {
     "data": {
      "text/plain": [
       "<matplotlib.axes._subplots.AxesSubplot at 0x7fc61c6b2080>"
      ]
     },
     "execution_count": 38,
     "metadata": {},
     "output_type": "execute_result"
    },
    {
     "data": {
      "image/png": "[encoded data removed]",
      "text/plain": [
       "<matplotlib.figure.Figure at 0x7fc67402a630>"
      ]
     },
     "metadata": {},
     "output_type": "display_data"
    }
   ],
   "source": [
    "predictions = pd.DataFrame({\"xgb\":Ypred_xgb, \"lasso\":Ypred_lasso})\n",
    "predictions.plot(x = \"xgb\", y = \"lasso\", kind = \"scatter\", grid=True)"
   ]
  },
  {
   "cell_type": "code",
   "execution_count": 39,
   "metadata": {},
   "outputs": [
    {
     "data": {
      "text/plain": [
       "<matplotlib.axes._subplots.AxesSubplot at 0x7fc63116d780>"
      ]
     },
     "execution_count": 39,
     "metadata": {},
     "output_type": "execute_result"
    },
    {
     "data": {
      "image/png": "[encoded data removed]",
      "text/plain": [
       "<matplotlib.figure.Figure at 0x7fc61c67e1d0>"
      ]
     },
     "metadata": {},
     "output_type": "display_data"
    }
   ],
   "source": [
    "predictions = pd.DataFrame({\"xgb\":Ypred_xgb, \"rigde\":Ypred_ridge})\n",
    "predictions.plot(x = \"xgb\", y = \"rigde\", kind = \"scatter\", grid=True)"
   ]
  },
  {
   "cell_type": "code",
   "execution_count": 40,
   "metadata": {},
   "outputs": [
    {
     "data": {
      "text/plain": [
       "<matplotlib.axes._subplots.AxesSubplot at 0x7fc61c6557f0>"
      ]
     },
     "execution_count": 40,
     "metadata": {},
     "output_type": "execute_result"
    },
    {
     "data": {
      "image/png": "[encoded data removed]",
      "text/plain": [
       "<matplotlib.figure.Figure at 0x7fc61c6b2588>"
      ]
     },
     "metadata": {},
     "output_type": "display_data"
    }
   ],
   "source": [
    "predictions = pd.DataFrame({\"xgb\":Ypred_xgb, \"linear\":Ypred_linear})\n",
    "predictions.plot(x = \"xgb\", y = \"linear\", kind = \"scatter\", grid=True)"
   ]
  },
  {
   "cell_type": "code",
   "execution_count": 41,
   "metadata": {},
   "outputs": [
    {
     "data": {
      "text/plain": [
       "<matplotlib.axes._subplots.AxesSubplot at 0x7fc61c6b2898>"
      ]
     },
     "execution_count": 41,
     "metadata": {},
     "output_type": "execute_result"
    },
    {
     "data": {
      "image/png": "[encoded data removed]",
      "text/plain": [
       "<matplotlib.figure.Figure at 0x7fc61c655ba8>"
      ]
     },
     "metadata": {},
     "output_type": "display_data"
    }
   ],
   "source": [
    "predictions = pd.DataFrame({\"xgb\":Ypred_xgb, \"randomForest\":Ypred_randomForest})\n",
    "predictions.plot(x = \"xgb\", y = \"randomForest\", kind = \"scatter\", grid=True)"
   ]
  },
  {
   "cell_type": "code",
   "execution_count": 42,
   "metadata": {},
   "outputs": [
    {
     "data": {
      "text/plain": [
       "<matplotlib.axes._subplots.AxesSubplot at 0x7fc61c174c88>"
      ]
     },
     "execution_count": 42,
     "metadata": {},
     "output_type": "execute_result"
    },
    {
     "data": {
      "image/png": "[encoded data removed]",
      "text/plain": [
       "<matplotlib.figure.Figure at 0x7fc61c1b2b70>"
      ]
     },
     "metadata": {},
     "output_type": "display_data"
    }
   ],
   "source": [
    "predictions = pd.DataFrame({\"xgb\":Ypred_xgb, \"knn\":Ypred_knn})\n",
    "predictions.plot(x = \"xgb\", y = \"knn\", kind = \"scatter\", grid=True)"
   ]
  },
  {
   "cell_type": "code",
   "execution_count": 43,
   "metadata": {},
   "outputs": [
    {
     "data": {
      "text/plain": [
       "<matplotlib.axes._subplots.AxesSubplot at 0x7fc61c0d82b0>"
      ]
     },
     "execution_count": 43,
     "metadata": {},
     "output_type": "execute_result"
    },
    {
     "data": {
      "image/png": "[encoded data removed]",
      "text/plain": [
       "<matplotlib.figure.Figure at 0x7fc61c103c88>"
      ]
     },
     "metadata": {},
     "output_type": "display_data"
    }
   ],
   "source": [
    "predictions = pd.DataFrame({\"xgb\":Ypred_xgb, \"svr\":Ypred_svr})\n",
    "predictions.plot(x = \"xgb\", y = \"svr\", kind = \"scatter\", grid=True)"
   ]
  },
  {
   "cell_type": "code",
   "execution_count": null,
   "metadata": {},
   "outputs": [],
   "source": []
  }
 ],
 "metadata": {
  "kernelspec": {
   "display_name": "Python 3",
   "language": "python",
   "name": "python3"
  },
  "language_info": {
   "codemirror_mode": {
    "name": "ipython",
    "version": 3
   },
   "file_extension": ".py",
   "mimetype": "text/x-python",
   "name": "python",
   "nbconvert_exporter": "python",
   "pygments_lexer": "ipython3",
   "version": "3.6.4"
  }
 },
 "nbformat": 4,
 "nbformat_minor": 1
}
